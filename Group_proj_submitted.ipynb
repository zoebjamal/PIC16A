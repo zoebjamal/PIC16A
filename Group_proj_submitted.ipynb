{
 "cells": [
  {
   "cell_type": "markdown",
   "metadata": {},
   "source": [
    "# Group contribution statement"
   ]
  },
  {
   "cell_type": "markdown",
   "metadata": {},
   "source": [
    "We worked on this project much like a discussion worksheet, in which we all collaborated and contributed equally and at the same time. We set times to meet throughout the week to work on this assignment. We were able to repurpose most of our code from old discussion worksheets and HW 7. When it came to adding expository text, Claire worked on SVM, Emma worked on Logistic Regression, and Zoeb worked on Decision Trees. "
   ]
  },
  {
   "cell_type": "markdown",
   "metadata": {},
   "source": [
    "### Important Recurring Terms\n",
    "- Machine learning: this is a process through which we *train* a model by allowing it to figure out mathematical connections between attributes of a dataset and hopefully teach it to correctly predict something. In this case, we want our model to be able to predict the species of a penguin based on some characteristics, like the length and depth of its Culmen. \n",
    "- Preprocessing: cleaning up the original dataset to help our model accurately make predictions\n",
    "- Train/test split: Here, we are splitting the original dataset into a training and testing split. We will *train* the model using 80% of the data and then check to see how accurate it is by comparing predictions it makes on the *test* set to the actual species of penguins in the *test* set. \n",
    "- Predictor Variables: These are columns of the dataset we will be using to make our predictions. Things like `Culmen Length (mm)`, `Culmen Depth (mm)`, and other penguin characteristics are predictor variables\n",
    "- Target Variables: This is an aspect of the penguins that we want the machine learning model to predict. Aspects like `Species` or `Sex` could be viable target variables\n",
    "- Optimal Model Complexity: All machine learning models have an attribute called 'model complexity.' Essentially, if you have a more complex model, it will be able to make more connections in the data it is trained on. However, this may not translate directly to better performance in the test set..."
   ]
  },
  {
   "cell_type": "markdown",
   "metadata": {},
   "source": [
    "### Importing Modules and dataset\n",
    "The dataset we are using is palmer penguins. This dataset includes several measurements taken for 344 penguins in Antarctica. "
   ]
  },
  {
   "cell_type": "code",
   "execution_count": 1,
   "metadata": {},
   "outputs": [],
   "source": [
    "# importing modules\n",
    "import pandas as pd\n",
    "from matplotlib import pyplot as plt\n",
    "from sklearn import tree, preprocessing\n",
    "import numpy as np"
   ]
  },
  {
   "cell_type": "code",
   "execution_count": 2,
   "metadata": {},
   "outputs": [],
   "source": [
    "# loading the data\n",
    "url = \"https://philchodrow.github.io/PIC16A/datasets/palmer_penguins.csv\"\n",
    "penguins = pd.read_csv(url)"
   ]
  },
  {
   "cell_type": "code",
   "execution_count": 3,
   "metadata": {},
   "outputs": [],
   "source": [
    "# shorten the species name for simplicity\n",
    "penguins[\"Species\"] = penguins[\"Species\"].str.split().str.get(0)"
   ]
  },
  {
   "cell_type": "code",
   "execution_count": 4,
   "metadata": {},
   "outputs": [
    {
     "data": {
      "text/html": [
       "<div>\n",
       "<style scoped>\n",
       "    .dataframe tbody tr th:only-of-type {\n",
       "        vertical-align: middle;\n",
       "    }\n",
       "\n",
       "    .dataframe tbody tr th {\n",
       "        vertical-align: top;\n",
       "    }\n",
       "\n",
       "    .dataframe thead th {\n",
       "        text-align: right;\n",
       "    }\n",
       "</style>\n",
       "<table border=\"1\" class=\"dataframe\">\n",
       "  <thead>\n",
       "    <tr style=\"text-align: right;\">\n",
       "      <th></th>\n",
       "      <th>studyName</th>\n",
       "      <th>Sample Number</th>\n",
       "      <th>Species</th>\n",
       "      <th>Region</th>\n",
       "      <th>Island</th>\n",
       "      <th>Stage</th>\n",
       "      <th>Individual ID</th>\n",
       "      <th>Clutch Completion</th>\n",
       "      <th>Date Egg</th>\n",
       "      <th>Culmen Length (mm)</th>\n",
       "      <th>Culmen Depth (mm)</th>\n",
       "      <th>Flipper Length (mm)</th>\n",
       "      <th>Body Mass (g)</th>\n",
       "      <th>Sex</th>\n",
       "      <th>Delta 15 N (o/oo)</th>\n",
       "      <th>Delta 13 C (o/oo)</th>\n",
       "      <th>Comments</th>\n",
       "    </tr>\n",
       "  </thead>\n",
       "  <tbody>\n",
       "    <tr>\n",
       "      <th>0</th>\n",
       "      <td>PAL0708</td>\n",
       "      <td>1</td>\n",
       "      <td>Adelie</td>\n",
       "      <td>Anvers</td>\n",
       "      <td>Torgersen</td>\n",
       "      <td>Adult, 1 Egg Stage</td>\n",
       "      <td>N1A1</td>\n",
       "      <td>Yes</td>\n",
       "      <td>11/11/07</td>\n",
       "      <td>39.1</td>\n",
       "      <td>18.7</td>\n",
       "      <td>181.0</td>\n",
       "      <td>3750.0</td>\n",
       "      <td>MALE</td>\n",
       "      <td>NaN</td>\n",
       "      <td>NaN</td>\n",
       "      <td>Not enough blood for isotopes.</td>\n",
       "    </tr>\n",
       "    <tr>\n",
       "      <th>1</th>\n",
       "      <td>PAL0708</td>\n",
       "      <td>2</td>\n",
       "      <td>Adelie</td>\n",
       "      <td>Anvers</td>\n",
       "      <td>Torgersen</td>\n",
       "      <td>Adult, 1 Egg Stage</td>\n",
       "      <td>N1A2</td>\n",
       "      <td>Yes</td>\n",
       "      <td>11/11/07</td>\n",
       "      <td>39.5</td>\n",
       "      <td>17.4</td>\n",
       "      <td>186.0</td>\n",
       "      <td>3800.0</td>\n",
       "      <td>FEMALE</td>\n",
       "      <td>8.94956</td>\n",
       "      <td>-24.69454</td>\n",
       "      <td>NaN</td>\n",
       "    </tr>\n",
       "    <tr>\n",
       "      <th>2</th>\n",
       "      <td>PAL0708</td>\n",
       "      <td>3</td>\n",
       "      <td>Adelie</td>\n",
       "      <td>Anvers</td>\n",
       "      <td>Torgersen</td>\n",
       "      <td>Adult, 1 Egg Stage</td>\n",
       "      <td>N2A1</td>\n",
       "      <td>Yes</td>\n",
       "      <td>11/16/07</td>\n",
       "      <td>40.3</td>\n",
       "      <td>18.0</td>\n",
       "      <td>195.0</td>\n",
       "      <td>3250.0</td>\n",
       "      <td>FEMALE</td>\n",
       "      <td>8.36821</td>\n",
       "      <td>-25.33302</td>\n",
       "      <td>NaN</td>\n",
       "    </tr>\n",
       "    <tr>\n",
       "      <th>3</th>\n",
       "      <td>PAL0708</td>\n",
       "      <td>4</td>\n",
       "      <td>Adelie</td>\n",
       "      <td>Anvers</td>\n",
       "      <td>Torgersen</td>\n",
       "      <td>Adult, 1 Egg Stage</td>\n",
       "      <td>N2A2</td>\n",
       "      <td>Yes</td>\n",
       "      <td>11/16/07</td>\n",
       "      <td>NaN</td>\n",
       "      <td>NaN</td>\n",
       "      <td>NaN</td>\n",
       "      <td>NaN</td>\n",
       "      <td>NaN</td>\n",
       "      <td>NaN</td>\n",
       "      <td>NaN</td>\n",
       "      <td>Adult not sampled.</td>\n",
       "    </tr>\n",
       "    <tr>\n",
       "      <th>4</th>\n",
       "      <td>PAL0708</td>\n",
       "      <td>5</td>\n",
       "      <td>Adelie</td>\n",
       "      <td>Anvers</td>\n",
       "      <td>Torgersen</td>\n",
       "      <td>Adult, 1 Egg Stage</td>\n",
       "      <td>N3A1</td>\n",
       "      <td>Yes</td>\n",
       "      <td>11/16/07</td>\n",
       "      <td>36.7</td>\n",
       "      <td>19.3</td>\n",
       "      <td>193.0</td>\n",
       "      <td>3450.0</td>\n",
       "      <td>FEMALE</td>\n",
       "      <td>8.76651</td>\n",
       "      <td>-25.32426</td>\n",
       "      <td>NaN</td>\n",
       "    </tr>\n",
       "    <tr>\n",
       "      <th>...</th>\n",
       "      <td>...</td>\n",
       "      <td>...</td>\n",
       "      <td>...</td>\n",
       "      <td>...</td>\n",
       "      <td>...</td>\n",
       "      <td>...</td>\n",
       "      <td>...</td>\n",
       "      <td>...</td>\n",
       "      <td>...</td>\n",
       "      <td>...</td>\n",
       "      <td>...</td>\n",
       "      <td>...</td>\n",
       "      <td>...</td>\n",
       "      <td>...</td>\n",
       "      <td>...</td>\n",
       "      <td>...</td>\n",
       "      <td>...</td>\n",
       "    </tr>\n",
       "    <tr>\n",
       "      <th>339</th>\n",
       "      <td>PAL0910</td>\n",
       "      <td>120</td>\n",
       "      <td>Gentoo</td>\n",
       "      <td>Anvers</td>\n",
       "      <td>Biscoe</td>\n",
       "      <td>Adult, 1 Egg Stage</td>\n",
       "      <td>N38A2</td>\n",
       "      <td>No</td>\n",
       "      <td>12/1/09</td>\n",
       "      <td>NaN</td>\n",
       "      <td>NaN</td>\n",
       "      <td>NaN</td>\n",
       "      <td>NaN</td>\n",
       "      <td>NaN</td>\n",
       "      <td>NaN</td>\n",
       "      <td>NaN</td>\n",
       "      <td>NaN</td>\n",
       "    </tr>\n",
       "    <tr>\n",
       "      <th>340</th>\n",
       "      <td>PAL0910</td>\n",
       "      <td>121</td>\n",
       "      <td>Gentoo</td>\n",
       "      <td>Anvers</td>\n",
       "      <td>Biscoe</td>\n",
       "      <td>Adult, 1 Egg Stage</td>\n",
       "      <td>N39A1</td>\n",
       "      <td>Yes</td>\n",
       "      <td>11/22/09</td>\n",
       "      <td>46.8</td>\n",
       "      <td>14.3</td>\n",
       "      <td>215.0</td>\n",
       "      <td>4850.0</td>\n",
       "      <td>FEMALE</td>\n",
       "      <td>8.41151</td>\n",
       "      <td>-26.13832</td>\n",
       "      <td>NaN</td>\n",
       "    </tr>\n",
       "    <tr>\n",
       "      <th>341</th>\n",
       "      <td>PAL0910</td>\n",
       "      <td>122</td>\n",
       "      <td>Gentoo</td>\n",
       "      <td>Anvers</td>\n",
       "      <td>Biscoe</td>\n",
       "      <td>Adult, 1 Egg Stage</td>\n",
       "      <td>N39A2</td>\n",
       "      <td>Yes</td>\n",
       "      <td>11/22/09</td>\n",
       "      <td>50.4</td>\n",
       "      <td>15.7</td>\n",
       "      <td>222.0</td>\n",
       "      <td>5750.0</td>\n",
       "      <td>MALE</td>\n",
       "      <td>8.30166</td>\n",
       "      <td>-26.04117</td>\n",
       "      <td>NaN</td>\n",
       "    </tr>\n",
       "    <tr>\n",
       "      <th>342</th>\n",
       "      <td>PAL0910</td>\n",
       "      <td>123</td>\n",
       "      <td>Gentoo</td>\n",
       "      <td>Anvers</td>\n",
       "      <td>Biscoe</td>\n",
       "      <td>Adult, 1 Egg Stage</td>\n",
       "      <td>N43A1</td>\n",
       "      <td>Yes</td>\n",
       "      <td>11/22/09</td>\n",
       "      <td>45.2</td>\n",
       "      <td>14.8</td>\n",
       "      <td>212.0</td>\n",
       "      <td>5200.0</td>\n",
       "      <td>FEMALE</td>\n",
       "      <td>8.24246</td>\n",
       "      <td>-26.11969</td>\n",
       "      <td>NaN</td>\n",
       "    </tr>\n",
       "    <tr>\n",
       "      <th>343</th>\n",
       "      <td>PAL0910</td>\n",
       "      <td>124</td>\n",
       "      <td>Gentoo</td>\n",
       "      <td>Anvers</td>\n",
       "      <td>Biscoe</td>\n",
       "      <td>Adult, 1 Egg Stage</td>\n",
       "      <td>N43A2</td>\n",
       "      <td>Yes</td>\n",
       "      <td>11/22/09</td>\n",
       "      <td>49.9</td>\n",
       "      <td>16.1</td>\n",
       "      <td>213.0</td>\n",
       "      <td>5400.0</td>\n",
       "      <td>MALE</td>\n",
       "      <td>8.36390</td>\n",
       "      <td>-26.15531</td>\n",
       "      <td>NaN</td>\n",
       "    </tr>\n",
       "  </tbody>\n",
       "</table>\n",
       "<p>344 rows × 17 columns</p>\n",
       "</div>"
      ],
      "text/plain": [
       "    studyName  Sample Number Species  Region     Island               Stage  \\\n",
       "0     PAL0708              1  Adelie  Anvers  Torgersen  Adult, 1 Egg Stage   \n",
       "1     PAL0708              2  Adelie  Anvers  Torgersen  Adult, 1 Egg Stage   \n",
       "2     PAL0708              3  Adelie  Anvers  Torgersen  Adult, 1 Egg Stage   \n",
       "3     PAL0708              4  Adelie  Anvers  Torgersen  Adult, 1 Egg Stage   \n",
       "4     PAL0708              5  Adelie  Anvers  Torgersen  Adult, 1 Egg Stage   \n",
       "..        ...            ...     ...     ...        ...                 ...   \n",
       "339   PAL0910            120  Gentoo  Anvers     Biscoe  Adult, 1 Egg Stage   \n",
       "340   PAL0910            121  Gentoo  Anvers     Biscoe  Adult, 1 Egg Stage   \n",
       "341   PAL0910            122  Gentoo  Anvers     Biscoe  Adult, 1 Egg Stage   \n",
       "342   PAL0910            123  Gentoo  Anvers     Biscoe  Adult, 1 Egg Stage   \n",
       "343   PAL0910            124  Gentoo  Anvers     Biscoe  Adult, 1 Egg Stage   \n",
       "\n",
       "    Individual ID Clutch Completion  Date Egg  Culmen Length (mm)  \\\n",
       "0            N1A1               Yes  11/11/07                39.1   \n",
       "1            N1A2               Yes  11/11/07                39.5   \n",
       "2            N2A1               Yes  11/16/07                40.3   \n",
       "3            N2A2               Yes  11/16/07                 NaN   \n",
       "4            N3A1               Yes  11/16/07                36.7   \n",
       "..            ...               ...       ...                 ...   \n",
       "339         N38A2                No   12/1/09                 NaN   \n",
       "340         N39A1               Yes  11/22/09                46.8   \n",
       "341         N39A2               Yes  11/22/09                50.4   \n",
       "342         N43A1               Yes  11/22/09                45.2   \n",
       "343         N43A2               Yes  11/22/09                49.9   \n",
       "\n",
       "     Culmen Depth (mm)  Flipper Length (mm)  Body Mass (g)     Sex  \\\n",
       "0                 18.7                181.0         3750.0    MALE   \n",
       "1                 17.4                186.0         3800.0  FEMALE   \n",
       "2                 18.0                195.0         3250.0  FEMALE   \n",
       "3                  NaN                  NaN            NaN     NaN   \n",
       "4                 19.3                193.0         3450.0  FEMALE   \n",
       "..                 ...                  ...            ...     ...   \n",
       "339                NaN                  NaN            NaN     NaN   \n",
       "340               14.3                215.0         4850.0  FEMALE   \n",
       "341               15.7                222.0         5750.0    MALE   \n",
       "342               14.8                212.0         5200.0  FEMALE   \n",
       "343               16.1                213.0         5400.0    MALE   \n",
       "\n",
       "     Delta 15 N (o/oo)  Delta 13 C (o/oo)                        Comments  \n",
       "0                  NaN                NaN  Not enough blood for isotopes.  \n",
       "1              8.94956          -24.69454                             NaN  \n",
       "2              8.36821          -25.33302                             NaN  \n",
       "3                  NaN                NaN              Adult not sampled.  \n",
       "4              8.76651          -25.32426                             NaN  \n",
       "..                 ...                ...                             ...  \n",
       "339                NaN                NaN                             NaN  \n",
       "340            8.41151          -26.13832                             NaN  \n",
       "341            8.30166          -26.04117                             NaN  \n",
       "342            8.24246          -26.11969                             NaN  \n",
       "343            8.36390          -26.15531                             NaN  \n",
       "\n",
       "[344 rows x 17 columns]"
      ]
     },
     "execution_count": 4,
     "metadata": {},
     "output_type": "execute_result"
    }
   ],
   "source": [
    "penguins"
   ]
  },
  {
   "cell_type": "markdown",
   "metadata": {},
   "source": [
    "# Exploratory analysis\n",
    "In this dataset, we can clearly see that we have a bunch of columns that give us various pieces of information about the penguins. Before doing any Machine Learning, lets see if we can learn anything about the penguins by exploring the data."
   ]
  },
  {
   "cell_type": "markdown",
   "metadata": {},
   "source": [
    "### Summary tables\n",
    "This is a great way we can get a good idea of what all the data tells us. It is a bit hard to look at all 343 rows and 17 columns and learn anything of value. Summary tables do exactly what they imply; the help us *summarize* the data. While we could simple use standard `numpy` functions on columns of the dataset, like `np.mean`, `np.std`, etc (this is called simple aggregation) We can do something a lot more useful. We can use the **Split-Apply-Combine** technique to summarize the data by **groups** that we define. For example, rather than getting the mean `Flipper Length (mm)` for all the penguins in the data, we can get the mean `Flipper Length (mm)` for each `Species` of penguin we have. This method works in three stages, just like the name suggests:\n",
    "1. **Split** the data into groups\n",
    "2. **Apply** an aggregation function to each new piece of the data, which yields a single number \n",
    "3. **Combine** the results into a new DataFrame\n",
    "\n",
    "We can do this using the groupby() method\n",
    "\n"
   ]
  },
  {
   "cell_type": "code",
   "execution_count": 5,
   "metadata": {},
   "outputs": [
    {
     "name": "stderr",
     "output_type": "stream",
     "text": [
      "<ipython-input-5-352ad8c409f0>:1: FutureWarning: Indexing with multiple keys (implicitly converted to a tuple of keys) will be deprecated, use a list instead.\n",
      "  penguins.groupby([\"Species\", \"Island\"])[\"Culmen Length (mm)\",\n"
     ]
    },
    {
     "data": {
      "text/html": [
       "<div>\n",
       "<style scoped>\n",
       "    .dataframe tbody tr th:only-of-type {\n",
       "        vertical-align: middle;\n",
       "    }\n",
       "\n",
       "    .dataframe tbody tr th {\n",
       "        vertical-align: top;\n",
       "    }\n",
       "\n",
       "    .dataframe thead tr th {\n",
       "        text-align: left;\n",
       "    }\n",
       "\n",
       "    .dataframe thead tr:last-of-type th {\n",
       "        text-align: right;\n",
       "    }\n",
       "</style>\n",
       "<table border=\"1\" class=\"dataframe\">\n",
       "  <thead>\n",
       "    <tr>\n",
       "      <th></th>\n",
       "      <th></th>\n",
       "      <th colspan=\"2\" halign=\"left\">Culmen Length (mm)</th>\n",
       "      <th colspan=\"2\" halign=\"left\">Culmen Depth (mm)</th>\n",
       "      <th colspan=\"2\" halign=\"left\">Flipper Length (mm)</th>\n",
       "      <th colspan=\"2\" halign=\"left\">Delta 15 N (o/oo)</th>\n",
       "    </tr>\n",
       "    <tr>\n",
       "      <th></th>\n",
       "      <th></th>\n",
       "      <th>mean</th>\n",
       "      <th>std</th>\n",
       "      <th>mean</th>\n",
       "      <th>std</th>\n",
       "      <th>mean</th>\n",
       "      <th>std</th>\n",
       "      <th>mean</th>\n",
       "      <th>std</th>\n",
       "    </tr>\n",
       "    <tr>\n",
       "      <th>Species</th>\n",
       "      <th>Island</th>\n",
       "      <th></th>\n",
       "      <th></th>\n",
       "      <th></th>\n",
       "      <th></th>\n",
       "      <th></th>\n",
       "      <th></th>\n",
       "      <th></th>\n",
       "      <th></th>\n",
       "    </tr>\n",
       "  </thead>\n",
       "  <tbody>\n",
       "    <tr>\n",
       "      <th rowspan=\"3\" valign=\"top\">Adelie</th>\n",
       "      <th>Biscoe</th>\n",
       "      <td>38.98</td>\n",
       "      <td>2.48</td>\n",
       "      <td>18.37</td>\n",
       "      <td>1.19</td>\n",
       "      <td>188.80</td>\n",
       "      <td>6.73</td>\n",
       "      <td>8.82</td>\n",
       "      <td>0.38</td>\n",
       "    </tr>\n",
       "    <tr>\n",
       "      <th>Dream</th>\n",
       "      <td>38.50</td>\n",
       "      <td>2.47</td>\n",
       "      <td>18.25</td>\n",
       "      <td>1.13</td>\n",
       "      <td>189.73</td>\n",
       "      <td>6.59</td>\n",
       "      <td>8.95</td>\n",
       "      <td>0.42</td>\n",
       "    </tr>\n",
       "    <tr>\n",
       "      <th>Torgersen</th>\n",
       "      <td>38.95</td>\n",
       "      <td>3.03</td>\n",
       "      <td>18.43</td>\n",
       "      <td>1.34</td>\n",
       "      <td>191.20</td>\n",
       "      <td>6.23</td>\n",
       "      <td>8.79</td>\n",
       "      <td>0.46</td>\n",
       "    </tr>\n",
       "    <tr>\n",
       "      <th>Chinstrap</th>\n",
       "      <th>Dream</th>\n",
       "      <td>48.83</td>\n",
       "      <td>3.34</td>\n",
       "      <td>18.42</td>\n",
       "      <td>1.14</td>\n",
       "      <td>195.82</td>\n",
       "      <td>7.13</td>\n",
       "      <td>9.36</td>\n",
       "      <td>0.37</td>\n",
       "    </tr>\n",
       "    <tr>\n",
       "      <th>Gentoo</th>\n",
       "      <th>Biscoe</th>\n",
       "      <td>47.50</td>\n",
       "      <td>3.08</td>\n",
       "      <td>14.98</td>\n",
       "      <td>0.98</td>\n",
       "      <td>217.19</td>\n",
       "      <td>6.48</td>\n",
       "      <td>8.25</td>\n",
       "      <td>0.26</td>\n",
       "    </tr>\n",
       "  </tbody>\n",
       "</table>\n",
       "</div>"
      ],
      "text/plain": [
       "                    Culmen Length (mm)       Culmen Depth (mm)        \\\n",
       "                                  mean   std              mean   std   \n",
       "Species   Island                                                       \n",
       "Adelie    Biscoe                 38.98  2.48             18.37  1.19   \n",
       "          Dream                  38.50  2.47             18.25  1.13   \n",
       "          Torgersen              38.95  3.03             18.43  1.34   \n",
       "Chinstrap Dream                  48.83  3.34             18.42  1.14   \n",
       "Gentoo    Biscoe                 47.50  3.08             14.98  0.98   \n",
       "\n",
       "                    Flipper Length (mm)       Delta 15 N (o/oo)        \n",
       "                                   mean   std              mean   std  \n",
       "Species   Island                                                       \n",
       "Adelie    Biscoe                 188.80  6.73              8.82  0.38  \n",
       "          Dream                  189.73  6.59              8.95  0.42  \n",
       "          Torgersen              191.20  6.23              8.79  0.46  \n",
       "Chinstrap Dream                  195.82  7.13              9.36  0.37  \n",
       "Gentoo    Biscoe                 217.19  6.48              8.25  0.26  "
      ]
     },
     "execution_count": 5,
     "metadata": {},
     "output_type": "execute_result"
    }
   ],
   "source": [
    "penguins.groupby([\"Species\", \"Island\"])[\"Culmen Length (mm)\", \n",
    "                                        \"Culmen Depth (mm)\", \n",
    "                                        \"Flipper Length (mm)\", \n",
    "                                        \"Delta 15 N (o/oo)\"].aggregate([np.mean, np.std]).round(2)"
   ]
  },
  {
   "cell_type": "markdown",
   "metadata": {},
   "source": [
    "In this summary table, we can clearly see the mean and standard deviation in`Culmen Length (mm)`, `Culmen Depth (mm)`, `Flipper Length (mm)`, and `Delta 15 N (o/oo)` grouped by the `Species` of penguins on each `Island`. From this, we also notice that while Adelie penguins are found on all 3 islands, Chinstrap and Gentoo penguins are found only on Dream and Biscoe Island respectively. "
   ]
  },
  {
   "cell_type": "markdown",
   "metadata": {},
   "source": [
    "### Visualizations"
   ]
  },
  {
   "cell_type": "markdown",
   "metadata": {},
   "source": [
    "Another great way to learn from the dataset is to make some informative graphs. Based on our summary table, we know that the mean culmen lengths and depths vary by species. Let’s make a scatter plot of all the penguins and color code it by species. "
   ]
  },
  {
   "cell_type": "code",
   "execution_count": 6,
   "metadata": {},
   "outputs": [
    {
     "data": {
      "text/plain": [
       "<matplotlib.legend.Legend at 0x11beb4af0>"
      ]
     },
     "execution_count": 6,
     "metadata": {},
     "output_type": "execute_result"
    },
    {
     "data": {
      "image/png": "[encoded data removed]",
      "text/plain": [
       "<Figure size 720x504 with 1 Axes>"
      ]
     },
     "metadata": {
      "needs_background": "light"
     },
     "output_type": "display_data"
    }
   ],
   "source": [
    "fig, ax = plt.subplots(1, figsize = (10, 7))\n",
    "ax.set(title = \"Culmen Length vs Culmen Depth by Species\",\n",
    "       xlabel = \"Culmen Length (mm)\",\n",
    "       ylabel = \"Culmen Depth (mm)\")\n",
    "\n",
    "species = np.unique(penguins[\"Species\"])\n",
    "for x in species: # looping through list of species to plot each penguin by species\n",
    "    newpenguins = penguins[penguins[\"Species\"] == x]\n",
    "    ax.scatter(newpenguins[\"Culmen Length (mm)\"], newpenguins[\"Culmen Depth (mm)\"], s = 50, label = x.split()[0], alpha = 0.5)\n",
    "    \n",
    "ax.legend()"
   ]
  },
  {
   "cell_type": "markdown",
   "metadata": {},
   "source": [
    "Interesting! It looks like there are definitely some clusters for species in terms of culmen length and depth. There are a lot more characteristics of the penguins in the dataset. Let's see if we can find clusters with other features...\n"
   ]
  },
  {
   "cell_type": "code",
   "execution_count": 7,
   "metadata": {},
   "outputs": [
    {
     "data": {
      "text/plain": [
       "<matplotlib.legend.Legend at 0x11c239b80>"
      ]
     },
     "execution_count": 7,
     "metadata": {},
     "output_type": "execute_result"
    },
    {
     "data": {
      "image/png": "[encoded data removed]",
      "text/plain": [
       "<Figure size 720x504 with 1 Axes>"
      ]
     },
     "metadata": {
      "needs_background": "light"
     },
     "output_type": "display_data"
    }
   ],
   "source": [
    "fig, ax = plt.subplots(1, figsize = (10, 7))\n",
    "ax.set(title = \"Delta 15 N (o/oo) by Species and Island\",\n",
    "       xlabel = \"Delta 15 N (o/oo)\",\n",
    "       ylabel = \"Density\")\n",
    "species = np.unique(penguins[\"Species\"])\n",
    "location = np.unique(penguins[\"Island\"])\n",
    "for x in species:\n",
    "    for y in location: # nested for loop ensures we get penguins separated by species AND island\n",
    "        newpenguins = penguins[(penguins[\"Species\"] == x) \n",
    "                             & (penguins[\"Delta 15 N (o/oo)\"].notnull()) \n",
    "                             & (penguins[\"Island\"] == y)]\n",
    "        ax.hist(newpenguins[\"Delta 15 N (o/oo)\"], label = x + \", \" + y, alpha = 0.5)\n",
    "plt.xlim([7, 10.5])\n",
    "ax.legend()"
   ]
  },
  {
   "cell_type": "markdown",
   "metadata": {},
   "source": [
    "This histogram shows us the $\\Delta$ N ‰ grouped by species and island. We can see that there is a lot of overlap for these values in many of the penguins, but Gentoo penguins on Biscoe and Chinstrap penguins on Dream have some significant differences.\n",
    "\n",
    "We've seen how the penguins differ by species and Island. What about Sex?"
   ]
  },
  {
   "cell_type": "code",
   "execution_count": 8,
   "metadata": {},
   "outputs": [
    {
     "data": {
      "text/plain": [
       "[Text(0.5, 1.0, 'Flipper Length by species and sex')]"
      ]
     },
     "execution_count": 8,
     "metadata": {},
     "output_type": "execute_result"
    },
    {
     "data": {
      "image/png": "[encoded data removed]",
      "text/plain": [
       "<Figure size 720x504 with 1 Axes>"
      ]
     },
     "metadata": {
      "needs_background": "light"
     },
     "output_type": "display_data"
    }
   ],
   "source": [
    "import seaborn as sns\n",
    "fig, ax = plt.subplots(1, figsize = (10, 7))\n",
    "ax = sns.boxplot(x=\"Species\", y=\"Flipper Length (mm)\", hue = \"Sex\", data=penguins, palette = \"Set3\")\n",
    "ax.set(title = \"Flipper Length by species and sex\")"
   ]
  },
  {
   "cell_type": "markdown",
   "metadata": {},
   "source": [
    "Hmm, this graph looks okay at first but interestingly, we can also see a third category for Sex that is encoded by `.` Let's remove this and look at the plot again "
   ]
  },
  {
   "cell_type": "code",
   "execution_count": 9,
   "metadata": {},
   "outputs": [],
   "source": [
    "penguins = penguins[penguins['Sex'] != '.'] # dropping penguins whose sex is encoded as '.'"
   ]
  },
  {
   "cell_type": "code",
   "execution_count": 10,
   "metadata": {},
   "outputs": [
    {
     "data": {
      "text/plain": [
       "[Text(0.5, 1.0, 'Flipper Length by species and sex')]"
      ]
     },
     "execution_count": 10,
     "metadata": {},
     "output_type": "execute_result"
    },
    {
     "data": {
      "image/png": "[encoded data removed]",
      "text/plain": [
       "<Figure size 720x504 with 1 Axes>"
      ]
     },
     "metadata": {
      "needs_background": "light"
     },
     "output_type": "display_data"
    }
   ],
   "source": [
    "import seaborn as sns\n",
    "fig, ax = plt.subplots(1, figsize = (10, 7))\n",
    "ax = sns.boxplot(x=\"Species\", y=\"Flipper Length (mm)\", hue = \"Sex\", data=penguins, palette = \"Set3\")\n",
    "ax.set(title = \"Flipper Length by species and sex\")"
   ]
  },
  {
   "cell_type": "markdown",
   "metadata": {},
   "source": [
    "This looks much better! From this boxplot, we can see how the Flipper length of penguins changes between males and females, as well as the species. We can clearly see that the male penguins have higher values than females across all species, but we can also notice that Gentoo penguins have the largest flipper lengths, followed by Chinstrap and Adelie penguins. "
   ]
  },
  {
   "cell_type": "markdown",
   "metadata": {},
   "source": [
    "### How will these findings help us with Machine Learning?\n",
    "This exploratory analysis has helped us find features that have significant differences across species of penguins -- notably the `Culmen Length (mm)`, `Culmen Depth (mm)`, `Flipper Length (mm)`, and `Delta 15 N (o/oo)`. While we will still check all the combinations of variables to see which produce the most accurate model, knowing that these features are relevant can help us intuitively check if our models are working as they should. In addition to this, the summary table and visualizations will definitely help us see where and why our models predict some penguins incorrectly. "
   ]
  },
  {
   "cell_type": "markdown",
   "metadata": {},
   "source": [
    "# Modeling"
   ]
  },
  {
   "cell_type": "markdown",
   "metadata": {},
   "source": [
    "Now that we’ve spent some time learning about the Palmer penguins, and have noticed some significant trends in characteristics, lets see if we can train some Machine Learning models to predict the species of a penguin based on their traits. Remember Machine Learning is a process through which we *train* a model by allowing it to figure out mathematical connections between attributes of a dataset and teach it to predict something. We want our models to be able to accurately predict the species of a penguin based on their features. "
   ]
  },
  {
   "cell_type": "markdown",
   "metadata": {},
   "source": [
    "### Preprocessing\n",
    "In this portion of the project, we will be preprocessing the `penguins` dataset to make it more suitable for Machine Learning. The first thing to do is to split the dataset into a training and testing split. This allows us to *train* the model on one subset of the data, and later *test* how good the model is at classifying by comparing its predictions to some unseen data."
   ]
  },
  {
   "cell_type": "code",
   "execution_count": 11,
   "metadata": {},
   "outputs": [],
   "source": [
    "from sklearn.model_selection import train_test_split\n",
    "\n",
    "np.random.seed(1000) # setting seed so we get the same values when we run the code again\n",
    "\n",
    "train, test = train_test_split(penguins, test_size = 0.2) # 20% of the dataset will be held as a test set"
   ]
  },
  {
   "cell_type": "markdown",
   "metadata": {},
   "source": [
    "After this, we have lots of preprocessing to do. Most importantly, we need to separate the **predictor variables** (characteristics of the penguin) from the **target variables** (Species of the penguin). Since we need to do this for the training and the testing split, we can write a function to do so. Since we are preprocessing, we might as well remove some irrelevant columns that won't matter to our model, like `studyName` , `Comments` , etc. We can also remove the rows in which there are `NaN` values for the predictor variables we may use. In addition to this, we need to convert some text information to numerical data so that our model can understand it. Attributes like `Sex` , `Region` , etc can only have a few different values, so using a `LabelEncoder` can help us convert this to a numerical value."
   ]
  },
  {
   "cell_type": "code",
   "execution_count": 12,
   "metadata": {},
   "outputs": [],
   "source": [
    "def clean_data(df_data):\n",
    "    \"\"\"\n",
    "    A function to clean the DataFrame and split the train and test splits further into predictor and target variables\n",
    "    \n",
    "    Parameters\n",
    "    ----------\n",
    "    df_data: The df to be cleaned\n",
    "    \n",
    "    Returns\n",
    "    -------\n",
    "    X: the cleaned predictor variables\n",
    "    y: the cleaned target variable\n",
    "    \"\"\"\n",
    "    df = df_data.copy()\n",
    "    df = df.drop(['studyName', 'Sample Number', 'Stage', 'Individual ID', 'Comments', 'Date Egg', 'Clutch Completion'], axis = 1)\n",
    "    df = df.dropna() # dropping NaN rows for columns of interest\n",
    "    df = df[df['Sex'] != '.'] # dropping penguins whose sex is encoded as '.'\n",
    "    le = preprocessing.LabelEncoder()\n",
    "    for col in ['Sex', 'Species', 'Island', 'Region']: # using a label encoder to simplify text data\n",
    "        df[col] = le.fit_transform(df[col])\n",
    "\n",
    "    X = df.drop(['Species'], axis = 1) # now, X only has predictor variables \n",
    "    y = df['Species'] # y is a column of species\n",
    "    \n",
    "    return X, y"
   ]
  },
  {
   "cell_type": "code",
   "execution_count": 13,
   "metadata": {},
   "outputs": [],
   "source": [
    "X_train, y_train = clean_data(train)\n",
    "X_test, y_test = clean_data(test)"
   ]
  },
  {
   "cell_type": "code",
   "execution_count": 14,
   "metadata": {},
   "outputs": [
    {
     "name": "stdout",
     "output_type": "stream",
     "text": [
      "(255, 9) (255,)\n",
      "(69, 9) (69,)\n"
     ]
    }
   ],
   "source": [
    "# checking to make sure our cleaning worked properly\n",
    "print(X_train.shape, y_train.shape)\n",
    "print(X_test.shape, y_test.shape)"
   ]
  },
  {
   "cell_type": "markdown",
   "metadata": {},
   "source": [
    "## Decision Tree\n",
    "Decision tree learning is a type of modeling approach that identifies patterns in the data and makes a prediction based on them. It is kind of like a yes or no flowchart that can be used to predict a value for any row in the data. For example, lets say you had a dataset that included the current time zone of every student in PIC 16A and whether or not they were attending live lectures or taking this class asynchronously. The model may notice that a large number of students in countries more than 10 hours ahead tended to watch the lectures asynchronously. So, if you were to use this decision tree model to predict if a particular student was watching live lectures. The first thing it might check is the student’s time zone. If it is only 6 hours ahead of LA, it may predict that the student is indeed watching live lectures. Conversely, if the student was in a country 13 hours ahead of LA, the model may think they are watching the recorded versions. You can specify how many decisions/branches you want the tree to have by using the `max_depth` parameter. More branches means the model will get better and better at making predictions on the **train data**. Don’t forget about overfitting though... Before we can get to determining optimal model complexity, lets first determine what *features* of the penguins dataset give us the best results. In this dataset, we have seen that the penguins differ significanlty in some of the features measured, like `Culmen Length (mm)`, `Island`, etc. A Decision Tree would work well here, since the model will be able to identify these features and make classifications based on them"
   ]
  },
  {
   "cell_type": "markdown",
   "metadata": {},
   "source": [
    "### Feature Selection\n",
    "\n",
    "We already saw some of the most important features in our summary tables and visualizations, but lets make the process more robust. To choose which 3 columns may give us the most accurate model, we decided to test all the possible combinations that could be made from the 9 possible **predictor variables**. In order to do so, we used `itertools.combinations` and `cross_val_score` to see which combinations gave us the highest accuracy. "
   ]
  },
  {
   "cell_type": "code",
   "execution_count": 15,
   "metadata": {},
   "outputs": [],
   "source": [
    "feature_array = np.array(X_train.columns) # making an array of the column names in X_train"
   ]
  },
  {
   "cell_type": "code",
   "execution_count": 16,
   "metadata": {},
   "outputs": [],
   "source": [
    "import itertools\n",
    "combos = itertools.combinations(feature_array, 3) # creating an array of combinations of length 3"
   ]
  },
  {
   "cell_type": "code",
   "execution_count": 17,
   "metadata": {},
   "outputs": [],
   "source": [
    "combosof3 = []\n",
    "for i in combos:\n",
    "    i = list(i) # converting the combination to a list\n",
    "    combosof3.append(i)"
   ]
  },
  {
   "cell_type": "markdown",
   "metadata": {},
   "source": [
    "Now, we need to actually see which combination is the best in terms of accurately predicting the species of the penguin. For this, we used `cross_val_score` . K-fold cross validation takes a small piece of the training data (say 10%) and hides it from the model, akin to a mini test set. We train the model on the remaining 90% and then evaluate its performance based on the 10% that we hid. We can then hide a *different* 10% of the data and do the same thing. We can repeat this many times to eventually get an average picture of how our model may perform on the real test data. This is very useful when evaluating optimal complexity of a model, but can also be used for feature selection. To do this, we initialized a `best_score` and `best_combo` value and list to `0`and `empty` respectively. We then looped through all the viable combinations we generated from the previous code cell and trained a model with these columns using cross validation. We then checked to see if the `cv_score` was better than the `best_score` . If it was, update the current `best_score` with the new `cv_score` , and update the `best_combo` list with the current combination. \n",
    "\n",
    "Since we didn’t know if different models would have different optimal features, we ran feature selection for each one. For Decision trees, we initialized a `DecisionTreeClassifier` object with a `max_depth` of 5 (we figured this would be a good middle point — not too complex yet not too simple)"
   ]
  },
  {
   "cell_type": "code",
   "execution_count": 18,
   "metadata": {},
   "outputs": [],
   "source": [
    "from sklearn import tree\n",
    "from sklearn.model_selection import cross_val_score \n",
    "\n",
    "def check_column_score(model, combosof3): \n",
    "    \"\"\"\n",
    "    Trains and evaluates a model via cross-validation on the different combinations of columns of the data\n",
    "    \n",
    "    Parameters\n",
    "    ----------\n",
    "    model: The model for which columns are to be tested. This helps us write DRY code\n",
    "    combosof3: A list of potential combinations that can be used to train a model\n",
    "    \n",
    "    Returns\n",
    "    -------\n",
    "    best_combo: the best combination of columns in terms of accuracy\n",
    "    best_score: the highest score acheived by a model with the best combination\n",
    "    \"\"\"\n",
    "    # print(\"training with columns \" + str(cols)\n",
    "    best_score = 0\n",
    "    best_combo = []\n",
    "  \n",
    "    for cols in combosof3:\n",
    "        cv_score = cross_val_score(model, X_train[cols], y_train, cv = 5).mean()\n",
    "        if cv_score > best_score:\n",
    "            best_score = cv_score\n",
    "            best_combo = cols\n",
    "    \n",
    "    return best_combo, best_score"
   ]
  },
  {
   "cell_type": "code",
   "execution_count": 19,
   "metadata": {},
   "outputs": [],
   "source": [
    "T = tree.DecisionTreeClassifier(max_depth = 5) # initializing our decision tree model\n",
    "best_combo, best_score = check_column_score(T, combosof3)"
   ]
  },
  {
   "cell_type": "code",
   "execution_count": 20,
   "metadata": {},
   "outputs": [
    {
     "name": "stdout",
     "output_type": "stream",
     "text": [
      "['Island', 'Culmen Length (mm)', 'Culmen Depth (mm)'] 0.9803921568627452\n"
     ]
    }
   ],
   "source": [
    "print(best_combo, best_score) # we found the best combination had an accuracy of 98%"
   ]
  },
  {
   "cell_type": "markdown",
   "metadata": {},
   "source": [
    "Interesting! It looks like the best columns for the Decision Tree are `Island`, `Culmen Length (mm)`, and `Culmen Depth (mm)` and this gave us a cv score of 98%!!"
   ]
  },
  {
   "cell_type": "code",
   "execution_count": 21,
   "metadata": {},
   "outputs": [],
   "source": [
    "# updating XT_train and XT_test to only have the 'best' columns\n",
    "XT_train = X_train[best_combo]\n",
    "XT_test = X_test[best_combo]"
   ]
  },
  {
   "cell_type": "markdown",
   "metadata": {},
   "source": [
    "We created different train and test sets based on the columns that the `check_column_score` function yields for each model."
   ]
  },
  {
   "cell_type": "markdown",
   "metadata": {},
   "source": [
    "### Choosing Optimal Model Complexity\n",
    "\n",
    "We previously mentioned how a Decision Tree can be made more or less complex by altering the `max_depth` parameter. Remember that a higher `max_depth` will yield a more complex model. While this may sound good, it could lead to overfitting. This is a phenomenon that occurs when our model complexity is so high that it perfectly (or almost perfectly) classifies the training data (that it has seen), but performs worse on the test data (that it has not seen). In order to choose the optimal model complexity, we will again use K-fold cross validation. Here however, instead of modifying the columns, we will modify the `max_depth` value. In order to show this information clearly, we can plot the change in CV score due to the increasing model complexity.\n"
   ]
  },
  {
   "cell_type": "code",
   "execution_count": 22,
   "metadata": {},
   "outputs": [
    {
     "data": {
      "image/png": "[encoded data removed]",
      "text/plain": [
       "<Figure size 432x288 with 1 Axes>"
      ]
     },
     "metadata": {
      "needs_background": "light"
     },
     "output_type": "display_data"
    }
   ],
   "source": [
    "fig, ax = plt.subplots(1)\n",
    "\n",
    "best_score = 0\n",
    "best_depth = 0\n",
    "\n",
    "for d in range(1, 30): # try max_depth values from 1 to 30\n",
    "    T = tree.DecisionTreeClassifier(max_depth = d)\n",
    "    cv_score = cross_val_score(T, XT_train, y_train, cv = 20).mean()\n",
    "    ax.scatter(d, cv_score, color = 'black') # plot the max_depth value and the cv_score\n",
    "\n",
    "    if cv_score > best_score:\n",
    "        best_depth = d\n",
    "        best_score = cv_score\n",
    "\n",
    "l = ax.set(title = \"Best Depth : \" + str(best_depth) + \"\\n Score = \" + str(best_score),\n",
    "           xlabel = \"Depth\",\n",
    "           ylabel = \"CV Score\",\n",
    "           alpha = 0.5)"
   ]
  },
  {
   "cell_type": "markdown",
   "metadata": {},
   "source": [
    "We can see that the best depth for our decision tree model based on the features we selected previously is 3. The model with this `max_depth` had a mean cv score of 98.4%! Remember that decision trees work by picking features and then making a sort of “yes or no” question based on that feature. If you allow the model to ask more questions, it might be able to predict penguins better. This is why we can see a clear increase in cv score as the `max_depth` increases from 1 to 3. While we may think that the cv score should decrease as we increase the `max_depth`, this particular dataset contains rather simple columns, and the penguins are easily classified. However, in general, higher `max_depth` will most probably lead to overfitting and therefore decrease the cv score. Now that we have our optimal model complexity, lets see how it performs when trained on *all* the train data, and scored against *all* the test data. "
   ]
  },
  {
   "cell_type": "code",
   "execution_count": 23,
   "metadata": {},
   "outputs": [
    {
     "name": "stdout",
     "output_type": "stream",
     "text": [
      "0.9842948717948719\n",
      "0.9855072463768116\n"
     ]
    }
   ],
   "source": [
    "# your code here\n",
    "T = tree.DecisionTreeClassifier(max_depth = best_depth)\n",
    "T.fit(XT_train, y_train)\n",
    "print(best_score)\n",
    "print(T.score(XT_test, y_test))"
   ]
  },
  {
   "cell_type": "markdown",
   "metadata": {},
   "source": [
    "Amazing! We got an accuracy of 98.5% when the model was scored on all the test data. Another interesting thing we can do with decision trees is actually plot them to see how it makes predictions. Let’s do this for our model"
   ]
  },
  {
   "cell_type": "code",
   "execution_count": 24,
   "metadata": {},
   "outputs": [
    {
     "data": {
      "image/png": "[encoded data removed]",
      "text/plain": [
       "<Figure size 1440x1440 with 1 Axes>"
      ]
     },
     "metadata": {
      "needs_background": "light"
     },
     "output_type": "display_data"
    }
   ],
   "source": [
    "fig, ax = plt.subplots(1, figsize = (20, 20))\n",
    "p = tree.plot_tree(T, filled = True, feature_names = best_combo)"
   ]
  },
  {
   "cell_type": "markdown",
   "metadata": {},
   "source": [
    "Interesting! We can see that the model first checks to see if `Culmen Length (mm)` is less than or equal to 42.5. If it is, it checks `Culmen Depth (mm)` in a similar manner. Hang on, how can `Island` be less than or equal to 0.5? Remember we used a `LabelEncoder` to convert the Island name to a numerical value. In this case:\n",
    "\n",
    "- “Biscoe” was converted to 0\n",
    "- “Dream” was converted to 1\n",
    "- “Torgerson” was converted to 2"
   ]
  },
  {
   "cell_type": "markdown",
   "metadata": {},
   "source": [
    "### Confusion Matrix - Decision Tree\n",
    "Although our model is pretty good, it still messes up on occasion. Lets try to figure out why this is happening. In order to do this, we can create a confusion matrix, which basically shows us where our model is incorrectly classifying penguins."
   ]
  },
  {
   "cell_type": "code",
   "execution_count": 25,
   "metadata": {},
   "outputs": [
    {
     "data": {
      "text/plain": [
       "array([2, 0, 2, 2, 0, 0, 2, 1, 2, 2, 0, 1, 0, 2, 2, 0, 1, 2, 2, 2, 2, 0,\n",
       "       1, 1, 0, 0, 0, 0, 1, 1, 2, 0, 2, 0, 1, 0, 1, 0, 0, 2, 1, 1, 0, 2,\n",
       "       2, 0, 0, 2, 1, 2, 1, 0, 1, 0, 0, 2, 2, 2, 0, 0, 0, 2, 1, 0, 2, 2,\n",
       "       2, 1, 2])"
      ]
     },
     "execution_count": 25,
     "metadata": {},
     "output_type": "execute_result"
    }
   ],
   "source": [
    "# get the model's predictions based on the test data\n",
    "y_test_pred = T.predict(XT_test)\n",
    "y_test_pred"
   ]
  },
  {
   "cell_type": "code",
   "execution_count": 26,
   "metadata": {},
   "outputs": [
    {
     "data": {
      "text/plain": [
       "array([[26,  1,  0],\n",
       "       [ 0, 15,  0],\n",
       "       [ 0,  0, 27]])"
      ]
     },
     "execution_count": 26,
     "metadata": {},
     "output_type": "execute_result"
    }
   ],
   "source": [
    "# create a confusion matrix of the actual test target variables and our model's predictions\n",
    "from sklearn.metrics import confusion_matrix\n",
    "c = confusion_matrix(y_test, y_test_pred)\n",
    "c"
   ]
  },
  {
   "cell_type": "markdown",
   "metadata": {},
   "source": [
    "In a confusion matrix, the i,jth entry shows us the number of times the model predicted j when the value was actually i. For example, the very first number in the matrix is 26. This means that the model predicted the species to be 0 (remember we used a LabelEncoder to change names to numbers) and the actual species was also 0 26 times. Similarly, the model predicted the species to be 0 when the actual species was 1 on 1 occasion. We can use Boolean indexing to extract all the incorrectly classified penguins."
   ]
  },
  {
   "cell_type": "code",
   "execution_count": 27,
   "metadata": {},
   "outputs": [
    {
     "data": {
      "text/plain": [
       "(array([1]),\n",
       " 43    0\n",
       " Name: Species, dtype: int64)"
      ]
     },
     "execution_count": 27,
     "metadata": {},
     "output_type": "execute_result"
    }
   ],
   "source": [
    "mistakes = XT_test[y_test != y_test_pred] # getting the rows of X_test for which our model messed up\n",
    "mistake_labels = y_test[y_test != y_test_pred] # getting the actual species for where the model messed up \n",
    "mistake_preds = y_test_pred[y_test != y_test_pred] # getting the (incorrect) predicted species\n",
    "\n",
    "mistake_preds, mistake_labels"
   ]
  },
  {
   "cell_type": "markdown",
   "metadata": {},
   "source": [
    "We can see that our model incorrectly classified penguin 43 as Chinstrap, when it was actually an Adelie. Let's see if we can figure out why this is by comparing it with the summarized stats from earlier."
   ]
  },
  {
   "cell_type": "code",
   "execution_count": 28,
   "metadata": {},
   "outputs": [
    {
     "data": {
      "text/plain": [
       "Species               Adelie\n",
       "Island                 Dream\n",
       "Culmen Length (mm)      44.1\n",
       "Culmen Depth (mm)       19.7\n",
       "Name: 43, dtype: object"
      ]
     },
     "execution_count": 28,
     "metadata": {},
     "output_type": "execute_result"
    }
   ],
   "source": [
    "penguins[['Species', 'Island', 'Culmen Length (mm)', 'Culmen Depth (mm)']].loc[43]"
   ]
  },
  {
   "cell_type": "markdown",
   "metadata": {},
   "source": [
    "From our summary table, we saw that the mean `Culmen Length (mm)` and `Culmen Depth (mm)` of Adelie penguins was around 38 and 18 respectively. However, we can see that penguin 43 has much larger values for both of these measurements, and in fact is closer to the mean of Chinstrap penguins. Therefore, the model incorrectly classified it. "
   ]
  },
  {
   "cell_type": "markdown",
   "metadata": {},
   "source": [
    "## Logistic Regression\n",
    "Logistic Regression is a very popular type of model. It is mainly used to estimate probabilities. In logistic regression, a set of independent variables are used to predict the categorical dependent variable based on a logistic function. Multinomial logistic regression is a generalized version of logistic regression; logistic regression predicts the probability of two discrete categorical outcomes whereas multinomial logistic regression can predict the probabilities of more than two possible outcomes of the dependent variable. The multinomial logistic regression model is a good choice for our modeling task as we are seeking to predict the Species of penguins (which is a categorical variable with more than two categories), based on other variables from our dataset."
   ]
  },
  {
   "cell_type": "markdown",
   "metadata": {},
   "source": [
    "### Feature Selection\n",
    "See above for explanation"
   ]
  },
  {
   "cell_type": "code",
   "execution_count": 29,
   "metadata": {},
   "outputs": [],
   "source": [
    "from sklearn.linear_model import LogisticRegression\n",
    "LR = LogisticRegression(max_iter = 1000)\n",
    "best_combo, best_score = check_column_score(LR, combosof3)"
   ]
  },
  {
   "cell_type": "code",
   "execution_count": 30,
   "metadata": {},
   "outputs": [
    {
     "name": "stdout",
     "output_type": "stream",
     "text": [
      "['Culmen Length (mm)', 'Culmen Depth (mm)', 'Flipper Length (mm)'] 0.9921568627450981\n"
     ]
    }
   ],
   "source": [
    "print(best_combo, best_score) # we found the best combination had an accuracy of 99%"
   ]
  },
  {
   "cell_type": "code",
   "execution_count": 31,
   "metadata": {},
   "outputs": [],
   "source": [
    "# creating XLR_train and XLR_test to only have the 'best' columns for this model\n",
    "XLR_train = X_train[best_combo]\n",
    "XLR_test = X_test[best_combo]"
   ]
  },
  {
   "cell_type": "markdown",
   "metadata": {},
   "source": [
    "### Evaluating Logistic Regression"
   ]
  },
  {
   "cell_type": "code",
   "execution_count": 32,
   "metadata": {},
   "outputs": [
    {
     "name": "stdout",
     "output_type": "stream",
     "text": [
      "Score = 0.9710144927536232\n"
     ]
    }
   ],
   "source": [
    "LR.fit(XLR_train, y_train) # fitting the model on all of our training data\n",
    "print('Score = ' + str(LR.score(XLR_test, y_test))) # evaluating the model on the test data"
   ]
  },
  {
   "cell_type": "markdown",
   "metadata": {},
   "source": [
    "### Confusion Matrix - Logistic Regression\n",
    "See above for explanation"
   ]
  },
  {
   "cell_type": "code",
   "execution_count": 33,
   "metadata": {},
   "outputs": [
    {
     "data": {
      "text/plain": [
       "array([2, 0, 2, 2, 0, 0, 2, 1, 2, 2, 0, 1, 0, 2, 2, 0, 1, 2, 2, 2, 2, 0,\n",
       "       1, 1, 0, 0, 0, 0, 1, 0, 2, 0, 2, 0, 1, 0, 1, 0, 0, 2, 1, 1, 1, 2,\n",
       "       2, 0, 0, 2, 1, 2, 1, 0, 1, 0, 0, 2, 2, 2, 0, 0, 0, 2, 0, 0, 2, 2,\n",
       "       2, 1, 2])"
      ]
     },
     "execution_count": 33,
     "metadata": {},
     "output_type": "execute_result"
    }
   ],
   "source": [
    "y_test_pred = LR.predict(XLR_test)\n",
    "y_test_pred"
   ]
  },
  {
   "cell_type": "code",
   "execution_count": 34,
   "metadata": {},
   "outputs": [
    {
     "data": {
      "text/plain": [
       "array([[26,  1,  0],\n",
       "       [ 1, 14,  0],\n",
       "       [ 0,  0, 27]])"
      ]
     },
     "execution_count": 34,
     "metadata": {},
     "output_type": "execute_result"
    }
   ],
   "source": [
    "c = confusion_matrix(y_test, y_test_pred)\n",
    "c"
   ]
  },
  {
   "cell_type": "code",
   "execution_count": 35,
   "metadata": {},
   "outputs": [
    {
     "data": {
      "text/plain": [
       "(array([1, 0]),\n",
       " 73     0\n",
       " 216    1\n",
       " Name: Species, dtype: int64)"
      ]
     },
     "execution_count": 35,
     "metadata": {},
     "output_type": "execute_result"
    }
   ],
   "source": [
    "mistakes = XLR_test[y_test != y_test_pred] # getting the rows of X_test for which our model messed up\n",
    "mistake_labels = y_test[y_test != y_test_pred] # getting the actual species for where the model messed up \n",
    "mistake_preds = y_test_pred[y_test != y_test_pred] # getting the (incorrect) predicted species\n",
    "\n",
    "mistake_preds, mistake_labels"
   ]
  },
  {
   "cell_type": "markdown",
   "metadata": {},
   "source": [
    "In Logistic Regression, we can see that it incorrectly classified penguins 73 and 216. \n",
    "- Model thinks penguin 73 is Chinstrap. It is actually Adelie\n",
    "- Model thinks penguin 216 is Adelie. It is actually Chinstrap\n",
    "\n",
    "Let's look at the data to see why."
   ]
  },
  {
   "cell_type": "code",
   "execution_count": 36,
   "metadata": {},
   "outputs": [
    {
     "data": {
      "text/plain": [
       "Species                   Adelie\n",
       "Island                 Torgersen\n",
       "Culmen Length (mm)          45.8\n",
       "Culmen Depth (mm)           18.9\n",
       "Flipper Length (mm)          197\n",
       "Name: 73, dtype: object"
      ]
     },
     "execution_count": 36,
     "metadata": {},
     "output_type": "execute_result"
    }
   ],
   "source": [
    "penguins[['Species', 'Island', 'Culmen Length (mm)', 'Culmen Depth (mm)', 'Flipper Length (mm)']].loc[73]"
   ]
  },
  {
   "cell_type": "markdown",
   "metadata": {},
   "source": [
    "We can see that penguin 73 also has an above average `Culmen Length (mm)` for Adelie penguins, and is actually closer to that of Chinstrap penguins. The `Flipper Length (mm)` for penguin 73 is also much closer to the mean for Chinstrap penguins than Adelie penguins"
   ]
  },
  {
   "cell_type": "code",
   "execution_count": 37,
   "metadata": {},
   "outputs": [
    {
     "data": {
      "text/plain": [
       "Species                Chinstrap\n",
       "Island                     Dream\n",
       "Culmen Length (mm)          43.5\n",
       "Culmen Depth (mm)           18.1\n",
       "Flipper Length (mm)          202\n",
       "Name: 216, dtype: object"
      ]
     },
     "execution_count": 37,
     "metadata": {},
     "output_type": "execute_result"
    }
   ],
   "source": [
    "penguins[['Species', 'Island', 'Culmen Length (mm)', 'Culmen Depth (mm)', 'Flipper Length (mm)']].loc[216]"
   ]
  },
  {
   "cell_type": "markdown",
   "metadata": {},
   "source": [
    "Penguin 216 has the opposite problem -- It's `Culmen Depth (mm)` and `Culmen Length (mm)` are both lower than the averages for Chinstrap penguins and are closer to the Adelie penguins. "
   ]
  },
  {
   "cell_type": "markdown",
   "metadata": {},
   "source": [
    "## SVM\n",
    "Using SVM allows us to have \"curvier\" decision regions that may be better suited for the task of classifying penguins based on a few features. SVM works by creating \"classes\" from the dataset and determining the best boundaries to separate those classes when plotted. "
   ]
  },
  {
   "cell_type": "markdown",
   "metadata": {},
   "source": [
    "### Feature Selection\n",
    "See above for explanation"
   ]
  },
  {
   "cell_type": "code",
   "execution_count": 38,
   "metadata": {},
   "outputs": [],
   "source": [
    "from sklearn import svm\n",
    "SVM = svm.SVC()\n",
    "best_combo, best_score = check_column_score(SVM, combosof3)"
   ]
  },
  {
   "cell_type": "code",
   "execution_count": 39,
   "metadata": {},
   "outputs": [
    {
     "name": "stdout",
     "output_type": "stream",
     "text": [
      "['Culmen Length (mm)', 'Culmen Depth (mm)', 'Delta 15 N (o/oo)'] 0.9215686274509803\n"
     ]
    }
   ],
   "source": [
    "print(best_combo, best_score) # we found the best combination had an accuracy of 92%"
   ]
  },
  {
   "cell_type": "code",
   "execution_count": 40,
   "metadata": {},
   "outputs": [],
   "source": [
    "# creating XSVM_train and XSVM_test to only have the 'best' columns for this model\n",
    "XSVM_train = X_train[best_combo]\n",
    "XSVM_test = X_test[best_combo]"
   ]
  },
  {
   "cell_type": "markdown",
   "metadata": {},
   "source": [
    "### Optimal model complexity \n",
    "See above for explanation"
   ]
  },
  {
   "cell_type": "code",
   "execution_count": 41,
   "metadata": {},
   "outputs": [
    {
     "data": {
      "image/png": "[encoded data removed]",
      "text/plain": [
       "<Figure size 432x288 with 1 Axes>"
      ]
     },
     "metadata": {
      "needs_background": "light"
     },
     "output_type": "display_data"
    }
   ],
   "source": [
    "fig, ax = plt.subplots(1)\n",
    "\n",
    "best_score = 0\n",
    "best_gamma = 0\n",
    "\n",
    "for d in range(1, 30): # try gamma values from 1 to 30\n",
    "    SVM = svm.SVC(gamma = d)\n",
    "    cv_score = cross_val_score(SVM, XSVM_train, y_train, cv = 10).mean()\n",
    "    ax.scatter(d, cv_score, color = 'black') # plot the gamma value and the cv_score\n",
    "\n",
    "    if cv_score > best_score:\n",
    "        best_gamma = d\n",
    "        best_score = cv_score\n",
    "\n",
    "l = ax.set(title = \"Best Gamma : \" + str(best_gamma) + \"\\n Score = \" + str(best_score),\n",
    "           xlabel = \"Gamma\",\n",
    "           ylabel = \"CV Score\",\n",
    "           alpha = 0.5)"
   ]
  },
  {
   "cell_type": "markdown",
   "metadata": {},
   "source": [
    "From this graph, we can clearly see that the CV score decreases consistently as we increase the `gamma` value. Remember that K-Fold Cross Validation involves splitting the training data further into training and testing sets and computing the accuracy based on the model's predictions on hidden data. From the graph, we can see that as we make the model more complex, it will perform worse on data it has not seen yet. We can clearly see that the best value for gamma is actually 1 (accuracy of 0.972). However, lets investigate further and see if there is another gamma value that may yield a higher score"
   ]
  },
  {
   "cell_type": "code",
   "execution_count": 42,
   "metadata": {},
   "outputs": [
    {
     "data": {
      "image/png": "[encoded data removed]",
      "text/plain": [
       "<Figure size 432x288 with 1 Axes>"
      ]
     },
     "metadata": {
      "needs_background": "light"
     },
     "output_type": "display_data"
    }
   ],
   "source": [
    "fig, ax = plt.subplots(1)\n",
    "\n",
    "best_score = 0\n",
    "best_gamma = 0\n",
    "\n",
    "for d in np.linspace(0.01, 2, 200): # this time, we are checking 200 possible values between 0.01 and 2.0\n",
    "    SVM = svm.SVC(gamma = d)\n",
    "    cv_score = cross_val_score(SVM, XSVM_train, y_train, cv = 10).mean()\n",
    "    ax.scatter(d, cv_score, color = 'black')\n",
    "\n",
    "    if cv_score > best_score:\n",
    "        best_gamma = d\n",
    "        best_score = cv_score\n",
    "\n",
    "l = ax.set(title = \"Best Gamma : \" + str(best_gamma) + \"\\n Score = \" + str(best_score),\n",
    "           xlabel = \"Gamma\",\n",
    "           ylabel = \"CV Score\",\n",
    "           alpha = 0.5)"
   ]
  },
  {
   "cell_type": "markdown",
   "metadata": {},
   "source": [
    "This time, we looked at potential gamma values between 0.01 and 2.0 and found that we could get an even higher score of 0.98 when we used gamma = 0.32. Now that we have the optimal model complexity, lets see how it performs on the actual test data."
   ]
  },
  {
   "cell_type": "code",
   "execution_count": 43,
   "metadata": {},
   "outputs": [
    {
     "name": "stdout",
     "output_type": "stream",
     "text": [
      "Best Gamma = 0.32\n",
      "Score = 0.9565217391304348\n"
     ]
    }
   ],
   "source": [
    "print('Best Gamma = ' + str(best_gamma))\n",
    "SVM = svm.SVC(gamma = best_gamma) # Creating an SVM model with gamma = best_gamma\n",
    "SVM.fit(XSVM_train, y_train) # fitting the model on all of our training data\n",
    "print('Score = ' + str(SVM.score(XSVM_test, y_test))) # evaluating the model on the test data"
   ]
  },
  {
   "cell_type": "markdown",
   "metadata": {},
   "source": [
    "Not bad! We got an accuracy of around 95.6% when we fitted the model on all of the training data and evaluated it with the all of the testing data. However, there are still many things we can do!\n"
   ]
  },
  {
   "cell_type": "markdown",
   "metadata": {},
   "source": [
    "### Confusion matrix - SVM\n",
    "See above for explanation"
   ]
  },
  {
   "cell_type": "code",
   "execution_count": 44,
   "metadata": {},
   "outputs": [
    {
     "data": {
      "text/plain": [
       "array([2, 0, 2, 2, 0, 0, 2, 1, 2, 2, 0, 1, 0, 2, 2, 0, 1, 2, 2, 2, 1, 0,\n",
       "       1, 1, 0, 0, 0, 0, 1, 0, 2, 0, 2, 0, 1, 0, 1, 0, 0, 2, 1, 1, 1, 2,\n",
       "       2, 0, 0, 2, 1, 2, 1, 0, 1, 0, 0, 2, 2, 2, 0, 0, 0, 2, 0, 0, 2, 2,\n",
       "       2, 1, 2])"
      ]
     },
     "execution_count": 44,
     "metadata": {},
     "output_type": "execute_result"
    }
   ],
   "source": [
    "# get the model's predictions based on the test data\n",
    "y_test_pred = SVM.predict(XSVM_test)\n",
    "y_test_pred"
   ]
  },
  {
   "cell_type": "code",
   "execution_count": 45,
   "metadata": {},
   "outputs": [
    {
     "data": {
      "text/plain": [
       "array([[26,  1,  0],\n",
       "       [ 1, 14,  0],\n",
       "       [ 0,  1, 26]])"
      ]
     },
     "execution_count": 45,
     "metadata": {},
     "output_type": "execute_result"
    }
   ],
   "source": [
    "# create a confusion matrix of the actual test target variables and our model's predictions\n",
    "c = confusion_matrix(y_test, y_test_pred)\n",
    "c"
   ]
  },
  {
   "cell_type": "code",
   "execution_count": 46,
   "metadata": {},
   "outputs": [
    {
     "data": {
      "text/plain": [
       "(array([1, 1, 0]),\n",
       " 253    2\n",
       " 73     0\n",
       " 216    1\n",
       " Name: Species, dtype: int64)"
      ]
     },
     "execution_count": 46,
     "metadata": {},
     "output_type": "execute_result"
    }
   ],
   "source": [
    "mistakes = XSVM_test[y_test != y_test_pred] # getting the rows of X_test for which our model messed up\n",
    "mistake_labels = y_test[y_test != y_test_pred] # getting the actual species for where the model messed up \n",
    "mistake_preds = y_test_pred[y_test != y_test_pred] # getting the (incorrect) predicted species\n",
    "\n",
    "mistake_preds, mistake_labels"
   ]
  },
  {
   "cell_type": "markdown",
   "metadata": {},
   "source": [
    "We can see that the SVM model incorrectly classified penguins 253, 73, and 216 \n",
    "- The model thought penguin 253 was Chinstrap. It was actually Gentoo\n",
    "- The model thought penguin 73 was Chinstrap. It was actually Adelie\n",
    "- The model thought penguin 216 was Adelie, It was actually Chinstrap\n",
    "\n",
    "Let's look at each penguin and see if we can figure out why the model was wrong"
   ]
  },
  {
   "cell_type": "code",
   "execution_count": 47,
   "metadata": {},
   "outputs": [
    {
     "data": {
      "text/plain": [
       "Species                Gentoo\n",
       "Island                 Biscoe\n",
       "Culmen Length (mm)       59.6\n",
       "Culmen Depth (mm)          17\n",
       "Delta 15 N (o/oo)     7.76843\n",
       "Name: 253, dtype: object"
      ]
     },
     "execution_count": 47,
     "metadata": {},
     "output_type": "execute_result"
    }
   ],
   "source": [
    "penguins[['Species', 'Island', 'Culmen Length (mm)', 'Culmen Depth (mm)', 'Delta 15 N (o/oo)']].loc[253]"
   ]
  },
  {
   "cell_type": "markdown",
   "metadata": {},
   "source": [
    "We can see that penguin 253's `Culmen Depth (mm)` is much closer to the average for Chinstrap penguins compared to Gentoo penguins. Also, the `Culmen Length (mm)` was a little closer as well"
   ]
  },
  {
   "cell_type": "code",
   "execution_count": 48,
   "metadata": {},
   "outputs": [
    {
     "data": {
      "text/plain": [
       "Species                  Adelie\n",
       "Island                Torgersen\n",
       "Culmen Length (mm)         45.8\n",
       "Culmen Depth (mm)          18.9\n",
       "Delta 15 N (o/oo)       8.18658\n",
       "Name: 73, dtype: object"
      ]
     },
     "execution_count": 48,
     "metadata": {},
     "output_type": "execute_result"
    }
   ],
   "source": [
    "penguins[['Species', 'Island', 'Culmen Length (mm)', 'Culmen Depth (mm)', 'Delta 15 N (o/oo)']].loc[73]"
   ]
  },
  {
   "cell_type": "markdown",
   "metadata": {},
   "source": [
    "Penguin 73's Culmen Length is also much closer to the average Culmen Length of Chinstrap penguins than they are the to the averages for Adelie penguins, so the model incorrectly classfied them."
   ]
  },
  {
   "cell_type": "code",
   "execution_count": 49,
   "metadata": {},
   "outputs": [
    {
     "data": {
      "text/plain": [
       "Species               Chinstrap\n",
       "Island                    Dream\n",
       "Culmen Length (mm)         43.5\n",
       "Culmen Depth (mm)          18.1\n",
       "Delta 15 N (o/oo)       9.37608\n",
       "Name: 216, dtype: object"
      ]
     },
     "execution_count": 49,
     "metadata": {},
     "output_type": "execute_result"
    }
   ],
   "source": [
    "penguins[['Species', 'Island', 'Culmen Length (mm)', 'Culmen Depth (mm)', 'Delta 15 N (o/oo)']].loc[216]"
   ]
  },
  {
   "cell_type": "markdown",
   "metadata": {},
   "source": [
    "Penguin 216's Culmen Length and Depth are closer to the average Culmen Length and Depth of Adelie Penguins on Dream Island so the model incorrectly classifed it"
   ]
  },
  {
   "cell_type": "markdown",
   "metadata": {},
   "source": [
    "---\n",
    "# Discussion of Results\n",
    "In our investigation, we learned many things about the Palmer penguins as well as our models that we made to predict their species. Here is a summation of all our important results:\n",
    "\n",
    "| Model Name | Features Used | Complexity | Accuracy | Index of Incorrectly Classified Penguins | \n",
    "| :--------: | :-----------: | :--------: | :------: | :--------------------------------------: |\n",
    "| Decision Tree | Island, Culmen Length (mm), Culmen Depth (mm) | max_depth = 3 | 98.55 | 43 | \n",
    "| Logistic Regression | Culmen Length (mm), Culmen Depth (mm), Flipper Length (mm) | - | 97.1 | 73, 216 | \n",
    "| SVM | Culmen Length (mm), Culmen Depth (mm), Delta 15 N (o/oo) | gamma = 0.32 | 95.6 | 253, 73, 216 | \n",
    "\n",
    "Our best model was the Decision Tree with an accuracy of 98.55% on unseen test data\n",
    "\n",
    "From the table, we can clearly see that penguins 73 and 216 pose significant problems, since they were classified incorrectly in **two** models. Remember that both of these penguins have average Culmen Lengths and Depths that are closer to the averages for another species. Furthermore, their Flipper length and Delta 15 N (o/oo) are closer to the averages for a different species. \n",
    "\n",
    "Based on this investigation, our group recommends using a Decision Tree to classify penguins for the following reasons:\n",
    "- Highest accuracy of all the models evaluated\n",
    "- Using a higher `max_depth` (i.e. increasing the complexity) does not reduce model performance -- this can be useful if you want to test more features/increase max_depth\n",
    "- It took the least amount of time to run\n",
    "\n",
    "Rather than analyzing the summary tables and dataset to choose our features, we used a slightly different method of feature engineering, which allowed us to test all possible column choices before settling on the best one. Furthermore, we identified the best columns **for each model** rather than using feature engineering just once. All of our models scored above 95%, so we definitely recommend using this approach over choosing features based on exploratory analysis. Given the fact that our Decision Tree had a 98.55% accuracy, we think that `Island`, `Culmen Length (mm)`, and `Culmen Depth (mm)` are the best features to use. Furthermore, in previous runs of our models (before we set the seed when we made the `train` and `test` splits, we found that our other models also chose these features and achieved similar accuracies. \n",
    "\n",
    "### How could our results be improved?\n",
    "We think that **scaling** the data would lead to better results for the SVM and Logistic Regression models, since we did not include that step here. Due to this, the models may have placed more importance on the \"wrong\" columns, since measurements were not standardized. \n",
    "\n",
    "In addition to this, we think if there was more data and specifically more *variation* in the data, the model would be better at classifying the unique penguins that have irregular features. \n",
    "\n",
    "### Possible dangers?\n",
    "Machine Learning is getting better and better and will most certainly have a huge impact in our lives moving forward. However, as a society, we cannot take machine learning results for granted and we most certainly need to eliminate as much bias as possible to ensure we don't harm people. While this particular project is quite low-stakes (we aren't going to use the results to do anything with the penguins), we need to recognize the importance of our results and what they mean moving forward. We can clearly see that our models were not good at classifying penguins that deviated from the average values of their species and that different combinations of features led to different accuracies (as indicated by our `best_combos` in feature selection). We can extrapolate these understandings to any machine learning project\n",
    "- **Understand** that machine learning is rarely perfect unless given perfect data -- which may often be \"flawed\"\n",
    "- **Recognize** that using different features may lead to better results\n",
    "\n",
    "As Machine learning continues to progress and the world relies more heavily on data collected, we need to be conscious of the problems and limitations of this amazing technology to ensure that we are never violating any ethical boundaries."
   ]
  }
 ],
 "metadata": {
  "kernelspec": {
   "display_name": "Python 3",
   "language": "python",
   "name": "python3"
  },
  "language_info": {
   "codemirror_mode": {
    "name": "ipython",
    "version": 3
   },
   "file_extension": ".py",
   "mimetype": "text/x-python",
   "name": "python",
   "nbconvert_exporter": "python",
   "pygments_lexer": "ipython3",
   "version": "3.8.5"
  }
 },
 "nbformat": 4,
 "nbformat_minor": 4
}
