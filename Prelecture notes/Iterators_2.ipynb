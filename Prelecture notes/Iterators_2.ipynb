{
 "cells": [
  {
   "cell_type": "markdown",
   "metadata": {},
   "source": [
    "# More Iterators\n",
    "\n",
    "- [Download the lecture notes](https://philchodrow.github.io/PIC16A/content/object_oriented_programming/Iterators_2.ipynb). \n",
    "\n",
    "In this lecture, we'll construct a more complex iterator example. Our goal is to implement a `sortedDict` class such that, when we iterate over key-value pairs, always returns these pairs in sorted order according to the keys. We'll define this class as a subclass of `dict`, so we will automatically inherit all the standard `dict` behavior. We just need to define the `__iter__()` and `__next__()` methods. It would be interesting to extend this class to allow custom sorting behavior. For now, we'll just rely on the built-in list-sorting. \n",
    "\n",
    "Recall that dictionaries, by default implementation, do not have any set order. "
   ]
  },
  {
   "cell_type": "code",
   "execution_count": 1,
   "metadata": {},
   "outputs": [
    {
     "name": "stdout",
     "output_type": "stream",
     "text": [
      "TNG\n",
      "TOS\n",
      "DS9\n",
      "ENT\n"
     ]
    }
   ],
   "source": [
    "D = {\n",
    "    \"TNG\" : \"Picard\",\n",
    "    \"TOS\" : \"Kirk\", \n",
    "    \"DS9\" : \"Sisko\", \n",
    "    \"ENT\" : \"Archer\"\n",
    "}\n",
    "for key in D:\n",
    "    print(key)\n",
    "# ---"
   ]
  },
  {
   "cell_type": "markdown",
   "metadata": {},
   "source": [
    "We'll define both a `sortedDict` class and a `sortedDictIterator` class, and implement `__next__()` in the second class. The first class definition is very short! "
   ]
  },
  {
   "cell_type": "code",
   "execution_count": 2,
   "metadata": {},
   "outputs": [],
   "source": [
    "class sortedDict(dict):\n",
    "    \"\"\"\n",
    "    A subclass of `dict` that supports sorted iteration via the sortedDictIterator class\n",
    "    \"\"\"\n",
    "    \n",
    "    def __iter__(self):\n",
    "        \"\"\"\n",
    "        overrides dict.__iter__()\n",
    "        \"\"\"\n",
    "        return sortedDictIterator(self)"
   ]
  },
  {
   "cell_type": "markdown",
   "metadata": {},
   "source": [
    "Ok, now let's move on to the `sortedDictIterator`. We need to store the current index `i` and "
   ]
  },
  {
   "cell_type": "code",
   "execution_count": 8,
   "metadata": {},
   "outputs": [],
   "source": [
    "class sortedDictIterator():\n",
    "    \"\"\"\n",
    "    an iterator class that enables sorted iteration in sortedDict class\n",
    "    \"\"\"\n",
    "    \n",
    "    def __init__(self, sD):\n",
    "        self.i = 0\n",
    "        self.keys = list(sD.keys())\n",
    "        self.keys.sort()\n",
    "    \n",
    "    def __next__(self):\n",
    "        if self.i == len(self.keys):\n",
    "            raise StopIteration\n",
    "        \n",
    "        key = self.keys[self.i]\n",
    "        self.i += 1\n",
    "        \n",
    "        return(key, sD[key])"
   ]
  },
  {
   "cell_type": "markdown",
   "metadata": {},
   "source": [
    "Now we can try it out: "
   ]
  },
  {
   "cell_type": "code",
   "execution_count": 9,
   "metadata": {},
   "outputs": [
    {
     "data": {
      "text/plain": [
       "{'TNG': 'Picard', 'TOS': 'Kirk', 'DS9': 'Sisko', 'ENT': 'Archer'}"
      ]
     },
     "execution_count": 9,
     "metadata": {},
     "output_type": "execute_result"
    }
   ],
   "source": [
    "D\n",
    "\n",
    "sD = sortedDict(D)\n",
    "\n",
    "sD"
   ]
  },
  {
   "cell_type": "code",
   "execution_count": 10,
   "metadata": {},
   "outputs": [
    {
     "name": "stdout",
     "output_type": "stream",
     "text": [
      "DS9 Sisko\n",
      "ENT Archer\n",
      "TNG Picard\n",
      "TOS Kirk\n"
     ]
    }
   ],
   "source": [
    "for (key, val) in sD:\n",
    "    print(key, val)"
   ]
  },
  {
   "cell_type": "markdown",
   "metadata": {},
   "source": [
    "Looks good! "
   ]
  }
 ],
 "metadata": {
  "kernelspec": {
   "display_name": "Python 3",
   "language": "python",
   "name": "python3"
  },
  "language_info": {
   "codemirror_mode": {
    "name": "ipython",
    "version": 3
   },
   "file_extension": ".py",
   "mimetype": "text/x-python",
   "name": "python",
   "nbconvert_exporter": "python",
   "pygments_lexer": "ipython3",
   "version": "3.8.3"
  }
 },
 "nbformat": 4,
 "nbformat_minor": 4
}
