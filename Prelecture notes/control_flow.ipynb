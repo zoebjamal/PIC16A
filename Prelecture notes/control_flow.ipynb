{
 "cells": [
  {
   "cell_type": "markdown",
   "metadata": {},
   "source": [
    "# More Control Flow\n",
    "\n",
    "- [Download the lecture notes](https://philchodrow.github.io/PIC16A/content/basics/control_flow.ipynb). \n",
    "\n",
    "In \"For-Loops and Comprehensions,\" we introduced the for-loop -- the simplest way to iterate through data. In this lecture, we'll add `while` loops for iteration, as well as `if` statements for conditional branching. \n",
    "\n",
    "1. Iteration (repeating an operation)\n",
    "2. Branching (performing different operations depending on conditions)\n",
    "\n",
    "We'll move quickly through this material, since these concepts should be familiar from your experience with PIC10A -- only the syntax changes. \n",
    "\n",
    "Two important pieces of syntax: \n",
    "\n",
    "1. The declaration of both loops and conditionals must end with a colon `:`. \n",
    "2. **Whitespace matters.** The body of a loop or branching statement **must be indented**, else Python will throw a syntax error. "
   ]
  },
  {
   "cell_type": "markdown",
   "metadata": {},
   "source": [
    "## Iteration with While-Loops\n",
    "\n",
    "A *while-loop* will repeat a given sequence of commands as long as a boolean (logical) condition evaluates to `True`. The first time that that condition evaluates to `False`, the loop will halt -- no more iterations will take place. The primary application of while-loops is to iterate when you are not sure how many iterations are required. \n",
    "\n",
    "Unlike for-loops, it is necessary to initialize the variable of iteration prior to beginning the loop. \n",
    "\n",
    "Make sure that the loop will indeed terminate! "
   ]
  },
  {
   "cell_type": "code",
   "execution_count": 1,
   "metadata": {},
   "outputs": [
    {
     "data": {
      "text/plain": [
       "6"
      ]
     },
     "execution_count": 1,
     "metadata": {},
     "output_type": "execute_result"
    }
   ],
   "source": [
    "done = False\n",
    "i    = 1\n",
    "\n",
    "while not done:\n",
    "    i   += 1\n",
    "    done = i > 5\n",
    "\n",
    "i"
   ]
  },
  {
   "cell_type": "markdown",
   "metadata": {},
   "source": [
    "Remember also that the full body of the loop executes *after* checking the condition. For example, consider the following attempt to find the largest power of 3 less than 10,000:"
   ]
  },
  {
   "cell_type": "code",
   "execution_count": 2,
   "metadata": {},
   "outputs": [
    {
     "data": {
      "text/plain": [
       "177147"
      ]
     },
     "execution_count": 2,
     "metadata": {},
     "output_type": "execute_result"
    }
   ],
   "source": [
    "# largest power of 3 less than 10,000 -- failed\n",
    "\n",
    "x = 1\n",
    "while x < 1e5:\n",
    "    x *= 3\n",
    "x # oops!"
   ]
  },
  {
   "cell_type": "markdown",
   "metadata": {},
   "source": [
    "This function fails because the multiplication occurs after the condition `x < 1e5` is checked. So, instead we have to do this: "
   ]
  },
  {
   "cell_type": "code",
   "execution_count": 3,
   "metadata": {},
   "outputs": [
    {
     "data": {
      "text/plain": [
       "59049"
      ]
     },
     "execution_count": 3,
     "metadata": {},
     "output_type": "execute_result"
    }
   ],
   "source": [
    "# largest power of 3 less than 10,000\n",
    "\n",
    "x = 1\n",
    "while 3*x < 1e5:\n",
    "    x *= 3\n",
    "x # ok!"
   ]
  },
  {
   "cell_type": "markdown",
   "metadata": {},
   "source": [
    "## Branching with If-Statements\n",
    "\n",
    "If-statements allow you to perform different blocks of code based on logical tests. Any expression that evaluates to `True` or `False` (i.e. a boolean) can be used. Some useful examples of boolean expressions. "
   ]
  },
  {
   "cell_type": "code",
   "execution_count": 4,
   "metadata": {},
   "outputs": [
    {
     "data": {
      "text/plain": [
       "True"
      ]
     },
     "execution_count": 4,
     "metadata": {},
     "output_type": "execute_result"
    }
   ],
   "source": [
    "\"Janeway\" in [\"Kirk\", \"Janeway\", \"Picard\"]"
   ]
  },
  {
   "cell_type": "code",
   "execution_count": 5,
   "metadata": {},
   "outputs": [
    {
     "data": {
      "text/plain": [
       "True"
      ]
     },
     "execution_count": 5,
     "metadata": {},
     "output_type": "execute_result"
    }
   ],
   "source": [
    "2 >= 1"
   ]
  },
  {
   "cell_type": "code",
   "execution_count": 1,
   "metadata": {},
   "outputs": [
    {
     "data": {
      "text/plain": [
       "True"
      ]
     },
     "execution_count": 1,
     "metadata": {},
     "output_type": "execute_result"
    }
   ],
   "source": [
    "# boolean and\n",
    "(2 >= 1) and (2 <= 4) "
   ]
  },
  {
   "cell_type": "code",
   "execution_count": 2,
   "metadata": {},
   "outputs": [
    {
     "data": {
      "text/plain": [
       "True"
      ]
     },
     "execution_count": 2,
     "metadata": {},
     "output_type": "execute_result"
    }
   ],
   "source": [
    "# boolean or\n",
    "(2 >= 1) or (2 <= 0)"
   ]
  },
  {
   "cell_type": "markdown",
   "metadata": {},
   "source": [
    "Now we can try an example of if-statements. "
   ]
  },
  {
   "cell_type": "code",
   "execution_count": 8,
   "metadata": {},
   "outputs": [
    {
     "name": "stdout",
     "output_type": "stream",
     "text": [
      "x is a positive number\n"
     ]
    }
   ],
   "source": [
    "x = 1\n",
    "if x < 0:\n",
    "    print(\"x is a negative number\")\n",
    "elif x == 0:\n",
    "    print(\"x is zero\")\n",
    "else:\n",
    "    print(\"x is a positive number\")\n",
    "# ---"
   ]
  },
  {
   "cell_type": "markdown",
   "metadata": {},
   "source": [
    "Branching is often particularly powerful within loops. "
   ]
  },
  {
   "cell_type": "code",
   "execution_count": 9,
   "metadata": {},
   "outputs": [
    {
     "name": "stdout",
     "output_type": "stream",
     "text": [
      "1\n",
      "3\n",
      "5\n",
      "7\n",
      "9\n"
     ]
    }
   ],
   "source": [
    "# print odd numbers 1-9\n",
    "\n",
    "for i in range(10):\n",
    "    if i % 2 == 1:\n",
    "        print(i)\n",
    "# ---"
   ]
  },
  {
   "cell_type": "markdown",
   "metadata": {},
   "source": [
    "## `break` and `continue`\n",
    "\n",
    "Having equipped ourselves with `if` statements, we can now explore two additional constructs for use in `while` loops: `break` and `continue`. Roughly, `break` can be used to halt an entire `while` loop, while `continue` can be used to halt a single iteration and move on to the next one. \n",
    "\n",
    "<figure class=\"image\" style=\"width:50%\">\n",
    "  <img src=\"https://files.realpython.com/media/t.899f357dd948.png\" alt=\"A schematic while-loop with a placeholder body, followed by a statement outside the loop. The body includes lines for break and continue. The break line has an arrow pointing to the external statement below the loop, while the continue line has an arrow pointing to the while expression.\">\n",
    "  <figcaption><i>Schematic working of break and continue.</i></figcaption>\n",
    "</figure>\n",
    "\n",
    "Let's first try using `break` to check whether a number is a power of 3: "
   ]
  },
  {
   "cell_type": "code",
   "execution_count": 10,
   "metadata": {},
   "outputs": [],
   "source": [
    "x = 1\n",
    "\n",
    "possible_pow = 28\n",
    "\n",
    "while x < 1e5:\n",
    "    x *= 3\n",
    "    if x == possible_pow:\n",
    "        print(str(possible_pow)  + \" is a power of 3\")\n",
    "        break\n",
    "# ---"
   ]
  },
  {
   "cell_type": "markdown",
   "metadata": {},
   "source": [
    "Suppose that we want to print out every number 1 through 10, *except for* multiples of 4. The `continue` statement will prematurely end the current iteration and begin a new one, allowing us to exclude those multiples. "
   ]
  },
  {
   "cell_type": "code",
   "execution_count": 11,
   "metadata": {},
   "outputs": [
    {
     "name": "stdout",
     "output_type": "stream",
     "text": [
      "1\n",
      "2\n",
      "3\n",
      "5\n",
      "6\n",
      "7\n",
      "9\n",
      "10\n"
     ]
    }
   ],
   "source": [
    "i = 0\n",
    "while i < 10:\n",
    "    i += 1\n",
    "    \n",
    "    # skip multiples of 4\n",
    "    if i % 4 == 0:\n",
    "        continue\n",
    "        \n",
    "    print(i)\n",
    "# ---"
   ]
  },
  {
   "cell_type": "markdown",
   "metadata": {},
   "source": [
    "While we were able to use `break` and `continue` in these examples, one can usually achieve the same results by carefully manipulating the `while`-expression directly (in the case of `break`) or by using branching logic (in the case of `continue`). Because of this, `break` and `continue` should be used sparingly if at all. "
   ]
  }
 ],
 "metadata": {
  "kernelspec": {
   "display_name": "Python 3",
   "language": "python",
   "name": "python3"
  },
  "language_info": {
   "codemirror_mode": {
    "name": "ipython",
    "version": 3
   },
   "file_extension": ".py",
   "mimetype": "text/x-python",
   "name": "python",
   "nbconvert_exporter": "python",
   "pygments_lexer": "ipython3",
   "version": "3.8.3"
  }
 },
 "nbformat": 4,
 "nbformat_minor": 4
}
