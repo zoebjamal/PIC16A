{
 "cells": [
  {
   "cell_type": "markdown",
   "metadata": {},
   "source": [
    "# Introduction to Iterables: Lists\n",
    "\n",
    "- [Download the lecture notes](https://philchodrow.github.io/PIC16A/content/basics/lists.ipynb). "
   ]
  },
  {
   "cell_type": "markdown",
   "metadata": {},
   "source": [
    "An *iterable* is just a collection of items that supports *iteration* -- you can access the objects one at a time, often in a specified order. The simplest Python iterable is the list. \n",
    "\n",
    "A `list` is an ordered sequence of arbitrary objects, which can be accessed and altered via numerical indexing. The simplest way to construct a list is to enclose a set of objects, separated by `,`, within brackets `[]`. For example, here's a list of strings: "
   ]
  },
  {
   "cell_type": "code",
   "execution_count": 1,
   "metadata": {},
   "outputs": [],
   "source": [
    "L = [\"Kirk\", \"Picard\", \"Sisko\", \"Janeway\"]"
   ]
  },
  {
   "cell_type": "markdown",
   "metadata": {},
   "source": [
    "Lists can be accessed by index, in similar fashion to strings. Like strings, lists are 0-indexed. "
   ]
  },
  {
   "cell_type": "code",
   "execution_count": 3,
   "metadata": {},
   "outputs": [
    {
     "data": {
      "text/plain": [
       "'Sisko'"
      ]
     },
     "execution_count": 3,
     "metadata": {},
     "output_type": "execute_result"
    }
   ],
   "source": [
    "L[2]"
   ]
  },
  {
   "cell_type": "markdown",
   "metadata": {},
   "source": [
    "The same indexing tricks work for lists as they do for strings. "
   ]
  },
  {
   "cell_type": "code",
   "execution_count": 4,
   "metadata": {},
   "outputs": [
    {
     "data": {
      "text/plain": [
       "['Picard', 'Janeway']"
      ]
     },
     "execution_count": 4,
     "metadata": {},
     "output_type": "execute_result"
    }
   ],
   "source": [
    "L[1::2] # every other item, starting with item 1"
   ]
  },
  {
   "cell_type": "code",
   "execution_count": 5,
   "metadata": {},
   "outputs": [
    {
     "data": {
      "text/plain": [
       "['Janeway', 'Sisko', 'Picard', 'Kirk']"
      ]
     },
     "execution_count": 5,
     "metadata": {},
     "output_type": "execute_result"
    }
   ],
   "source": [
    "L[::-1] # reverse the order"
   ]
  },
  {
   "cell_type": "markdown",
   "metadata": {},
   "source": [
    "### Listomania"
   ]
  },
  {
   "cell_type": "markdown",
   "metadata": {},
   "source": [
    "We really mean it when we say that lists can contain **arbitrary** objects. These objects can have differing types, and can even be lists themselves: "
   ]
  },
  {
   "cell_type": "code",
   "execution_count": 6,
   "metadata": {},
   "outputs": [],
   "source": [
    "L = [\"Deep\", \"Space\", 9, 1.4]"
   ]
  },
  {
   "cell_type": "code",
   "execution_count": 7,
   "metadata": {},
   "outputs": [
    {
     "data": {
      "text/plain": [
       "[['TNG', 'DS9', 'VOY'], ['Picard', 'Sisko', 'Janeway'], [1, 2, 3]]"
      ]
     },
     "execution_count": 7,
     "metadata": {},
     "output_type": "execute_result"
    }
   ],
   "source": [
    "L = [[\"TNG\", \"DS9\", \"VOY\"], [\"Picard\", \"Sisko\", \"Janeway\"], [1, 2, 3]]\n",
    "L"
   ]
  },
  {
   "cell_type": "code",
   "execution_count": 8,
   "metadata": {},
   "outputs": [
    {
     "data": {
      "text/plain": [
       "['TNG', 'DS9', 'VOY']"
      ]
     },
     "execution_count": 8,
     "metadata": {},
     "output_type": "execute_result"
    }
   ],
   "source": [
    "L[0]"
   ]
  },
  {
   "cell_type": "code",
   "execution_count": 9,
   "metadata": {},
   "outputs": [
    {
     "data": {
      "text/plain": [
       "'Janeway'"
      ]
     },
     "execution_count": 9,
     "metadata": {},
     "output_type": "execute_result"
    }
   ],
   "source": [
    "L[1][2]"
   ]
  },
  {
   "cell_type": "markdown",
   "metadata": {},
   "source": [
    "Later in the course, we'll learn more convenient and powerful ways to store lists of related data. \n",
    "\n",
    "Unlike strings, lists are mutable, and their elements can be altered in arbitrary ways. For example, we can `append()` elements. "
   ]
  },
  {
   "cell_type": "code",
   "execution_count": 10,
   "metadata": {},
   "outputs": [
    {
     "data": {
      "text/plain": [
       "[['TNG', 'DS9', 'VOY', 'TOS'],\n",
       " ['Picard', 'Sisko', 'Janeway', 'Kirk'],\n",
       " [1, 2, 3, 4]]"
      ]
     },
     "execution_count": 10,
     "metadata": {},
     "output_type": "execute_result"
    }
   ],
   "source": [
    "L[0].append(\"TOS\")\n",
    "L[1].append(\"Kirk\")\n",
    "L[2].append(4)\n",
    "L"
   ]
  },
  {
   "cell_type": "markdown",
   "metadata": {},
   "source": [
    "There are many other ways to modify lists, a few of which are demonstrated below. "
   ]
  },
  {
   "cell_type": "code",
   "execution_count": 11,
   "metadata": {},
   "outputs": [
    {
     "name": "stdout",
     "output_type": "stream",
     "text": [
      "Command                L\n",
      "-----------------------------------\n",
      "L.remove('Kirk')       ['Picard', 'Sisko', 'Janeway']\n",
      "L.pop(1)               ['Picard', 'Janeway']\n",
      "L.insert(1, 'Spock')   ['Picard', 'Spock', 'Janeway']\n",
      "L.sort()               ['Janeway', 'Picard', 'Spock']\n",
      "L.reverse()            ['Spock', 'Picard', 'Janeway']\n"
     ]
    }
   ],
   "source": [
    "L = [\"Kirk\",\"Picard\", \"Sisko\", \"Janeway\"]\n",
    "\n",
    "print(\"Command                L\")\n",
    "print(\"-----------------------------------\")\n",
    "L.remove('Kirk')                             # removes first instance of 'Kirk'\n",
    "print(\"L.remove('Kirk')      \", L)\n",
    "\n",
    "L.pop(1)                                     # removes element in position 1 (Sisko)\n",
    "print(\"L.pop(1)              \", L)\n",
    "\n",
    "L.insert(1,'Spock')                          # adds 'Spock' in index 1\n",
    "print(\"L.insert(1, 'Spock')  \", L)\n",
    "\n",
    "L.sort()                                     # sorts elements (ascending)\n",
    "print(\"L.sort()              \", L)\n",
    "\n",
    "L.reverse()                                  # reverses order of elements\n",
    "print(\"L.reverse()           \", L)\n",
    "# ---"
   ]
  },
  {
   "cell_type": "markdown",
   "metadata": {},
   "source": [
    "## Constructing Lists\n",
    "\n",
    "Python offers many ways to construct lists, some of them more convenient than others. The method `split()` of `string` objects is one handy example. This can be used, for example, to loop over the individual words of a string. "
   ]
  },
  {
   "cell_type": "code",
   "execution_count": 12,
   "metadata": {},
   "outputs": [
    {
     "data": {
      "text/plain": [
       "['to', 'boldly', 'go']"
      ]
     },
     "execution_count": 12,
     "metadata": {},
     "output_type": "execute_result"
    }
   ],
   "source": [
    "s = \"to boldly go\"\n",
    "s.split()"
   ]
  },
  {
   "cell_type": "markdown",
   "metadata": {},
   "source": [
    "We can also `split()` using other delimiters, such as `,`.  "
   ]
  },
  {
   "cell_type": "code",
   "execution_count": 13,
   "metadata": {},
   "outputs": [
    {
     "data": {
      "text/plain": [
       "['in a mirror', ' darkly']"
      ]
     },
     "execution_count": 13,
     "metadata": {},
     "output_type": "execute_result"
    }
   ],
   "source": [
    "t = \"in a mirror, darkly\"\n",
    "t.split(\",\")"
   ]
  },
  {
   "cell_type": "markdown",
   "metadata": {},
   "source": [
    "## Sorting Lists\n",
    "\n",
    "Lists can be sorted in several ways. When there is an obvious ordering of elements, Python will often infer it: "
   ]
  },
  {
   "cell_type": "code",
   "execution_count": 14,
   "metadata": {},
   "outputs": [
    {
     "data": {
      "text/plain": [
       "[2, 2, 2, 2, 2, 2, 3, 3, 3, 4, 4, 5, 5, 6]"
      ]
     },
     "execution_count": 14,
     "metadata": {},
     "output_type": "execute_result"
    }
   ],
   "source": [
    "L = [2, 3, 4, 2, 3, 2, 2, 2, 5, 4, 3, 5, 6, 2]\n",
    "L.sort()\n",
    "L"
   ]
  },
  {
   "cell_type": "code",
   "execution_count": 15,
   "metadata": {},
   "outputs": [
    {
     "data": {
      "text/plain": [
       "[6, 5, 5, 4, 4, 3, 3, 3, 2, 2, 2, 2, 2, 2]"
      ]
     },
     "execution_count": 15,
     "metadata": {},
     "output_type": "execute_result"
    }
   ],
   "source": [
    "L.sort(reverse=True)\n",
    "L"
   ]
  },
  {
   "cell_type": "code",
   "execution_count": 16,
   "metadata": {},
   "outputs": [
    {
     "data": {
      "text/plain": [
       "['Janeway', 'Picard', 'Pike', 'Sisko']"
      ]
     },
     "execution_count": 16,
     "metadata": {},
     "output_type": "execute_result"
    }
   ],
   "source": [
    "L = [\"Sisko\", \"Picard\", \"Janeway\", \"Pike\"]\n",
    "L.sort()\n",
    "L"
   ]
  },
  {
   "cell_type": "markdown",
   "metadata": {},
   "source": [
    "Lists can also be sorted using arbitrary functions. For example, we can sort L1 into evens and then odds. Don't worry about the syntax of the function definition for now. "
   ]
  },
  {
   "cell_type": "code",
   "execution_count": 19,
   "metadata": {},
   "outputs": [
    {
     "data": {
      "text/plain": [
       "[2, 4, 2, 2, 2, 2, 4, 6, 2, 3, 3, 5, 3, 5]"
      ]
     },
     "execution_count": 19,
     "metadata": {},
     "output_type": "execute_result"
    }
   ],
   "source": [
    "L = [2, 3, 4, 2, 3, 2, 2, 2, 5, 4, 3, 5, 6, 2]\n",
    "\n",
    "def is_odd(x):\n",
    "    return(x % 2 == 1)\n",
    "\n",
    "L.sort(key=is_odd)\n",
    "L"
   ]
  },
  {
   "cell_type": "code",
   "execution_count": 20,
   "metadata": {},
   "outputs": [
    {
     "data": {
      "text/plain": [
       "True"
      ]
     },
     "execution_count": 20,
     "metadata": {},
     "output_type": "execute_result"
    }
   ],
   "source": [
    "False < True"
   ]
  },
  {
   "cell_type": "markdown",
   "metadata": {},
   "source": [
    "You can even use a key function that returns multiple values, which will result in sorting by multiple attributes. For example, suppose we wanted to sort ascending within each group (odd/even). "
   ]
  },
  {
   "cell_type": "code",
   "execution_count": 21,
   "metadata": {},
   "outputs": [
    {
     "data": {
      "text/plain": [
       "[2, 2, 2, 2, 2, 2, 4, 4, 6, 3, 3, 3, 5, 5]"
      ]
     },
     "execution_count": 21,
     "metadata": {},
     "output_type": "execute_result"
    }
   ],
   "source": [
    "def sorter(x):\n",
    "    return(is_odd(x), x)\n",
    "\n",
    "L.sort(key=sorter)\n",
    "L"
   ]
  },
  {
   "cell_type": "markdown",
   "metadata": {},
   "source": [
    "We'll talk more about the syntax of these function definitions when we discuss functions and tuples.  "
   ]
  }
 ],
 "metadata": {
  "kernelspec": {
   "display_name": "Python 3",
   "language": "python",
   "name": "python3"
  },
  "language_info": {
   "codemirror_mode": {
    "name": "ipython",
    "version": 3
   },
   "file_extension": ".py",
   "mimetype": "text/x-python",
   "name": "python",
   "nbconvert_exporter": "python",
   "pygments_lexer": "ipython3",
   "version": "3.8.3"
  }
 },
 "nbformat": 4,
 "nbformat_minor": 4
}
