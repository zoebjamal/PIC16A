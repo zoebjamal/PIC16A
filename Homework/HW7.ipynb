{
 "cells": [
  {
   "cell_type": "markdown",
   "metadata": {},
   "source": [
    "# Homework 7\n",
    "\n",
    "Unlike previous homework assignments, this homework is **completed as a group** and **submitted on CCLE.** In other words, it's similar to an extended Discussion Activity. "
   ]
  },
  {
   "cell_type": "markdown",
   "metadata": {},
   "source": [
    "## Problem 0\n",
    "\n",
    "It is highly recommended that you work with your group to fully complete the previous Discussion assignments related to the project this week, as all of these are directly helpful for your project submission. "
   ]
  },
  {
   "cell_type": "markdown",
   "metadata": {},
   "source": [
    "## Problem 1\n",
    "\n",
    "In your project, you are required to demonstrate the use of decision trees and multinomial logistic regression classifiers. Groups of three must also demonstrate the use of one additional model. In this homework assignment, you will write a detailed report that will largely fulfill this requirement. \n",
    "\n",
    "Choose one machine learning model, other than decision trees and multinomial logistic regression (unless you are a group of 2 -- see below). Some possibilities include, but are not limited to: \n",
    "\n",
    "- Support vector classifiers (`sklearn.svm.SVC`). Complexity parameter is called `gamma`. Higher values create more complex models)\n",
    "- K-nearest-neighbor classifiers (`sklearn.neighbors.KNeighborsClassifier`). Complexity parameter is called `n_neighbors`. Higher values create less complex models. When working with KNN models, it is helpful to standardize your data columns first. For this purpose, `sklearn.preprocessing.StandardScaler` can be used. \n",
    "- Multilayer perceptron classifier, a kind of neural network (`sklearn.neural_network.MLPClassifier`). The complexity is controlled by the number of neurons and layers, as specified by the `hidden_layer_sizes` parameter -- more neurons and layers correspond to more complex models. \n",
    "\n",
    "You should consult the documentation for these models, which is available online or via `?`. \n",
    "\n",
    "\n",
    "#### Groups of 2\n",
    "\n",
    "If you are a group of 2, you are not required to use an additional model and may instead use multinomial logistic regression for this assignment. Please note this in your submission. \n",
    "\n",
    "- Multinomial logistic regression (`sklearn.linear_model.LogisticRegression`). The complexity is controlled by `C`, the inverse regularization strength. Larger values of `C` correspond to more complex models. \n",
    "\n",
    "### Instructions\n",
    "\n",
    "Replicate and expand the pipeline from Discussion 15, substituting out decision trees for your chosen classifier. In particular, you should: \n",
    "\n",
    "1. **Load** the data. \n",
    "2. **Split the data** into training and test sets. \n",
    "3. Write one or more functions to **clean and transform the data** as needed. You should add comments and function docstrings as appropriate to describe to your reader what you are doing and why. Apply your functions to the training and test sets. \n",
    "4. **Select 3 columns (features)** from the data. You are required to use at least one qualitative feature (like Island or Sex). We saw one way of doing this \"by hand\" during a previous Live Lecture, but there are many other approaches as well. You may wish to delegate one group member to do some research on the topic of \"feature selection in Python with sklearn\". \n",
    "4. **Use cross-validation** to estimate optimal model complexity (*Note*: cross-validation is also an acceptable way to perform feature selection -- you may use it above, but you are required to use it here). \n",
    "5. Having selected your features and an optimal complexity, **evaluate your model on the test set.** \n",
    "6. **Inspect** a few instances in which your trained model gave the wrong answer on the test set. Explain why your model was \"tricked\" in this case? Create and comment on a confusion matrix -- [check Monday's lecture notes](https://nbviewer.jupyter.org/github/PhilChodrow/PIC16A/blob/master/content/ML/digits.ipynb) for an example. \n",
    "7. **Plot the decision regions** for your model. These are covered in a recent live lecture, and code required to construct them is below. The horizontal and vertical axes should be the two quantitative predictor variables that you selected. Create a separate plot for each possible value of the qualitative predictor variable that you selected. For example, if you chose `Sex` as your qualitative variable, you should show two plots, with the decision regions for Female and Male penguins separately. Add appropriate axis labels and any other measures required to make your plots look professional. Add commentary to contextualize the mistakes that your model made. \n",
    "    - You are welcome to use the [code from live lecture](https://nbviewer.jupyter.org/github/PhilChodrow/PIC16A/blob/master/live_lectures/live-lecture-22.ipynb) for this purpose. A common pitfall when using code for manual decision regions is re-training a model (using `model.fit()`) once for each plot. You should ensure that your model is only trained once, and that its predictions are then extracted for each plot. \n",
    "    - Another good approach is to use a built-in function for decision regions, like from the package `mlxtend` ([link](https://rasbt.github.io/mlxtend/installation/)). You can install this package by running the code `conda install mlxtend` in a Python code cell. (*Note*: this isn't really the recommended way to install packages in Anaconda, but because we haven't covered environment management it's ok to do here). \n",
    "\n",
    "Throughout, add helpful explanation for your reader. For example, you should explain the idea behind cross-validation; anything you are able to learn about how your model works; how to interpret the optimal complexity parameter; and why your model went wrong in certain cases.  \n",
    "\n",
    "### Additional Specifications\n",
    "\n",
    "This homework will be graded by me personally, and will be graded using a rubric very similar to that used for the final project. I'll also give you some feedback indicating how you can improve. To get the most benefit out of this feedback, you should **treat this homework as a rehearsal for the full project.** \n",
    "\n",
    "Your solution should **not** fit in a single code cell -- a good, readable, and adequately-explained solution will likely require at least one code cell for each of the eight steps above. Make sure that there is plenty of surrounding text explanation and comments. Add code cells and plenty of markdown cells as needed. You can also use section headers with `###` to organize your work. \n",
    "\n",
    "Your comments and explanation should be written to an imaginary reader who has never encountered the Palmer Penguins data set before, and knows less about machine learning than you do. Explain your steps. Why train-test split? Why cross-validation? Why decision regions? And so on. If you'd like, imagine that you are writing to a time-traveller version of you from two weeks ago. \n",
    "\n",
    "It is not necessary to submit the HW on a copy of this notebook -- you may create and submit a fresh notebook if you wold like. Regardless, \n",
    "\n",
    "#### You are required to include a Group Contributions Statement on this HW. \n",
    "\n",
    "## Your Solution"
   ]
  },
  {
   "cell_type": "markdown",
   "metadata": {},
   "source": [
    "### Group Contribution Statement\n",
    "We worked on this HW much like a discussion worksheet, in which we all collaborated and contributed equally and at the same time. We set times to meet throughout the week to work on this assignment. When we got stuck with the Decision Regions, Claire and Emma decided to try and learn about `mlxtend` while Zoeb worked on comments, doctstrings, and markdown cells. "
   ]
  },
  {
   "cell_type": "markdown",
   "metadata": {},
   "source": [
    "### Importing Modules and Data\n",
    "The dataset we are using is palmer penguins. This dataset includes several measurements taken for 344 penguins in Antarctica. "
   ]
  },
  {
   "cell_type": "code",
   "execution_count": 1,
   "metadata": {},
   "outputs": [],
   "source": [
    "# importing modules\n",
    "import pandas as pd\n",
    "from matplotlib import pyplot as plt\n",
    "from sklearn import tree, preprocessing\n",
    "import numpy as np"
   ]
  },
  {
   "cell_type": "code",
   "execution_count": 2,
   "metadata": {},
   "outputs": [],
   "source": [
    "# loading the data\n",
    "url = \"https://philchodrow.github.io/PIC16A/datasets/palmer_penguins.csv\"\n",
    "penguins = pd.read_csv(url)"
   ]
  },
  {
   "cell_type": "code",
   "execution_count": 3,
   "metadata": {},
   "outputs": [
    {
     "data": {
      "text/html": [
       "<div>\n",
       "<style scoped>\n",
       "    .dataframe tbody tr th:only-of-type {\n",
       "        vertical-align: middle;\n",
       "    }\n",
       "\n",
       "    .dataframe tbody tr th {\n",
       "        vertical-align: top;\n",
       "    }\n",
       "\n",
       "    .dataframe thead th {\n",
       "        text-align: right;\n",
       "    }\n",
       "</style>\n",
       "<table border=\"1\" class=\"dataframe\">\n",
       "  <thead>\n",
       "    <tr style=\"text-align: right;\">\n",
       "      <th></th>\n",
       "      <th>studyName</th>\n",
       "      <th>Sample Number</th>\n",
       "      <th>Species</th>\n",
       "      <th>Region</th>\n",
       "      <th>Island</th>\n",
       "      <th>Stage</th>\n",
       "      <th>Individual ID</th>\n",
       "      <th>Clutch Completion</th>\n",
       "      <th>Date Egg</th>\n",
       "      <th>Culmen Length (mm)</th>\n",
       "      <th>Culmen Depth (mm)</th>\n",
       "      <th>Flipper Length (mm)</th>\n",
       "      <th>Body Mass (g)</th>\n",
       "      <th>Sex</th>\n",
       "      <th>Delta 15 N (o/oo)</th>\n",
       "      <th>Delta 13 C (o/oo)</th>\n",
       "      <th>Comments</th>\n",
       "    </tr>\n",
       "  </thead>\n",
       "  <tbody>\n",
       "    <tr>\n",
       "      <th>0</th>\n",
       "      <td>PAL0708</td>\n",
       "      <td>1</td>\n",
       "      <td>Adelie Penguin (Pygoscelis adeliae)</td>\n",
       "      <td>Anvers</td>\n",
       "      <td>Torgersen</td>\n",
       "      <td>Adult, 1 Egg Stage</td>\n",
       "      <td>N1A1</td>\n",
       "      <td>Yes</td>\n",
       "      <td>11/11/07</td>\n",
       "      <td>39.1</td>\n",
       "      <td>18.7</td>\n",
       "      <td>181.0</td>\n",
       "      <td>3750.0</td>\n",
       "      <td>MALE</td>\n",
       "      <td>NaN</td>\n",
       "      <td>NaN</td>\n",
       "      <td>Not enough blood for isotopes.</td>\n",
       "    </tr>\n",
       "    <tr>\n",
       "      <th>1</th>\n",
       "      <td>PAL0708</td>\n",
       "      <td>2</td>\n",
       "      <td>Adelie Penguin (Pygoscelis adeliae)</td>\n",
       "      <td>Anvers</td>\n",
       "      <td>Torgersen</td>\n",
       "      <td>Adult, 1 Egg Stage</td>\n",
       "      <td>N1A2</td>\n",
       "      <td>Yes</td>\n",
       "      <td>11/11/07</td>\n",
       "      <td>39.5</td>\n",
       "      <td>17.4</td>\n",
       "      <td>186.0</td>\n",
       "      <td>3800.0</td>\n",
       "      <td>FEMALE</td>\n",
       "      <td>8.94956</td>\n",
       "      <td>-24.69454</td>\n",
       "      <td>NaN</td>\n",
       "    </tr>\n",
       "    <tr>\n",
       "      <th>2</th>\n",
       "      <td>PAL0708</td>\n",
       "      <td>3</td>\n",
       "      <td>Adelie Penguin (Pygoscelis adeliae)</td>\n",
       "      <td>Anvers</td>\n",
       "      <td>Torgersen</td>\n",
       "      <td>Adult, 1 Egg Stage</td>\n",
       "      <td>N2A1</td>\n",
       "      <td>Yes</td>\n",
       "      <td>11/16/07</td>\n",
       "      <td>40.3</td>\n",
       "      <td>18.0</td>\n",
       "      <td>195.0</td>\n",
       "      <td>3250.0</td>\n",
       "      <td>FEMALE</td>\n",
       "      <td>8.36821</td>\n",
       "      <td>-25.33302</td>\n",
       "      <td>NaN</td>\n",
       "    </tr>\n",
       "    <tr>\n",
       "      <th>3</th>\n",
       "      <td>PAL0708</td>\n",
       "      <td>4</td>\n",
       "      <td>Adelie Penguin (Pygoscelis adeliae)</td>\n",
       "      <td>Anvers</td>\n",
       "      <td>Torgersen</td>\n",
       "      <td>Adult, 1 Egg Stage</td>\n",
       "      <td>N2A2</td>\n",
       "      <td>Yes</td>\n",
       "      <td>11/16/07</td>\n",
       "      <td>NaN</td>\n",
       "      <td>NaN</td>\n",
       "      <td>NaN</td>\n",
       "      <td>NaN</td>\n",
       "      <td>NaN</td>\n",
       "      <td>NaN</td>\n",
       "      <td>NaN</td>\n",
       "      <td>Adult not sampled.</td>\n",
       "    </tr>\n",
       "    <tr>\n",
       "      <th>4</th>\n",
       "      <td>PAL0708</td>\n",
       "      <td>5</td>\n",
       "      <td>Adelie Penguin (Pygoscelis adeliae)</td>\n",
       "      <td>Anvers</td>\n",
       "      <td>Torgersen</td>\n",
       "      <td>Adult, 1 Egg Stage</td>\n",
       "      <td>N3A1</td>\n",
       "      <td>Yes</td>\n",
       "      <td>11/16/07</td>\n",
       "      <td>36.7</td>\n",
       "      <td>19.3</td>\n",
       "      <td>193.0</td>\n",
       "      <td>3450.0</td>\n",
       "      <td>FEMALE</td>\n",
       "      <td>8.76651</td>\n",
       "      <td>-25.32426</td>\n",
       "      <td>NaN</td>\n",
       "    </tr>\n",
       "    <tr>\n",
       "      <th>...</th>\n",
       "      <td>...</td>\n",
       "      <td>...</td>\n",
       "      <td>...</td>\n",
       "      <td>...</td>\n",
       "      <td>...</td>\n",
       "      <td>...</td>\n",
       "      <td>...</td>\n",
       "      <td>...</td>\n",
       "      <td>...</td>\n",
       "      <td>...</td>\n",
       "      <td>...</td>\n",
       "      <td>...</td>\n",
       "      <td>...</td>\n",
       "      <td>...</td>\n",
       "      <td>...</td>\n",
       "      <td>...</td>\n",
       "      <td>...</td>\n",
       "    </tr>\n",
       "    <tr>\n",
       "      <th>339</th>\n",
       "      <td>PAL0910</td>\n",
       "      <td>120</td>\n",
       "      <td>Gentoo penguin (Pygoscelis papua)</td>\n",
       "      <td>Anvers</td>\n",
       "      <td>Biscoe</td>\n",
       "      <td>Adult, 1 Egg Stage</td>\n",
       "      <td>N38A2</td>\n",
       "      <td>No</td>\n",
       "      <td>12/1/09</td>\n",
       "      <td>NaN</td>\n",
       "      <td>NaN</td>\n",
       "      <td>NaN</td>\n",
       "      <td>NaN</td>\n",
       "      <td>NaN</td>\n",
       "      <td>NaN</td>\n",
       "      <td>NaN</td>\n",
       "      <td>NaN</td>\n",
       "    </tr>\n",
       "    <tr>\n",
       "      <th>340</th>\n",
       "      <td>PAL0910</td>\n",
       "      <td>121</td>\n",
       "      <td>Gentoo penguin (Pygoscelis papua)</td>\n",
       "      <td>Anvers</td>\n",
       "      <td>Biscoe</td>\n",
       "      <td>Adult, 1 Egg Stage</td>\n",
       "      <td>N39A1</td>\n",
       "      <td>Yes</td>\n",
       "      <td>11/22/09</td>\n",
       "      <td>46.8</td>\n",
       "      <td>14.3</td>\n",
       "      <td>215.0</td>\n",
       "      <td>4850.0</td>\n",
       "      <td>FEMALE</td>\n",
       "      <td>8.41151</td>\n",
       "      <td>-26.13832</td>\n",
       "      <td>NaN</td>\n",
       "    </tr>\n",
       "    <tr>\n",
       "      <th>341</th>\n",
       "      <td>PAL0910</td>\n",
       "      <td>122</td>\n",
       "      <td>Gentoo penguin (Pygoscelis papua)</td>\n",
       "      <td>Anvers</td>\n",
       "      <td>Biscoe</td>\n",
       "      <td>Adult, 1 Egg Stage</td>\n",
       "      <td>N39A2</td>\n",
       "      <td>Yes</td>\n",
       "      <td>11/22/09</td>\n",
       "      <td>50.4</td>\n",
       "      <td>15.7</td>\n",
       "      <td>222.0</td>\n",
       "      <td>5750.0</td>\n",
       "      <td>MALE</td>\n",
       "      <td>8.30166</td>\n",
       "      <td>-26.04117</td>\n",
       "      <td>NaN</td>\n",
       "    </tr>\n",
       "    <tr>\n",
       "      <th>342</th>\n",
       "      <td>PAL0910</td>\n",
       "      <td>123</td>\n",
       "      <td>Gentoo penguin (Pygoscelis papua)</td>\n",
       "      <td>Anvers</td>\n",
       "      <td>Biscoe</td>\n",
       "      <td>Adult, 1 Egg Stage</td>\n",
       "      <td>N43A1</td>\n",
       "      <td>Yes</td>\n",
       "      <td>11/22/09</td>\n",
       "      <td>45.2</td>\n",
       "      <td>14.8</td>\n",
       "      <td>212.0</td>\n",
       "      <td>5200.0</td>\n",
       "      <td>FEMALE</td>\n",
       "      <td>8.24246</td>\n",
       "      <td>-26.11969</td>\n",
       "      <td>NaN</td>\n",
       "    </tr>\n",
       "    <tr>\n",
       "      <th>343</th>\n",
       "      <td>PAL0910</td>\n",
       "      <td>124</td>\n",
       "      <td>Gentoo penguin (Pygoscelis papua)</td>\n",
       "      <td>Anvers</td>\n",
       "      <td>Biscoe</td>\n",
       "      <td>Adult, 1 Egg Stage</td>\n",
       "      <td>N43A2</td>\n",
       "      <td>Yes</td>\n",
       "      <td>11/22/09</td>\n",
       "      <td>49.9</td>\n",
       "      <td>16.1</td>\n",
       "      <td>213.0</td>\n",
       "      <td>5400.0</td>\n",
       "      <td>MALE</td>\n",
       "      <td>8.36390</td>\n",
       "      <td>-26.15531</td>\n",
       "      <td>NaN</td>\n",
       "    </tr>\n",
       "  </tbody>\n",
       "</table>\n",
       "<p>344 rows × 17 columns</p>\n",
       "</div>"
      ],
      "text/plain": [
       "    studyName  Sample Number                              Species  Region  \\\n",
       "0     PAL0708              1  Adelie Penguin (Pygoscelis adeliae)  Anvers   \n",
       "1     PAL0708              2  Adelie Penguin (Pygoscelis adeliae)  Anvers   \n",
       "2     PAL0708              3  Adelie Penguin (Pygoscelis adeliae)  Anvers   \n",
       "3     PAL0708              4  Adelie Penguin (Pygoscelis adeliae)  Anvers   \n",
       "4     PAL0708              5  Adelie Penguin (Pygoscelis adeliae)  Anvers   \n",
       "..        ...            ...                                  ...     ...   \n",
       "339   PAL0910            120    Gentoo penguin (Pygoscelis papua)  Anvers   \n",
       "340   PAL0910            121    Gentoo penguin (Pygoscelis papua)  Anvers   \n",
       "341   PAL0910            122    Gentoo penguin (Pygoscelis papua)  Anvers   \n",
       "342   PAL0910            123    Gentoo penguin (Pygoscelis papua)  Anvers   \n",
       "343   PAL0910            124    Gentoo penguin (Pygoscelis papua)  Anvers   \n",
       "\n",
       "        Island               Stage Individual ID Clutch Completion  Date Egg  \\\n",
       "0    Torgersen  Adult, 1 Egg Stage          N1A1               Yes  11/11/07   \n",
       "1    Torgersen  Adult, 1 Egg Stage          N1A2               Yes  11/11/07   \n",
       "2    Torgersen  Adult, 1 Egg Stage          N2A1               Yes  11/16/07   \n",
       "3    Torgersen  Adult, 1 Egg Stage          N2A2               Yes  11/16/07   \n",
       "4    Torgersen  Adult, 1 Egg Stage          N3A1               Yes  11/16/07   \n",
       "..         ...                 ...           ...               ...       ...   \n",
       "339     Biscoe  Adult, 1 Egg Stage         N38A2                No   12/1/09   \n",
       "340     Biscoe  Adult, 1 Egg Stage         N39A1               Yes  11/22/09   \n",
       "341     Biscoe  Adult, 1 Egg Stage         N39A2               Yes  11/22/09   \n",
       "342     Biscoe  Adult, 1 Egg Stage         N43A1               Yes  11/22/09   \n",
       "343     Biscoe  Adult, 1 Egg Stage         N43A2               Yes  11/22/09   \n",
       "\n",
       "     Culmen Length (mm)  Culmen Depth (mm)  Flipper Length (mm)  \\\n",
       "0                  39.1               18.7                181.0   \n",
       "1                  39.5               17.4                186.0   \n",
       "2                  40.3               18.0                195.0   \n",
       "3                   NaN                NaN                  NaN   \n",
       "4                  36.7               19.3                193.0   \n",
       "..                  ...                ...                  ...   \n",
       "339                 NaN                NaN                  NaN   \n",
       "340                46.8               14.3                215.0   \n",
       "341                50.4               15.7                222.0   \n",
       "342                45.2               14.8                212.0   \n",
       "343                49.9               16.1                213.0   \n",
       "\n",
       "     Body Mass (g)     Sex  Delta 15 N (o/oo)  Delta 13 C (o/oo)  \\\n",
       "0           3750.0    MALE                NaN                NaN   \n",
       "1           3800.0  FEMALE            8.94956          -24.69454   \n",
       "2           3250.0  FEMALE            8.36821          -25.33302   \n",
       "3              NaN     NaN                NaN                NaN   \n",
       "4           3450.0  FEMALE            8.76651          -25.32426   \n",
       "..             ...     ...                ...                ...   \n",
       "339            NaN     NaN                NaN                NaN   \n",
       "340         4850.0  FEMALE            8.41151          -26.13832   \n",
       "341         5750.0    MALE            8.30166          -26.04117   \n",
       "342         5200.0  FEMALE            8.24246          -26.11969   \n",
       "343         5400.0    MALE            8.36390          -26.15531   \n",
       "\n",
       "                           Comments  \n",
       "0    Not enough blood for isotopes.  \n",
       "1                               NaN  \n",
       "2                               NaN  \n",
       "3                Adult not sampled.  \n",
       "4                               NaN  \n",
       "..                              ...  \n",
       "339                             NaN  \n",
       "340                             NaN  \n",
       "341                             NaN  \n",
       "342                             NaN  \n",
       "343                             NaN  \n",
       "\n",
       "[344 rows x 17 columns]"
      ]
     },
     "execution_count": 3,
     "metadata": {},
     "output_type": "execute_result"
    }
   ],
   "source": [
    "penguins"
   ]
  },
  {
   "cell_type": "markdown",
   "metadata": {},
   "source": [
    "In a previous discussion section, we noticed that the `Sex` of penguin 336 was encoded as `.` At this point in the HW, we did not know which columns we were going to use, so we removed penguin 336 from the dataset. "
   ]
  },
  {
   "cell_type": "code",
   "execution_count": 4,
   "metadata": {},
   "outputs": [],
   "source": [
    "# dropping the row in which the penguin's sex is '.'\n",
    "penguins = penguins.drop(336)"
   ]
  },
  {
   "cell_type": "code",
   "execution_count": 5,
   "metadata": {
    "collapsed": true
   },
   "outputs": [
    {
     "data": {
      "text/html": [
       "<div>\n",
       "<style scoped>\n",
       "    .dataframe tbody tr th:only-of-type {\n",
       "        vertical-align: middle;\n",
       "    }\n",
       "\n",
       "    .dataframe tbody tr th {\n",
       "        vertical-align: top;\n",
       "    }\n",
       "\n",
       "    .dataframe thead th {\n",
       "        text-align: right;\n",
       "    }\n",
       "</style>\n",
       "<table border=\"1\" class=\"dataframe\">\n",
       "  <thead>\n",
       "    <tr style=\"text-align: right;\">\n",
       "      <th></th>\n",
       "      <th>studyName</th>\n",
       "      <th>Sample Number</th>\n",
       "      <th>Species</th>\n",
       "      <th>Region</th>\n",
       "      <th>Island</th>\n",
       "      <th>Stage</th>\n",
       "      <th>Individual ID</th>\n",
       "      <th>Clutch Completion</th>\n",
       "      <th>Date Egg</th>\n",
       "      <th>Culmen Length (mm)</th>\n",
       "      <th>Culmen Depth (mm)</th>\n",
       "      <th>Flipper Length (mm)</th>\n",
       "      <th>Body Mass (g)</th>\n",
       "      <th>Sex</th>\n",
       "      <th>Delta 15 N (o/oo)</th>\n",
       "      <th>Delta 13 C (o/oo)</th>\n",
       "      <th>Comments</th>\n",
       "    </tr>\n",
       "  </thead>\n",
       "  <tbody>\n",
       "  </tbody>\n",
       "</table>\n",
       "</div>"
      ],
      "text/plain": [
       "Empty DataFrame\n",
       "Columns: [studyName, Sample Number, Species, Region, Island, Stage, Individual ID, Clutch Completion, Date Egg, Culmen Length (mm), Culmen Depth (mm), Flipper Length (mm), Body Mass (g), Sex, Delta 15 N (o/oo), Delta 13 C (o/oo), Comments]\n",
       "Index: []"
      ]
     },
     "execution_count": 5,
     "metadata": {},
     "output_type": "execute_result"
    }
   ],
   "source": [
    "# making sure that this penguin is no longer in the dataset\n",
    "penguins[penguins['Sex'] == '.'] "
   ]
  },
  {
   "cell_type": "markdown",
   "metadata": {},
   "source": [
    "### Preprocessing\n",
    "In this portion of the HW, we will be preprocessing the `penguins` dataset. The first thing to do is to split the dataset into a training and testing split. This allows us to *train* the model on one subset of the data, and later *test* how good the model is at classifying by comparing its predictions to some *unseen* data. "
   ]
  },
  {
   "cell_type": "code",
   "execution_count": 6,
   "metadata": {},
   "outputs": [],
   "source": [
    "from sklearn.model_selection import train_test_split\n",
    "\n",
    "np.random.seed(1000) # setting seed so we get the same values when we run the code again\n",
    "\n",
    "train, test = train_test_split(penguins, test_size = 0.2) # 20% of the dataset will be held as a test set"
   ]
  },
  {
   "cell_type": "markdown",
   "metadata": {},
   "source": [
    "After this, we have lots of preprocessing to do. Most importantly, we need to separate the **predictor variables** (characteristics of the penguins) from the **target variables** (Species of the penguin). Since we need to do this for the training and the testing split, we can write a function to do so. Since we are preprocessing, we might as well remove some irrelevant columns that won't matter to our model, like `studyName`, `Comments`, etc. We can also remove the rows in which there are `NaN` values for the predictor variables we may use. In addition to this, we need to convert some text information to numerical data so that our model can understand it. Attributes like `Sex`, `Region`, etc can only have a few different values, so using a `LabelEncoder` can help us convert this to a numerical value"
   ]
  },
  {
   "cell_type": "code",
   "execution_count": 7,
   "metadata": {},
   "outputs": [],
   "source": [
    "def clean_data(df_data):\n",
    "    \"\"\"\n",
    "    A function to clean the DataFrame and split the train and test splits further into predictor and target variables\n",
    "    \n",
    "    Parameters\n",
    "    ----------\n",
    "    df_data: The df to be cleaned\n",
    "    \n",
    "    Returns\n",
    "    -------\n",
    "    X: the cleaned predictor variables\n",
    "    y: the cleaned target variable\n",
    "    \"\"\"\n",
    "    df = df_data.copy()\n",
    "    df = df.drop(['studyName', 'Sample Number', 'Stage', 'Individual ID', 'Comments', 'Date Egg', 'Clutch Completion'], axis = 1)\n",
    "    df = df.dropna() # dropping NaN rows for columns of interest\n",
    "    le = preprocessing.LabelEncoder()\n",
    "    for col in ['Sex', 'Species', 'Island', 'Region']: # using a label encoder to simplify text data\n",
    "        df[col] = le.fit_transform(df[col])\n",
    "\n",
    "    X = df.drop(['Species'], axis = 1) # now, X only has predictor variables \n",
    "    y = df['Species'] # y is a column of species\n",
    "    \n",
    "    return X, y"
   ]
  },
  {
   "cell_type": "code",
   "execution_count": 8,
   "metadata": {},
   "outputs": [],
   "source": [
    "X_train, y_train = clean_data(train)\n",
    "X_test, y_test = clean_data(test)"
   ]
  },
  {
   "cell_type": "code",
   "execution_count": 9,
   "metadata": {},
   "outputs": [
    {
     "name": "stdout",
     "output_type": "stream",
     "text": [
      "(255, 9) (255,)\n",
      "(69, 9) (69,)\n"
     ]
    }
   ],
   "source": [
    "# checking to make sure our cleaning worked properly\n",
    "print(X_train.shape, y_train.shape)\n",
    "print(X_test.shape, y_test.shape)"
   ]
  },
  {
   "cell_type": "markdown",
   "metadata": {},
   "source": [
    "### Feature Selection\n",
    "In order to choose which 3 columns may give us the most accurate model, we decided to test all the possible combinations that could be made from the 9 possible predictor variables. In order to do so, we used `itertools.combinations` and `cross_val_score` to see which combinations gave us the highest accuracy. In order to make sure we had at least 1 qualitative column in our feature set, we used the `any()` method to see if any of the elements in the possible combinations were one of the qualitative values. If there were none, we discarded the combination. "
   ]
  },
  {
   "cell_type": "code",
   "execution_count": 10,
   "metadata": {},
   "outputs": [],
   "source": [
    "feature_array = np.array(X_train.columns) # making an array of the column names in X_train"
   ]
  },
  {
   "cell_type": "code",
   "execution_count": 11,
   "metadata": {},
   "outputs": [],
   "source": [
    "import itertools\n",
    "combos = itertools.combinations(feature_array, 3) # creating an array of combinations of length 3"
   ]
  },
  {
   "cell_type": "code",
   "execution_count": 12,
   "metadata": {},
   "outputs": [],
   "source": [
    "qualitative_columns = ['Sex', 'Island', 'Region'] # list of the qualitative columns -- we need one of these to be present\n",
    "combosof3 = []\n",
    "for i in combos:\n",
    "    i = list(i) # converting the combination to a list\n",
    "    if any(item in i for item in qualitative_columns): # if there is a qualitative value present, we will consider this combination\n",
    "        combosof3.append(i)"
   ]
  },
  {
   "cell_type": "markdown",
   "metadata": {},
   "source": [
    "Now, we need to actually see which combination is the best in terms of accurately predicting the species of the penguin. For this, we used `cross_val_score`. K-fold cross validation takes a small piece of the training data (say 10%) and hides it from the model, akin to a mini test set. We train the model on the remaining 90% and then evaluate its performance based on the 10% that we hid. We can then hide a *different* 10% of the data and do the same thing. We can repeat this many times to eventually get an average picture of how our model may perform on the real test data. This is very useful when evaluating optimal complexity of a model, but can also be used for feature selection. To do this, we initialized a `best_score` and `best_combo` value and list to `0` and `empty` respectively. We then looped through all the viable combinations we generated from the previous code cell and trained an `SVM` model with these columns using cross validation. We then checked to see if the `cv_score` was better than the `best_score`. If it was, update the current `best_score` with the new `cv_score`, and update the `best_combo` list with the current combination. "
   ]
  },
  {
   "cell_type": "code",
   "execution_count": 13,
   "metadata": {},
   "outputs": [],
   "source": [
    "from sklearn import svm\n",
    "from sklearn.model_selection import cross_val_score \n",
    "\n",
    "def check_column_score(combosof3):\n",
    "    \"\"\"\n",
    "    Trains and evaluates a model via cross-validation on the different combinations of columns of the data\n",
    "    \n",
    "    Parameters\n",
    "    ----------\n",
    "    combosof3: A list of potential combinations that can be used to train a model\n",
    "    \n",
    "    Returns\n",
    "    -------\n",
    "    best_combo: the best combination of columns in terms of accuracy\n",
    "    best_score: the highest score acheived by a model with the best combination\n",
    "    \"\"\"\n",
    "    # print(\"training with columns \" + str(cols)\n",
    "    best_score = 0\n",
    "    best_combo = []\n",
    "  \n",
    "    for cols in combosof3:\n",
    "        SVM = svm.SVC()\n",
    "        cv_score = cross_val_score(SVM, X_train[cols], y_train, cv = 5).mean()\n",
    "        if cv_score > best_score:\n",
    "            best_score = cv_score\n",
    "            best_combo = cols\n",
    "    \n",
    "    return best_combo, best_score"
   ]
  },
  {
   "cell_type": "code",
   "execution_count": 14,
   "metadata": {},
   "outputs": [],
   "source": [
    "best_combo, best_score = check_column_score(combosof3)"
   ]
  },
  {
   "cell_type": "code",
   "execution_count": 15,
   "metadata": {},
   "outputs": [
    {
     "name": "stdout",
     "output_type": "stream",
     "text": [
      "['Island', 'Culmen Length (mm)', 'Culmen Depth (mm)'] 0.8509803921568627\n"
     ]
    }
   ],
   "source": [
    "print(best_combo, best_score) # we found the best combination had an accuracy of 85%"
   ]
  },
  {
   "cell_type": "code",
   "execution_count": 16,
   "metadata": {},
   "outputs": [],
   "source": [
    "# updating X_train and X_test to only have the 'best' columns\n",
    "X_train = X_train[best_combo]\n",
    "X_test = X_test[best_combo]"
   ]
  },
  {
   "cell_type": "markdown",
   "metadata": {},
   "source": [
    "### Choosing Optimal Model Complexity\n",
    "Now that we have the best columns, we need to see what the best model complexity is. The complexity parameter for SVM is called `gamma`. In essence, a higher `gamma` value will create a more complex model. While this may sound good, it could lead to *overfitting*. This is a phenomenon that occurs when our model complexity is so high that it perfectly (or almost perfectly) classifies the training data (that it has seen), but performs far far worse on the test data (that it has not seen). In order to choose the optimal model complexity, we will again use K-fold cross validation. Here however, instead of modifying the columns, we will modify the `gamma` value. In order to show this information clearly, we can plot the decrease in CV score due to the increasing model complexity. "
   ]
  },
  {
   "cell_type": "code",
   "execution_count": 17,
   "metadata": {},
   "outputs": [
    {
     "data": {
      "image/png": "[encoded data removed]",
      "text/plain": [
       "<Figure size 432x288 with 1 Axes>"
      ]
     },
     "metadata": {
      "needs_background": "light"
     },
     "output_type": "display_data"
    }
   ],
   "source": [
    "fig, ax = plt.subplots(1)\n",
    "\n",
    "best_score = 0\n",
    "best_gamma = 0\n",
    "\n",
    "for d in range(1, 30): # try gamma values from 1 to 30\n",
    "    SVM = svm.SVC(gamma = d)\n",
    "    cv_score = cross_val_score(SVM, X_train, y_train, cv = 10).mean()\n",
    "    ax.scatter(d, cv_score, color = 'black') # plot the gamma value and the cv_score\n",
    "\n",
    "    if cv_score > best_score:\n",
    "        best_gamma = d\n",
    "        best_score = cv_score\n",
    "\n",
    "l = ax.set(title = \"Best Gamma : \" + str(best_gamma) + \"\\n Score = \" + str(best_score),\n",
    "           xlabel = \"Gamma\",\n",
    "           ylabel = \"CV Score\",\n",
    "           alpha = 0.5)"
   ]
  },
  {
   "cell_type": "markdown",
   "metadata": {},
   "source": [
    "From this graph, we can clearly see that the CV score decreases consistently as we increase the `gamma` value. We can clearly see that the best value for `gamma` is actually 1 (accuracy of 0.976). However, lets investigate further and see if there is another `gamma` value that may yield a higher score"
   ]
  },
  {
   "cell_type": "code",
   "execution_count": 18,
   "metadata": {},
   "outputs": [
    {
     "data": {
      "image/png": "[encoded data removed]",
      "text/plain": [
       "<Figure size 432x288 with 1 Axes>"
      ]
     },
     "metadata": {
      "needs_background": "light"
     },
     "output_type": "display_data"
    }
   ],
   "source": [
    "fig, ax = plt.subplots(1)\n",
    "\n",
    "best_score = 0\n",
    "best_gamma = 0\n",
    "\n",
    "for d in np.linspace(0.01, 2, 200): # this time, we are checking 200 possible values between 0.01 and 2.0\n",
    "    SVM = svm.SVC(gamma = d)\n",
    "    cv_score = cross_val_score(SVM, X_train, y_train, cv = 10).mean()\n",
    "    ax.scatter(d, cv_score, color = 'black')\n",
    "\n",
    "    if cv_score > best_score:\n",
    "        best_gamma = d\n",
    "        best_score = cv_score\n",
    "\n",
    "l = ax.set(title = \"Best Gamma : \" + str(best_gamma) + \"\\n Score = \" + str(best_score),\n",
    "           xlabel = \"Gamma\",\n",
    "           ylabel = \"CV Score\",\n",
    "           alpha = 0.5)"
   ]
  },
  {
   "cell_type": "markdown",
   "metadata": {},
   "source": [
    "This time, we looked at potential `gamma` values between `0.01` and `2.0` and found that we could get an even higher score of `0.984` when we used `gamma = 0.3`. Now that we have the optimal model complexity, lets see how it performs on the actual test data. "
   ]
  },
  {
   "cell_type": "code",
   "execution_count": 19,
   "metadata": {},
   "outputs": [
    {
     "name": "stdout",
     "output_type": "stream",
     "text": [
      "Best Gamma = 0.3\n",
      "Score = 0.9565217391304348\n"
     ]
    }
   ],
   "source": [
    "print('Best Gamma = ' + str(best_gamma))\n",
    "SVM = svm.SVC(gamma = best_gamma) # Creating an SVM model with gamma = best_gamma\n",
    "SVM.fit(X_train, y_train) # fitting the model on all of our training data\n",
    "print('Score = ' + str(SVM.score(X_test, y_test))) # evaluating the model on the test data"
   ]
  },
  {
   "cell_type": "markdown",
   "metadata": {},
   "source": [
    "Not bad! We got an accuracy of around 95% when we fitted the model on all of the training data and evaluated it with the testing data. However, there are still many things we can do!"
   ]
  },
  {
   "cell_type": "markdown",
   "metadata": {},
   "source": [
    "### Confusion Matrix\n",
    "Although our model is pretty good, it still messes up on occasion. Lets try to figure out why this is happening. In order to do this, we can create a *confusion matrix*, which basically shows us where our model is incorrectly classifying penguins. "
   ]
  },
  {
   "cell_type": "code",
   "execution_count": 20,
   "metadata": {},
   "outputs": [
    {
     "data": {
      "text/plain": [
       "array([2, 0, 2, 2, 0, 0, 2, 1, 2, 2, 0, 1, 0, 2, 2, 0, 1, 2, 2, 2, 1, 0,\n",
       "       1, 1, 0, 0, 0, 0, 1, 0, 2, 0, 2, 0, 1, 0, 1, 0, 0, 2, 1, 1, 1, 2,\n",
       "       2, 0, 0, 2, 1, 2, 1, 0, 1, 0, 0, 2, 2, 2, 0, 0, 0, 2, 0, 0, 2, 2,\n",
       "       2, 1, 2])"
      ]
     },
     "execution_count": 20,
     "metadata": {},
     "output_type": "execute_result"
    }
   ],
   "source": [
    "# get the model's predictions based on the test data\n",
    "y_test_pred = SVM.predict(X_test)\n",
    "y_test_pred"
   ]
  },
  {
   "cell_type": "code",
   "execution_count": 21,
   "metadata": {},
   "outputs": [
    {
     "data": {
      "text/plain": [
       "array([[26,  1,  0],\n",
       "       [ 1, 14,  0],\n",
       "       [ 0,  1, 26]])"
      ]
     },
     "execution_count": 21,
     "metadata": {},
     "output_type": "execute_result"
    }
   ],
   "source": [
    "# create a confusion matrix of the actual test target variables and our model's predictions\n",
    "from sklearn.metrics import confusion_matrix\n",
    "c = confusion_matrix(y_test, y_test_pred)\n",
    "c"
   ]
  },
  {
   "cell_type": "markdown",
   "metadata": {},
   "source": [
    "In a confusion matrix, the `i,j`th entry shows us the number of times the model predicted `j` when the value was actually `i`. For example, the very first number in the matrix is `26`. This means that the model predicted the species to be `0` (remember we used a `LabelEncoder` to change names to numbers) and the actual species was also `0` 26 times. Similarly, the model predicted the species to be `0` when the actual species was `1` on `1` occasion. We can use Boolean indexing to extract all the incorrectly classified penguins."
   ]
  },
  {
   "cell_type": "code",
   "execution_count": 22,
   "metadata": {},
   "outputs": [
    {
     "data": {
      "text/plain": [
       "(array([1, 1, 0]),\n",
       " 253    2\n",
       " 73     0\n",
       " 216    1\n",
       " Name: Species, dtype: int64)"
      ]
     },
     "execution_count": 22,
     "metadata": {},
     "output_type": "execute_result"
    }
   ],
   "source": [
    "mistakes = X_test[y_test != y_test_pred] # getting the rows of X_test for which our model messed up\n",
    "mistake_labels = y_test[y_test != y_test_pred] # getting the actual species for where the model messed up \n",
    "mistake_preds = y_test_pred[y_test != y_test_pred] # getting the (incorrect) predicted species\n",
    "\n",
    "mistake_preds, mistake_labels"
   ]
  },
  {
   "cell_type": "markdown",
   "metadata": {},
   "source": [
    "So, we can see that we messed up with Penguins 253, 73, and 216.\n",
    "- Our model thought 253 was a Chinstrap Penguin: It was actually a Gentoo Penguin\n",
    "- Our model thought 73 was a Chinstrap Penguin: It was actually an Adelie Penguin\n",
    "- Our model thought 216 was an Adelie Penguin: It was actually a Chinstrap Penguin\n",
    "\n",
    "Lets get the information for these penguins and see if we can figure out why the model classified them incorrectly"
   ]
  },
  {
   "cell_type": "code",
   "execution_count": 23,
   "metadata": {},
   "outputs": [
    {
     "data": {
      "text/html": [
       "<div>\n",
       "<style scoped>\n",
       "    .dataframe tbody tr th:only-of-type {\n",
       "        vertical-align: middle;\n",
       "    }\n",
       "\n",
       "    .dataframe tbody tr th {\n",
       "        vertical-align: top;\n",
       "    }\n",
       "\n",
       "    .dataframe thead tr th {\n",
       "        text-align: left;\n",
       "    }\n",
       "\n",
       "    .dataframe thead tr:last-of-type th {\n",
       "        text-align: right;\n",
       "    }\n",
       "</style>\n",
       "<table border=\"1\" class=\"dataframe\">\n",
       "  <thead>\n",
       "    <tr>\n",
       "      <th></th>\n",
       "      <th></th>\n",
       "      <th colspan=\"2\" halign=\"left\">Culmen Length (mm)</th>\n",
       "      <th colspan=\"2\" halign=\"left\">Culmen Depth (mm)</th>\n",
       "    </tr>\n",
       "    <tr>\n",
       "      <th></th>\n",
       "      <th></th>\n",
       "      <th>mean</th>\n",
       "      <th>std</th>\n",
       "      <th>mean</th>\n",
       "      <th>std</th>\n",
       "    </tr>\n",
       "    <tr>\n",
       "      <th>Species</th>\n",
       "      <th>Island</th>\n",
       "      <th></th>\n",
       "      <th></th>\n",
       "      <th></th>\n",
       "      <th></th>\n",
       "    </tr>\n",
       "  </thead>\n",
       "  <tbody>\n",
       "    <tr>\n",
       "      <th rowspan=\"3\" valign=\"top\">Adelie Penguin (Pygoscelis adeliae)</th>\n",
       "      <th>Biscoe</th>\n",
       "      <td>38.975000</td>\n",
       "      <td>2.480916</td>\n",
       "      <td>18.370455</td>\n",
       "      <td>1.188820</td>\n",
       "    </tr>\n",
       "    <tr>\n",
       "      <th>Dream</th>\n",
       "      <td>38.501786</td>\n",
       "      <td>2.465359</td>\n",
       "      <td>18.251786</td>\n",
       "      <td>1.133617</td>\n",
       "    </tr>\n",
       "    <tr>\n",
       "      <th>Torgersen</th>\n",
       "      <td>38.950980</td>\n",
       "      <td>3.025318</td>\n",
       "      <td>18.429412</td>\n",
       "      <td>1.339447</td>\n",
       "    </tr>\n",
       "    <tr>\n",
       "      <th>Chinstrap penguin (Pygoscelis antarctica)</th>\n",
       "      <th>Dream</th>\n",
       "      <td>48.833824</td>\n",
       "      <td>3.339256</td>\n",
       "      <td>18.420588</td>\n",
       "      <td>1.135395</td>\n",
       "    </tr>\n",
       "    <tr>\n",
       "      <th>Gentoo penguin (Pygoscelis papua)</th>\n",
       "      <th>Biscoe</th>\n",
       "      <td>47.529508</td>\n",
       "      <td>3.082386</td>\n",
       "      <td>14.976230</td>\n",
       "      <td>0.983084</td>\n",
       "    </tr>\n",
       "  </tbody>\n",
       "</table>\n",
       "</div>"
      ],
      "text/plain": [
       "                                                    Culmen Length (mm)  \\\n",
       "                                                                  mean   \n",
       "Species                                   Island                         \n",
       "Adelie Penguin (Pygoscelis adeliae)       Biscoe             38.975000   \n",
       "                                          Dream              38.501786   \n",
       "                                          Torgersen          38.950980   \n",
       "Chinstrap penguin (Pygoscelis antarctica) Dream              48.833824   \n",
       "Gentoo penguin (Pygoscelis papua)         Biscoe             47.529508   \n",
       "\n",
       "                                                               \\\n",
       "                                                          std   \n",
       "Species                                   Island                \n",
       "Adelie Penguin (Pygoscelis adeliae)       Biscoe     2.480916   \n",
       "                                          Dream      2.465359   \n",
       "                                          Torgersen  3.025318   \n",
       "Chinstrap penguin (Pygoscelis antarctica) Dream      3.339256   \n",
       "Gentoo penguin (Pygoscelis papua)         Biscoe     3.082386   \n",
       "\n",
       "                                                    Culmen Depth (mm)  \\\n",
       "                                                                 mean   \n",
       "Species                                   Island                        \n",
       "Adelie Penguin (Pygoscelis adeliae)       Biscoe            18.370455   \n",
       "                                          Dream             18.251786   \n",
       "                                          Torgersen         18.429412   \n",
       "Chinstrap penguin (Pygoscelis antarctica) Dream             18.420588   \n",
       "Gentoo penguin (Pygoscelis papua)         Biscoe            14.976230   \n",
       "\n",
       "                                                               \n",
       "                                                          std  \n",
       "Species                                   Island               \n",
       "Adelie Penguin (Pygoscelis adeliae)       Biscoe     1.188820  \n",
       "                                          Dream      1.133617  \n",
       "                                          Torgersen  1.339447  \n",
       "Chinstrap penguin (Pygoscelis antarctica) Dream      1.135395  \n",
       "Gentoo penguin (Pygoscelis papua)         Biscoe     0.983084  "
      ]
     },
     "execution_count": 23,
     "metadata": {},
     "output_type": "execute_result"
    }
   ],
   "source": [
    "penguins[['Species', 'Island', 'Culmen Length (mm)', 'Culmen Depth (mm)']].groupby(['Species', 'Island']).aggregate([np.mean, np.std])"
   ]
  },
  {
   "cell_type": "markdown",
   "metadata": {},
   "source": [
    "From this table we can see the average and standard deviation for the `Culmen Length (mm)` and `Culmen Depth (mm)` for the penguin species per island. Let's see how penguins 253, 73, and 216 match up"
   ]
  },
  {
   "cell_type": "code",
   "execution_count": 24,
   "metadata": {},
   "outputs": [
    {
     "data": {
      "text/plain": [
       "Species               Gentoo penguin (Pygoscelis papua)\n",
       "Island                                           Biscoe\n",
       "Culmen Length (mm)                                 59.6\n",
       "Culmen Depth (mm)                                    17\n",
       "Name: 253, dtype: object"
      ]
     },
     "execution_count": 24,
     "metadata": {},
     "output_type": "execute_result"
    }
   ],
   "source": [
    "penguins[['Species', 'Island', 'Culmen Length (mm)', 'Culmen Depth (mm)']].loc[253]"
   ]
  },
  {
   "cell_type": "markdown",
   "metadata": {},
   "source": [
    "We can see that Penguin 253 has a rather long Culmen Length (59.6) which is closer to the average Culmen Length for Chinstrap penguins. Furthermore, Penguin 253's Culmen Depth is far closer to the average Culmen Depth of Chinstrap penguins than Gentoo penguins. Due to this, it was incorrectly classified as a Chinstrap penguin when it was actually a Gentoo penguin"
   ]
  },
  {
   "cell_type": "code",
   "execution_count": 25,
   "metadata": {},
   "outputs": [
    {
     "data": {
      "text/plain": [
       "Species               Adelie Penguin (Pygoscelis adeliae)\n",
       "Island                                          Torgersen\n",
       "Culmen Length (mm)                                   45.8\n",
       "Culmen Depth (mm)                                    18.9\n",
       "Name: 73, dtype: object"
      ]
     },
     "execution_count": 25,
     "metadata": {},
     "output_type": "execute_result"
    }
   ],
   "source": [
    "penguins[['Species', 'Island', 'Culmen Length (mm)', 'Culmen Depth (mm)']].loc[73]"
   ]
  },
  {
   "cell_type": "markdown",
   "metadata": {},
   "source": [
    "Penguin 73's Culmen Length is also much closer to the average Culmen Length of Chinstrap penguins than they are the to the averages for Adelie penguins, so the model incorrectly classfied them."
   ]
  },
  {
   "cell_type": "code",
   "execution_count": 26,
   "metadata": {},
   "outputs": [
    {
     "data": {
      "text/plain": [
       "Species               Chinstrap penguin (Pygoscelis antarctica)\n",
       "Island                                                    Dream\n",
       "Culmen Length (mm)                                         43.5\n",
       "Culmen Depth (mm)                                          18.1\n",
       "Name: 216, dtype: object"
      ]
     },
     "execution_count": 26,
     "metadata": {},
     "output_type": "execute_result"
    }
   ],
   "source": [
    "penguins[['Species', 'Island', 'Culmen Length (mm)', 'Culmen Depth (mm)']].loc[216]"
   ]
  },
  {
   "cell_type": "markdown",
   "metadata": {},
   "source": [
    "Penguin 216's Culmen Length and Depth are closer to the average Culmen Length and Depth of Adelie Penguins on Dream Island so the model incorrectly classifed it"
   ]
  },
  {
   "cell_type": "markdown",
   "metadata": {},
   "source": [
    "### Decision Regions"
   ]
  },
  {
   "cell_type": "markdown",
   "metadata": {},
   "source": [
    "When you use a machine learning model to classify data, it is hard to \"see\" how exactly this happens. Under the hood, the model is using the predictor variables `X`, doing some math, and eventually giving you the predicted target variable `y`. In order to get a sense for how exactly this happens, we can use *Decision Regions*. This is a way to see which values of predictor variables would be classifed as which target. "
   ]
  },
  {
   "cell_type": "code",
   "execution_count": 27,
   "metadata": {},
   "outputs": [],
   "source": [
    "# dictionaries to help us assign colors, title, and labels in the figure\n",
    "colors = {0: 'blue', 1: 'green', 2: 'red'}\n",
    "islands = {0: 'Biscoe', 1: 'Dream', 2: 'Torgersen'}\n",
    "species = {0 : 'Adelie', 1 : 'Chinstrap', 2 : 'Gentoo'}\n",
    "\n",
    "def plot_regions(c, X, y):\n",
    "    \"\"\"\n",
    "    A function to plot the decision regions for a given machine learning model\n",
    "    \n",
    "    Parameters\n",
    "    ----------\n",
    "    c: the model supplied by the user which classifies species based on Island, Culmen Length and Culmen Depth\n",
    "    X: DataFrame of the predictor variables Island, Culmen Length (mm), and Culmen Depth (mm)\n",
    "    y: DataFrame of the target variable Species\n",
    "    \n",
    "    This function does not return any values, but plots decision regions based on quantitative\n",
    "    variables Culmen Length and Culmen Depth, With one plot for each value of the qualitative variable 'Island'\n",
    "    \"\"\"\n",
    "    \n",
    "    # for convenience, give names to the three \n",
    "    # columns of the data\n",
    "    x0 = X['Culmen Length (mm)']\n",
    "    x1 = X['Culmen Depth (mm)']\n",
    "    x2 = X['Island'].unique()[0]\n",
    "    \n",
    "    # create a grid\n",
    "    grid_x = np.linspace(x0.min(),x0.max(),501)\n",
    "    grid_y = np.linspace(x1.min(),x1.max(),501)\n",
    "    xx, yy = np.meshgrid(grid_x, grid_y)\n",
    "    \n",
    "    # extract model predictions, using the \n",
    "    # np.c_ attribute to join together the \n",
    "    # two parts of the grid. \n",
    "    # array.ravel() converts an multidimensional\n",
    "    # array into a 1d array, and we use array.reshape()\n",
    "    # to turn the resulting predictions p \n",
    "    # back into 2d\n",
    "    \n",
    "    XX = xx.ravel()\n",
    "    YY = yy.ravel()\n",
    "    ZZ = [x2 for i in range(len(XX))] # add a column indicating the island the penguin is on\n",
    "    XY = np.c_[ZZ, XX, YY] \n",
    "    \n",
    "    p = c.predict(XY) # we are now predicting based off of 3 variables\n",
    "    p = p.reshape(xx.shape)\n",
    "    \n",
    "    # create the plot\n",
    "    fig, ax = plt.subplots(1)\n",
    "    \n",
    "    # use contour plot to visualize the predictions\n",
    "    ax.contourf(xx, yy, p, cmap = \"jet\", alpha = 0.2)\n",
    "    \n",
    "    # plot the data\n",
    "    for species_iter in colors.keys():\n",
    "        ax.scatter(x0[y == species_iter], x1[y == species_iter], color = colors[species_iter],\n",
    "                   label = species[species_iter])\n",
    "    \n",
    "    ax.set(xlabel = \"Culmen Length (mm)\", \n",
    "           ylabel = \"Culmen Depth (mm)\",\n",
    "           title = islands[x2])\n",
    "\n",
    "    ax.legend()"
   ]
  },
  {
   "cell_type": "code",
   "execution_count": 28,
   "metadata": {},
   "outputs": [
    {
     "data": {
      "image/png": "[encoded data removed]",
      "text/plain": [
       "<Figure size 432x288 with 1 Axes>"
      ]
     },
     "metadata": {
      "needs_background": "light"
     },
     "output_type": "display_data"
    },
    {
     "data": {
      "image/png": "[encoded data removed]",
      "text/plain": [
       "<Figure size 432x288 with 1 Axes>"
      ]
     },
     "metadata": {
      "needs_background": "light"
     },
     "output_type": "display_data"
    },
    {
     "data": {
      "image/png": "[encoded data removed]",
      "text/plain": [
       "<Figure size 432x288 with 1 Axes>"
      ]
     },
     "metadata": {
      "needs_background": "light"
     },
     "output_type": "display_data"
    }
   ],
   "source": [
    "for island in X_test['Island'].unique():\n",
    "    X = X_test[X_test['Island'] == island]\n",
    "    y = y_test[X_test['Island'] == island]\n",
    "    plot_regions(SVM, X, y)"
   ]
  },
  {
   "cell_type": "markdown",
   "metadata": {},
   "source": [
    "A decision region works by predicting a species across points in a data space. Here, we made a grid of points based on the minimum and maximum values for `Culmen Length (mm)` and `Culmen Depth (mm)` and created separate plots for each `Island`, since it is our qualitative variable. The colors on our graph represent the values of `Culmen Length (mm)` and `Culmen Depth (mm)` for which our model predicts a certain species. We can clearly see that the Decision Regions change depending on what `Island` we are looking at. We can also see that three of the penguins lie outside of the Decision Region for their species -- these are the same penguins that were incorrectly classified by our model when we were looking at the confusion matrix earlier. "
   ]
  }
 ],
 "metadata": {
  "kernelspec": {
   "display_name": "Python 3",
   "language": "python",
   "name": "python3"
  },
  "language_info": {
   "codemirror_mode": {
    "name": "ipython",
    "version": 3
   },
   "file_extension": ".py",
   "mimetype": "text/x-python",
   "name": "python",
   "nbconvert_exporter": "python",
   "pygments_lexer": "ipython3",
   "version": "3.8.5"
  }
 },
 "nbformat": 4,
 "nbformat_minor": 4
}
