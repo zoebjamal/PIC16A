{
 "cells": [
  {
   "cell_type": "markdown",
   "metadata": {},
   "source": [
    "# Homework 1\n",
    "\n",
    "*Fill in your name and the names of any students who helped you below.* \n",
    "\n",
    "> I affirm that I personally wrote the text, code, and comments in this homework assignment. \n",
    "\n",
    "> I received help from \\[other student\\] who gave me suggestions on \\[problem\\].\n",
    "\n",
    "- *By Zoeb Jamal*\n",
    "- Jan. 10th, 2021\n",
    "\n",
    "\n",
    "\n",
    "This homework focuses on topics related to basic data types, collections, and iterations. For each problem, place your solution below the **Solution** headers. Refer to [Expectations for Assignments](https://nbviewer.jupyter.org/github/PhilChodrow/PIC16A/blob/master/content/preliminaries/expectations_for_assignments.ipynb) for instructions on submitting this assignment. For this assignment, it is not necessary to write docstrings for any of your code, but you should include comments and descriptions of your general approach. \n",
    "\n",
    "Submit this assignment on GradeScope. "
   ]
  },
  {
   "cell_type": "markdown",
   "metadata": {},
   "source": [
    "## Problem 1\n",
    "\n",
    "### (a)\n",
    "\n",
    "Create a string variable `s` such that the following works: \n",
    "\n",
    "You may need to use one or more special characters.\n",
    "\n",
    "```python\n",
    "print(s)\n",
    "```\n",
    "```\n",
    "Tired    : Doing math on your calculator. \n",
    "Wired    : Doing math in Python. \n",
    "Inspired : Training literal pythons to carry out long division using an abacus.\n",
    "```"
   ]
  },
  {
   "cell_type": "markdown",
   "metadata": {},
   "source": [
    "### Solution\n",
    "I will approach this problem by using string literals to line up the `:`'s and save the text in a string `s`"
   ]
  },
  {
   "cell_type": "code",
   "execution_count": 1,
   "metadata": {},
   "outputs": [],
   "source": [
    "# your solution\n",
    "s = (\"Tired    : Doing math on your calculator.\\n\" # using string literals because it is easier to line up the :'s\n",
    "     \"Wired    : Doing math in Python.\\n\"\n",
    "     \"Inspired : Training literal pythons to carry out long division using an abacus.\")\n",
    "print(s)"
   ]
  },
  {
   "cell_type": "markdown",
   "metadata": {},
   "source": [
    "Next, write Python commands which use `s` to print the specified outputs. Feel free to use loops and comprehensions; however, keep your code as concise as possible. Each solution should require at most three short lines of code.  \n",
    "\n",
    "For full credit, you should minimize the use of positional indexing (e.g. `s[5:10]`) when possible. \n",
    "\n",
    "### (b)\n",
    "\n",
    "Output: \n",
    "\n",
    "```\n",
    "Tired    \n",
    "Doing math on your calculator. \n",
    "Wired    \n",
    "Doing math in Python. \n",
    "Inspired \n",
    "Training literal pythons to carry out long division using an abacus.\n",
    "```"
   ]
  },
  {
   "cell_type": "markdown",
   "metadata": {},
   "source": [
    "### Solution\n",
    "I will approach this problem by replacing the `: `'s with `\\n`'s  and then printing the resulting string. "
   ]
  },
  {
   "cell_type": "code",
   "execution_count": 2,
   "metadata": {},
   "outputs": [],
   "source": [
    "# your solution here. \n",
    "print(s.replace(\": \", \"\\n\"))"
   ]
  },
  {
   "cell_type": "markdown",
   "metadata": {},
   "source": [
    "### (c)\n",
    "\n",
    "Output: \n",
    "\n",
    "```\n",
    "Tired\n",
    "Wired\n",
    "Inspired\n",
    "```\n",
    "\n",
    "**Hint**: look at the endings of words. A small amount of positional indexing might be handy here. "
   ]
  },
  {
   "cell_type": "markdown",
   "metadata": {},
   "source": [
    "### Solution\n",
    "I will approach this problem by converting the whole string to list split by lines (delimiter is the newline character). I will then print the first 8 characters in the string (goes right up to the `:`)"
   ]
  },
  {
   "cell_type": "code",
   "execution_count": 3,
   "metadata": {},
   "outputs": [],
   "source": [
    "# your solution here. \n",
    "c = s.split(\"\\n\") # converting string to list with elements split by \\n\n",
    "for i in range(len(c)): # loop to print the first 8 characters of each element in the list\n",
    "    print(c[i][0:8]) "
   ]
  },
  {
   "cell_type": "markdown",
   "metadata": {},
   "source": [
    "### (d)\n",
    "\n",
    "Output: \n",
    "\n",
    "```\n",
    "Tired    : Doing math on your calculator. \n",
    "Wired    : Doing math in Python. \n",
    "```\n",
    "\n",
    "**Hint**: These two lines are shorter than the other one.  "
   ]
  },
  {
   "cell_type": "markdown",
   "metadata": {},
   "source": [
    "### Solution\n",
    "I will approach this problem by creating a list just like in (c) and then printing the first 2 elements with a for loop."
   ]
  },
  {
   "cell_type": "code",
   "execution_count": 4,
   "metadata": {},
   "outputs": [
    {
     "name": "stdout",
     "output_type": "stream",
     "text": [
      "Tired    : Doing math on your calculator.\n",
      "Wired    : Doing math in Python.\n"
     ]
    }
   ],
   "source": [
    "# your solution here. \n",
    "d = s.split(\"\\n\") # creating a list from the string with elements split by the newline character\n",
    "for i in range(len(d) - 1): # loop to print the first 2 elements of the list (the first 2 lines of the string)\n",
    "    print(d[i])"
   ]
  },
  {
   "cell_type": "markdown",
   "metadata": {},
   "source": [
    "### (e)\n",
    "\n",
    "Output (note the lack of quotation marks). \n",
    "\n",
    "```\n",
    "Tired    : Doing data science on your calculator. \n",
    "Wired    : Doing data science in Python. \n",
    "Inspired : Training literal pythons to carry out machine learning using an abacus.\n",
    "```\n",
    "\n",
    "**Hint**: `str.replace`. "
   ]
  },
  {
   "cell_type": "markdown",
   "metadata": {},
   "source": [
    "### Solution\n",
    "In this problem, I will use `str.replace()` to replace various key words in the original string with the new content. I will then overwrite the original string with the new value"
   ]
  },
  {
   "cell_type": "code",
   "execution_count": 5,
   "metadata": {},
   "outputs": [
    {
     "name": "stdout",
     "output_type": "stream",
     "text": [
      "Tired    : Doing data science on your calculator.\n",
      "Wired    : Doing data science in Python.\n",
      "Inspired : Training literal pythons to carry out machine learning using an abacus.\n"
     ]
    }
   ],
   "source": [
    "# your solution here. \n",
    "s = s.replace(\"math\", \"data science\") # replaces \"math\" in s with \"data science\"\n",
    "s = s.replace(\"long division\", \"machine learning\") # replaces \"long division\" with \"machine learning\"\n",
    "print(s)"
   ]
  },
  {
   "cell_type": "markdown",
   "metadata": {},
   "source": [
    "## Problem 2\n",
    "\n",
    "Write code which, given a list `L`, produces a dictionary `D` where: \n",
    "\n",
    "- The *keys* of `D` are the unique elements of `L` (i.e. each element of `L` appears only once). \n",
    "- The value `D[i]` is the number of times that `i` appears in list `L`. \n",
    "\n",
    "Demonstrate that your code works for lists of strings, lists of integers, and lists containing both strings and integers. (it's fine to copy and paste your code for this, although if you happen to know how to define functions then you might find that more efficient). \n",
    "\n",
    "For example: \n",
    "\n",
    "```python\n",
    "L = [\"a\", \"a\", \"b\", \"c\"]\n",
    "# your code here\n",
    "# ...\n",
    "D\n",
    "# output\n",
    "{\"a\" : 2, \"b\" : 1, \"c\" : 1}\n",
    "```"
   ]
  },
  {
   "cell_type": "markdown",
   "metadata": {},
   "source": [
    "## Solution\n",
    "Here, I will write a function def to convert a list to a dictionary. I will create an empty `dict` in the body of the function and use a for loop to go through the elements of the list and write them in to the dictionary. In order to create the key-value pair, I will set each key equal to the number of times that element occurs in the original list. "
   ]
  },
  {
   "cell_type": "code",
   "execution_count": 6,
   "metadata": {},
   "outputs": [
    {
     "name": "stdout",
     "output_type": "stream",
     "text": [
      "{1: 2, 2: 2, 3: 1, 4: 1, 5: 1}\n",
      "{'apple': 2, 'orange': 2, 'banana': 1, 'pear': 1}\n",
      "{'apple': 1, 'orange': 1, 1: 2, 5: 1, 6: 1, 7: 1, 'pear': 1}\n"
     ]
    }
   ],
   "source": [
    "def convert(myList):\n",
    "    \"\"\"\n",
    "    convert a given list into a dictionary whose key-value pairs are the elements from the list and their frequency\n",
    "    \n",
    "    Parameters\n",
    "    ----------\n",
    "    myList: list, the list that the user wants to convert to a dict\n",
    "    \n",
    "    Return\n",
    "    ----------\n",
    "    d: dictionary, contains the elements of the list and their frequencies\n",
    "    \"\"\"\n",
    "    d = {} # creating the empty dict\n",
    "    for i in range(len(myList)): # loop to go throught the elements of myList\n",
    "        d[myList[i]] = myList.count(myList[i]) \n",
    "        # each key of d is set to the i'th element of myList and its value is set to the number of times it occurs\n",
    "        # I know that this will result in multiple occurences of each element of myList, but since dict keys are\n",
    "        # dropped if they are repeated, this is not an issue\n",
    "    return d\n",
    "\n",
    "print(convert([1, 2, 3, 4, 2, 5, 1]))\n",
    "print(convert(['apple', 'orange', 'banana', 'apple', 'pear', 'orange']))\n",
    "print(convert(['apple', 'orange', 1, 5, 1, 6, 7, 'pear']))"
   ]
  },
  {
   "cell_type": "markdown",
   "metadata": {},
   "source": [
    "## Problem 3\n",
    "\n",
    "The `input()` function allows you to accept typed input from a user as a string. For example, \n",
    "\n",
    "```python\n",
    "x = input(\"Please input a number.\")\n",
    "# user types 7\n",
    "x\n",
    "# output \n",
    "'7'\n",
    "```\n",
    "\n",
    "Write code that prompts a user to input an odd `int`. If the user inputs an even `int`, the code should re-prompt them for an odd integer. After the user has entered an odd integer, the code should print a list of all numbers that the user input. \n",
    "\n",
    "The code `int(\"1\")` will convert strings composed of numerals into integers. You may assume that the user will only input such strings. \n",
    "\n",
    "*Hint*: Try `while` and associated tools. \n",
    "\n",
    "### Example\n",
    "\n",
    "```python\n",
    "\n",
    "# your code\n",
    "\n",
    "> Please enter an integer.6\n",
    "> Please enter an integer.8\n",
    "> Please enter an integer.4\n",
    "> Please enter an integer.9\n",
    "> [6, 8, 4, 9]\n",
    "```"
   ]
  },
  {
   "cell_type": "markdown",
   "metadata": {},
   "source": [
    "## Solution\n",
    "Here, I will initialize an empty list `L` and then write a `while` loop that allows the user to repeatedly enter inputs until an odd int is entered. "
   ]
  },
  {
   "cell_type": "code",
   "execution_count": 7,
   "metadata": {},
   "outputs": [
    {
     "name": "stdout",
     "output_type": "stream",
     "text": [
      "Please enter an odd integer: 2\n",
      "Please enter an odd integer: 4\n",
      "Please enter an odd integer: 6\n",
      "Please enter an odd integer: 8\n",
      "Please enter an odd integer: 12\n",
      "Please enter an odd integer: 14\n",
      "Please enter an odd integer: 9\n",
      "[2, 4, 6, 8, 12, 14, 9]\n"
     ]
    }
   ],
   "source": [
    "L = [] # initialize emtpy list\n",
    "while True: # while loop that runs until correct input is entered\n",
    "    num = input(\"Please enter an odd integer: \")\n",
    "    number = int(num) # converting a string to an integer\n",
    "    L.append(number) # adding the user's number to the list\n",
    "    if number % 2 == 1: # checking to see if the number is odd. If it is, break out of the loop and print the list\n",
    "        print(L)\n",
    "        break"
   ]
  },
  {
   "cell_type": "markdown",
   "metadata": {},
   "source": [
    "# Problem 4"
   ]
  },
  {
   "cell_type": "markdown",
   "metadata": {},
   "source": [
    "Write list comprehensions which produce the specified list. Each list comprehension should fit on one line and be no longer than 80 characters. "
   ]
  },
  {
   "cell_type": "code",
   "execution_count": 8,
   "metadata": {},
   "outputs": [],
   "source": [
    "                                                                      # 80 characters"
   ]
  },
  {
   "cell_type": "markdown",
   "metadata": {},
   "source": [
    "## (a) \n",
    "\n",
    "A list of the first 10 [triangular numbers](https://en.wikipedia.org/wiki/Triangular_number). The $i$th triangular number is the sum of the integers up to and including $i$. For example, the sixth triangular number is \n",
    "\n",
    "$$1+2+3+4+5+6 = 21\\;.$$\n",
    "\n",
    "The first element in your list should be 1, and the last one should be 55. \n",
    "\n",
    "### Solution\n",
    "1. First, I will determine the \"set-builder\" notation to create the nth triangular number\n",
    "2. Then, I will convert this mathematical expression to a computation in Python\n",
    "3. I will then use a for loop to get the correct number of triangular numbers"
   ]
  },
  {
   "cell_type": "code",
   "execution_count": 17,
   "metadata": {},
   "outputs": [
    {
     "data": {
      "text/plain": [
       "[0, 1, 2, 6, 8, 15, 18, 28, 32, 45]"
      ]
     },
     "execution_count": 17,
     "metadata": {},
     "output_type": "execute_result"
    }
   ],
   "source": [
    "numbers = [i * ((i + 1) // 2) for i in range(0, 10)]\n",
    "numbers"
   ]
  },
  {
   "cell_type": "markdown",
   "metadata": {},
   "source": [
    "## (b)\n",
    "\n",
    "A list of the letters in a predefined string `s`, **except for vowels.** For the purposes of this example, an English vowel is any of the letters `[\"a\", \"e\", \"i\", \"o\", \"u\"]`. For example: \n",
    "\n",
    "```python\n",
    "s = \"make it so, number one\"\n",
    "# your code here\n",
    "# ...\n",
    "L\n",
    "# output\n",
    "[\"m\", \"k\", \"t\", \"s\", \"n\", \"m\", \"b\", \"r\", \"n\"]\n",
    "```\n",
    "You should also exclude spaces. It is ok to include punctuation.  \n",
    "\n",
    "*Hint:* Consider the following code: \n",
    "\n",
    "```python\n",
    "l = \"a\"\n",
    "l not in [\"e\", \"w\"]\n",
    "```\n",
    "\n",
    "### Solution"
   ]
  },
  {
   "cell_type": "code",
   "execution_count": null,
   "metadata": {},
   "outputs": [],
   "source": []
  },
  {
   "cell_type": "markdown",
   "metadata": {},
   "source": [
    "## (c)\n",
    "\n",
    "A list `L` whose elements are themselves lists. The `i`th element of `L` contains the powers of `X[i]` from `0` to `k`, where `X` is a list and `k` an integer that can be specified by the user. \n",
    "For example, \n",
    "\n",
    "```python\n",
    "X = [5, 6, 7]\n",
    "k = 2\n",
    "# your code here\n",
    "# ... \n",
    "L\n",
    "# output\n",
    "[[1, 5, 25], [1, 6, 36], [1, 7, 49]]\n",
    "```\n",
    "\n",
    "### Solution"
   ]
  },
  {
   "cell_type": "code",
   "execution_count": 26,
   "metadata": {},
   "outputs": [
    {
     "data": {
      "text/plain": [
       "[[1, 2, 4, 8], [1, 3, 9, 27], [1, 4, 16, 64]]"
      ]
     },
     "execution_count": 26,
     "metadata": {},
     "output_type": "execute_result"
    }
   ],
   "source": [
    "X = [2, 3, 4]\n",
    "k = 4\n",
    "powers = [[i ** k for k in range(k)] for i in X]\n",
    "powers"
   ]
  },
  {
   "cell_type": "markdown",
   "metadata": {},
   "source": [
    "## (d)\n",
    "\n",
    "\n",
    "As in **(c)**, but now include only even powers of `X`. For example, \n",
    "\n",
    "```python\n",
    "X = [5, 6, 7]\n",
    "k = 8\n",
    "# your code here\n",
    "# ...\n",
    "L\n",
    "# output\n",
    "[[1, 25, 625, 15625, 390625],\n",
    " [1, 36, 1296, 46656, 1679616],\n",
    " [1, 49, 2401, 117649, 5764801]]\n",
    "```\n",
    "\n",
    "### Solution"
   ]
  },
  {
   "cell_type": "code",
   "execution_count": 31,
   "metadata": {},
   "outputs": [
    {
     "data": {
      "text/plain": [
       "[[1, 25, 625, 15625], [1, 36, 1296, 46656], [1, 49, 2401, 117649]]"
      ]
     },
     "execution_count": 31,
     "metadata": {},
     "output_type": "execute_result"
    }
   ],
   "source": [
    "X = [5, 6, 7]\n",
    "k = 8\n",
    "powers = [[i**k for k in range(k) if k%2==0] for i in X]\n",
    "powers"
   ]
  },
  {
   "cell_type": "markdown",
   "metadata": {},
   "source": [
    "# Problem 5\n",
    "\n",
    "In this problem, we'll simulate the *simple random walk*, perhaps the most important discrete-time stochastic process. Random walks are commonly used to model phenomena in physics,  chemistry, biology, and finance. In the simple random walk, at each timestep we flip a fair coin. If heads, we move foward one step; if tails, we move backwards. Let \"forwards\" be represented by positive integers, and \"backwards\" be represented by negative integers. For example, if we are currently three steps backwards from the starting point, our position is `-3`. \n",
    "\n",
    "Write code to simulate a random walk. Your code should: \n",
    "\n",
    "- Specify an upper and lower bound -- once the walk reaches one of these two numbers, the process terminates. \n",
    "- Keep a log of the results of the coin flips. \n",
    "- Keep a log of the position of the walk at each time step. \n",
    "- When the walk reaches the upper or lower bound, print a message and terminate the walk. \n",
    "\n",
    "To simulate a coin flip, run the following code once: \n",
    "\n",
    "```python \n",
    "import random\n",
    "```\n",
    "\n",
    "Then, you can let `x` be the value of a fairly flipped coin by writing:\n",
    "\n",
    "```python\n",
    "x = random.choice([\"heads\",\"tails\"])\n",
    "```\n",
    "\n",
    "You don't have to use `\"heads\"` and `\"tails\"` when using this function -- can you think of a more useful choice set?\n",
    "\n",
    "**Your code should include at least one instance of an `elif` statement and at least one instance of a `break` statement**. \n",
    "\n",
    "## Example\n",
    "\n",
    "\n",
    "\n",
    "```python\n",
    "import random\n",
    "\n",
    "upper_bound = 3\n",
    "lower_bound = -3\n",
    "\n",
    "# your code here\n",
    "# ...\n",
    "\n",
    "# message\n",
    "Upper bound at 3 reached\n",
    "\n",
    "positions \n",
    "# output\n",
    "[1, 2, 1, 2, 1, 0, 1, 2, 3]\n",
    "```\n",
    "\n",
    "Finally, you might be interested in visualizing the walk. Optionally, after your main code, run the following two lines to produce a plot. When the bounds are set very large, the resulting visualization can be quite intriguing and attractive. It is not necessary for you to understand the syntax of these commands at this stage. "
   ]
  },
  {
   "cell_type": "code",
   "execution_count": 10,
   "metadata": {},
   "outputs": [],
   "source": [
    "# from matplotlib import pyplot as plt\n",
    "# plt.plot(positions)"
   ]
  },
  {
   "cell_type": "markdown",
   "metadata": {},
   "source": [
    "## Solution\n",
    "To solve this problem, I will follow the template in the example. \n",
    "1. I will first `import` random and set my upper and lower bounds. \n",
    "2. I will then create empty lists for `results`, `positions`, and set the current `position` to `0`.\n",
    "3. After this, I will write a `while` loop that runs until one of the bounds is reached\n",
    "4. I will set the variable `x` to a random number between `-1` and `1`, since this will save me time as I won't have set `heads` or `tails` to a numerical value\n",
    "5. I will the save the results of the \"coin flip\" to the `results` list\n",
    "6. The next step is to add the result of the \"coin flip\" to the position\n",
    "7. I will then save the current position to the `positions` list\n",
    "8. I will then write an `if` statement to check if the lower bound has been reached followed by an `elif` clause to check if the upper bound has been reached. If either of these conditions are satisfied, I will print the position the respective bound was reached at.\n",
    "9. After printing this, I will `break` out of the `while` loop and then print all of the positions occupied during the *simple random walk*"
   ]
  },
  {
   "cell_type": "code",
   "execution_count": 12,
   "metadata": {},
   "outputs": [
    {
     "name": "stdout",
     "output_type": "stream",
     "text": [
      "Lower bound at -5 reached\n",
      "\n",
      "results\n",
      "[1, -1, -1, -1, -1, -1, 1, -1, 1, -1, 1, 1, 1, 1, -1, 1, -1, 1, 1, -1, -1, -1, 1, -1, 1, 1, -1, -1, -1, -1, -1]\n",
      "\n",
      "positions\n",
      "[1, 0, -1, -2, -3, -4, -3, -4, -3, -4, -3, -2, -1, 0, -1, 0, -1, 0, 1, 0, -1, -2, -1, -2, -1, 0, -1, -2, -3, -4, -5]\n"
     ]
    },
    {
     "data": {
      "text/plain": [
       "[<matplotlib.lines.Line2D at 0x111df9e80>]"
      ]
     },
     "execution_count": 12,
     "metadata": {},
     "output_type": "execute_result"
    },
    {
     "data": {
      "image/png": "[encoded data removed]",
      "text/plain": [
       "<Figure size 432x288 with 1 Axes>"
      ]
     },
     "metadata": {
      "needs_background": "light"
     },
     "output_type": "display_data"
    }
   ],
   "source": [
    "import random\n",
    "# set the bounds\n",
    "upper_bound = 5\n",
    "lower_bound = -5\n",
    "\n",
    "#initialize the lists\n",
    "results = []\n",
    "positions = []\n",
    "position = 0\n",
    "\n",
    "while True:\n",
    "    x = random.choice([1,-1]) # setting x to -1 or 1\n",
    "    results.append(x) # adding x to the results list\n",
    "    position += x # incrementing or decrementing the position\n",
    "    positions.append(position) # adding the new position to the poisitions list\n",
    "    if position == lower_bound: # checking if lower bound has been reached\n",
    "        print(\"Lower bound at \" + str(position) + \" reached\\n\")\n",
    "        break\n",
    "    elif position == upper_bound: # checking if upper bound has been reached\n",
    "        print(\"Upper bound at \" + str(position) + \" reached\\n\")\n",
    "        break\n",
    "        \n",
    "print(\"results\")\n",
    "print(results)\n",
    "\n",
    "print(\"\\npositions\")\n",
    "print(positions)\n",
    "\n",
    "from matplotlib import pyplot as plt\n",
    "plt.plot(positions)"
   ]
  },
  {
   "cell_type": "code",
   "execution_count": null,
   "metadata": {},
   "outputs": [],
   "source": []
  }
 ],
 "metadata": {
  "kernelspec": {
   "display_name": "Python 3",
   "language": "python",
   "name": "python3"
  },
  "language_info": {
   "codemirror_mode": {
    "name": "ipython",
    "version": 3
   },
   "file_extension": ".py",
   "mimetype": "text/x-python",
   "name": "python",
   "nbconvert_exporter": "python",
   "pygments_lexer": "ipython3",
   "version": "3.8.5"
  }
 },
 "nbformat": 4,
 "nbformat_minor": 4
}
