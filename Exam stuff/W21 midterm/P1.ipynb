{
 "cells": [
  {
   "cell_type": "markdown",
   "metadata": {},
   "source": [
    "# Academic Integrity Statement\n",
    "\n",
    "As a matter of Departmental policy, **we are required to give you a 0** unless you **type your name** after the following statement: \n",
    "\n",
    "> *I certify on my honor that I have neither given nor received any help, or used any non-permitted resources, while completing this evaluation.*\n",
    "\n",
    "Zoeb Naushad Jamal\n",
    "### Partial Credit\n",
    "\n",
    "Let us give you partial credit! If you're stuck on a problem and just can't get your code to run: \n",
    "\n",
    "First, **breathe**. Then, do any or all of the following: \n",
    "    \n",
    "1. Write down everything relevant that you know about the problem, as comments where your code would go. \n",
    "2. If you have non-functioning code that demonstrates some correct ideas, indicate that and keep it (commented out). \n",
    "3. Write down pseudocode (written instructions) outlining your solution approach. \n",
    "\n",
    "In brief, even if you can't quite get your code to work, you can still **show us what you know.**\n",
    "\n",
    "\n",
    "## Problem 1 (50 points)\n",
    "\n",
    "This problem has three parts which can be completed independently. "
   ]
  },
  {
   "cell_type": "markdown",
   "metadata": {},
   "source": [
    "## Part A (20 points)\n",
    "\n",
    "The code below is intended to model a PIC student who attends OH and uses what they learn to do better on future homework assignments. There are several functions intended to model this student's actions. The docstring correctly states the intended functionality of the class, but the code itself does not necessarily implement the docstring correctly. "
   ]
  },
  {
   "cell_type": "code",
   "execution_count": 1,
   "metadata": {},
   "outputs": [],
   "source": [
    "import random\n",
    "\n",
    "class PICStudent:\n",
    "    \"\"\"\n",
    "    A class representing a PIC student. \n",
    "    \n",
    "    Includes the following instance variables: \n",
    "    - name (string), the name of the student. \n",
    "    - understanding (int or float), the student's understanding of Python. \n",
    "    \n",
    "    Includes the following methods: \n",
    "    - add_name(), sets a user-specified value of name for the student. \n",
    "        No return value.\n",
    "    - say_hi(), prints a message containing the student's name. \n",
    "    - go_to_OH(), increases the student's understanding by one unit. \n",
    "        No return value.\n",
    "    - do_HW(), returns a score (int or float) out of 100 based on the student's \n",
    "        understanding of Python.\n",
    "    \"\"\"\n",
    "    pass\n",
    "\n",
    "def add_name(PCS, name):\n",
    "    if type(PCS) != PICStudent:\n",
    "        raise TypeError(\"This function is designed to work with objects of class PICStudent\")\n",
    "    PCS.name = name\n",
    "\n",
    "def say_hi(PCS, name):\n",
    "    print(\"Hello! My name is \" + str(self.name))\n",
    "\n",
    "def go_to_OH(PCS):\n",
    "    if type(PCS) != PICStudent:\n",
    "        raise TypeError(\"This function is designed to work with objects of class PICStudent\")\n",
    "    PCS.understanding += 1\n",
    "    \n",
    "def do_HW(PCS):\n",
    "    if type(PCS) != PICStudent:\n",
    "        raise TypeError(\"This function is designed to work with objects of class PICStudent\")\n",
    "    \n",
    "    score = max(75+25*random.random(), 25*PCS.understanding)\n",
    "    return score    "
   ]
  },
  {
   "cell_type": "markdown",
   "metadata": {},
   "source": [
    "First, **critique** this solution. For full credit, state **four (4) distinct issues** in this code. Your issues should include one of each of the following types: \n",
    "\n",
    "- One way in which the code **does not match the docstring.** \n",
    "- One way in which an **unexpected exception** could be raised. \n",
    "- One way in which the code might give an **illogical or absurd output** without raising an exception. \n",
    "- One additional issue. This could be a second instance of one of the above categories, or an issue of a completely different type. \n",
    "\n",
    "There may be some overlap between these types of issues. For example, an illogical or absurd output could also be in contradiction of the docstring. In such a case, you can choose which category in which to count the issue, but must still describe a total of four distinct issues. \n",
    "\n",
    "Feel free to add code cells as needed to demonstrate your critiques. "
   ]
  },
  {
   "cell_type": "markdown",
   "metadata": {},
   "source": [
    "---\n",
    "\n",
    "**Code does not match the docstring:** \n",
    "- There is no instance variable `understanding` for the `PICStudent`\n",
    "\n",
    "**Unexpected exception:** \n",
    "- `NameError` when using the `say_hi` method -- `self.name` is not defined, as we are not using a method of the class `PICStudent`\n",
    "- `AttributeError`s when using `do_HW` and `go_to_OH`, as `PICStudent` has no attribute `understanding`\n",
    "\n",
    "**Illogical or absurd output:** \n",
    "- If `understanding` is greater than 4, the student will always get higher than 100 on the HW. Also, even if the student's `understanding` is low, they could still get a high score on the HW, since it chooses the max between `75 + (25 * random.random())` and `25 * PCS.understanding`\n",
    "\n",
    "**Additional issue:** \n",
    "- `self.name` in `say_hi` will not work, as the function definition is outside of the class. `PCS.name` should be used instead.\n",
    "- The class `PICStudent` does not include any of the listed instance variables or methods, as they are all set outside the class -- the class is an empty block with `pass`\n",
    "\n",
    "\n",
    "---"
   ]
  },
  {
   "cell_type": "markdown",
   "metadata": {},
   "source": [
    "### Cells to demonstrate the first and last mistake (code does not match docstring)"
   ]
  },
  {
   "cell_type": "code",
   "execution_count": 2,
   "metadata": {},
   "outputs": [
    {
     "ename": "AttributeError",
     "evalue": "'PICStudent' object has no attribute 'understanding'",
     "output_type": "error",
     "traceback": [
      "\u001b[0;31m---------------------------------------------------------------------------\u001b[0m",
      "\u001b[0;31mAttributeError\u001b[0m                            Traceback (most recent call last)",
      "\u001b[0;32m<ipython-input-2-b0d7e2aab06d>\u001b[0m in \u001b[0;36m<module>\u001b[0;34m\u001b[0m\n\u001b[1;32m      1\u001b[0m \u001b[0ma\u001b[0m \u001b[0;34m=\u001b[0m \u001b[0mPICStudent\u001b[0m\u001b[0;34m(\u001b[0m\u001b[0;34m)\u001b[0m\u001b[0;34m\u001b[0m\u001b[0;34m\u001b[0m\u001b[0m\n\u001b[0;32m----> 2\u001b[0;31m \u001b[0ma\u001b[0m\u001b[0;34m.\u001b[0m\u001b[0munderstanding\u001b[0m\u001b[0;34m\u001b[0m\u001b[0;34m\u001b[0m\u001b[0m\n\u001b[0m",
      "\u001b[0;31mAttributeError\u001b[0m: 'PICStudent' object has no attribute 'understanding'"
     ]
    }
   ],
   "source": [
    "a = PICStudent()\n",
    "a.understanding"
   ]
  },
  {
   "cell_type": "code",
   "execution_count": 3,
   "metadata": {},
   "outputs": [
    {
     "ename": "AttributeError",
     "evalue": "'PICStudent' object has no attribute 'name'",
     "output_type": "error",
     "traceback": [
      "\u001b[0;31m---------------------------------------------------------------------------\u001b[0m",
      "\u001b[0;31mAttributeError\u001b[0m                            Traceback (most recent call last)",
      "\u001b[0;32m<ipython-input-3-9945a631c1ff>\u001b[0m in \u001b[0;36m<module>\u001b[0;34m\u001b[0m\n\u001b[0;32m----> 1\u001b[0;31m \u001b[0ma\u001b[0m\u001b[0;34m.\u001b[0m\u001b[0mname\u001b[0m\u001b[0;34m\u001b[0m\u001b[0;34m\u001b[0m\u001b[0m\n\u001b[0m",
      "\u001b[0;31mAttributeError\u001b[0m: 'PICStudent' object has no attribute 'name'"
     ]
    }
   ],
   "source": [
    "a.name"
   ]
  },
  {
   "cell_type": "code",
   "execution_count": 4,
   "metadata": {},
   "outputs": [
    {
     "ename": "AttributeError",
     "evalue": "'PICStudent' object has no attribute 'add_name'",
     "output_type": "error",
     "traceback": [
      "\u001b[0;31m---------------------------------------------------------------------------\u001b[0m",
      "\u001b[0;31mAttributeError\u001b[0m                            Traceback (most recent call last)",
      "\u001b[0;32m<ipython-input-4-6c5615d4dbbc>\u001b[0m in \u001b[0;36m<module>\u001b[0;34m\u001b[0m\n\u001b[0;32m----> 1\u001b[0;31m \u001b[0ma\u001b[0m\u001b[0;34m.\u001b[0m\u001b[0madd_name\u001b[0m\u001b[0;34m(\u001b[0m\u001b[0ma\u001b[0m\u001b[0;34m,\u001b[0m \u001b[0;34m\"zoeb\"\u001b[0m\u001b[0;34m)\u001b[0m\u001b[0;34m\u001b[0m\u001b[0;34m\u001b[0m\u001b[0m\n\u001b[0m",
      "\u001b[0;31mAttributeError\u001b[0m: 'PICStudent' object has no attribute 'add_name'"
     ]
    }
   ],
   "source": [
    "a.add_name(a, \"zoeb\")"
   ]
  },
  {
   "cell_type": "markdown",
   "metadata": {},
   "source": [
    "### Cells to demonstrate unexpected exception"
   ]
  },
  {
   "cell_type": "code",
   "execution_count": 5,
   "metadata": {},
   "outputs": [
    {
     "ename": "NameError",
     "evalue": "name 'self' is not defined",
     "output_type": "error",
     "traceback": [
      "\u001b[0;31m---------------------------------------------------------------------------\u001b[0m",
      "\u001b[0;31mNameError\u001b[0m                                 Traceback (most recent call last)",
      "\u001b[0;32m<ipython-input-5-79ce38a7f709>\u001b[0m in \u001b[0;36m<module>\u001b[0;34m\u001b[0m\n\u001b[0;32m----> 1\u001b[0;31m \u001b[0msay_hi\u001b[0m\u001b[0;34m(\u001b[0m\u001b[0ma\u001b[0m\u001b[0;34m,\u001b[0m \u001b[0;34m\"zoeb\"\u001b[0m\u001b[0;34m)\u001b[0m\u001b[0;34m\u001b[0m\u001b[0;34m\u001b[0m\u001b[0m\n\u001b[0m",
      "\u001b[0;32m<ipython-input-1-d5eb304d63df>\u001b[0m in \u001b[0;36msay_hi\u001b[0;34m(PCS, name)\u001b[0m\n\u001b[1;32m     26\u001b[0m \u001b[0;34m\u001b[0m\u001b[0m\n\u001b[1;32m     27\u001b[0m \u001b[0;32mdef\u001b[0m \u001b[0msay_hi\u001b[0m\u001b[0;34m(\u001b[0m\u001b[0mPCS\u001b[0m\u001b[0;34m,\u001b[0m \u001b[0mname\u001b[0m\u001b[0;34m)\u001b[0m\u001b[0;34m:\u001b[0m\u001b[0;34m\u001b[0m\u001b[0;34m\u001b[0m\u001b[0m\n\u001b[0;32m---> 28\u001b[0;31m     \u001b[0mprint\u001b[0m\u001b[0;34m(\u001b[0m\u001b[0;34m\"Hello! My name is \"\u001b[0m \u001b[0;34m+\u001b[0m \u001b[0mstr\u001b[0m\u001b[0;34m(\u001b[0m\u001b[0mself\u001b[0m\u001b[0;34m.\u001b[0m\u001b[0mname\u001b[0m\u001b[0;34m)\u001b[0m\u001b[0;34m)\u001b[0m\u001b[0;34m\u001b[0m\u001b[0;34m\u001b[0m\u001b[0m\n\u001b[0m\u001b[1;32m     29\u001b[0m \u001b[0;34m\u001b[0m\u001b[0m\n\u001b[1;32m     30\u001b[0m \u001b[0;32mdef\u001b[0m \u001b[0mgo_to_OH\u001b[0m\u001b[0;34m(\u001b[0m\u001b[0mPCS\u001b[0m\u001b[0;34m)\u001b[0m\u001b[0;34m:\u001b[0m\u001b[0;34m\u001b[0m\u001b[0;34m\u001b[0m\u001b[0m\n",
      "\u001b[0;31mNameError\u001b[0m: name 'self' is not defined"
     ]
    }
   ],
   "source": [
    "say_hi(a, \"zoeb\")"
   ]
  },
  {
   "cell_type": "code",
   "execution_count": 6,
   "metadata": {},
   "outputs": [
    {
     "ename": "AttributeError",
     "evalue": "'PICStudent' object has no attribute 'understanding'",
     "output_type": "error",
     "traceback": [
      "\u001b[0;31m---------------------------------------------------------------------------\u001b[0m",
      "\u001b[0;31mAttributeError\u001b[0m                            Traceback (most recent call last)",
      "\u001b[0;32m<ipython-input-6-335c0b8c8116>\u001b[0m in \u001b[0;36m<module>\u001b[0;34m\u001b[0m\n\u001b[0;32m----> 1\u001b[0;31m \u001b[0mdo_HW\u001b[0m\u001b[0;34m(\u001b[0m\u001b[0ma\u001b[0m\u001b[0;34m)\u001b[0m\u001b[0;34m\u001b[0m\u001b[0;34m\u001b[0m\u001b[0m\n\u001b[0m",
      "\u001b[0;32m<ipython-input-1-d5eb304d63df>\u001b[0m in \u001b[0;36mdo_HW\u001b[0;34m(PCS)\u001b[0m\n\u001b[1;32m     37\u001b[0m         \u001b[0;32mraise\u001b[0m \u001b[0mTypeError\u001b[0m\u001b[0;34m(\u001b[0m\u001b[0;34m\"This function is designed to work with objects of class PICStudent\"\u001b[0m\u001b[0;34m)\u001b[0m\u001b[0;34m\u001b[0m\u001b[0;34m\u001b[0m\u001b[0m\n\u001b[1;32m     38\u001b[0m \u001b[0;34m\u001b[0m\u001b[0m\n\u001b[0;32m---> 39\u001b[0;31m     \u001b[0mscore\u001b[0m \u001b[0;34m=\u001b[0m \u001b[0mmax\u001b[0m\u001b[0;34m(\u001b[0m\u001b[0;36m75\u001b[0m\u001b[0;34m+\u001b[0m\u001b[0;36m25\u001b[0m\u001b[0;34m*\u001b[0m\u001b[0mrandom\u001b[0m\u001b[0;34m.\u001b[0m\u001b[0mrandom\u001b[0m\u001b[0;34m(\u001b[0m\u001b[0;34m)\u001b[0m\u001b[0;34m,\u001b[0m \u001b[0;36m25\u001b[0m\u001b[0;34m*\u001b[0m\u001b[0mPCS\u001b[0m\u001b[0;34m.\u001b[0m\u001b[0munderstanding\u001b[0m\u001b[0;34m)\u001b[0m\u001b[0;34m\u001b[0m\u001b[0;34m\u001b[0m\u001b[0m\n\u001b[0m\u001b[1;32m     40\u001b[0m     \u001b[0;32mreturn\u001b[0m \u001b[0mscore\u001b[0m\u001b[0;34m\u001b[0m\u001b[0;34m\u001b[0m\u001b[0m\n",
      "\u001b[0;31mAttributeError\u001b[0m: 'PICStudent' object has no attribute 'understanding'"
     ]
    }
   ],
   "source": [
    "do_HW(a)"
   ]
  },
  {
   "cell_type": "code",
   "execution_count": 7,
   "metadata": {},
   "outputs": [
    {
     "ename": "AttributeError",
     "evalue": "'PICStudent' object has no attribute 'understanding'",
     "output_type": "error",
     "traceback": [
      "\u001b[0;31m---------------------------------------------------------------------------\u001b[0m",
      "\u001b[0;31mAttributeError\u001b[0m                            Traceback (most recent call last)",
      "\u001b[0;32m<ipython-input-7-25b33b83de4f>\u001b[0m in \u001b[0;36m<module>\u001b[0;34m\u001b[0m\n\u001b[0;32m----> 1\u001b[0;31m \u001b[0mgo_to_OH\u001b[0m\u001b[0;34m(\u001b[0m\u001b[0ma\u001b[0m\u001b[0;34m)\u001b[0m\u001b[0;34m\u001b[0m\u001b[0;34m\u001b[0m\u001b[0m\n\u001b[0m",
      "\u001b[0;32m<ipython-input-1-d5eb304d63df>\u001b[0m in \u001b[0;36mgo_to_OH\u001b[0;34m(PCS)\u001b[0m\n\u001b[1;32m     31\u001b[0m     \u001b[0;32mif\u001b[0m \u001b[0mtype\u001b[0m\u001b[0;34m(\u001b[0m\u001b[0mPCS\u001b[0m\u001b[0;34m)\u001b[0m \u001b[0;34m!=\u001b[0m \u001b[0mPICStudent\u001b[0m\u001b[0;34m:\u001b[0m\u001b[0;34m\u001b[0m\u001b[0;34m\u001b[0m\u001b[0m\n\u001b[1;32m     32\u001b[0m         \u001b[0;32mraise\u001b[0m \u001b[0mTypeError\u001b[0m\u001b[0;34m(\u001b[0m\u001b[0;34m\"This function is designed to work with objects of class PICStudent\"\u001b[0m\u001b[0;34m)\u001b[0m\u001b[0;34m\u001b[0m\u001b[0;34m\u001b[0m\u001b[0m\n\u001b[0;32m---> 33\u001b[0;31m     \u001b[0mPCS\u001b[0m\u001b[0;34m.\u001b[0m\u001b[0munderstanding\u001b[0m \u001b[0;34m+=\u001b[0m \u001b[0;36m1\u001b[0m\u001b[0;34m\u001b[0m\u001b[0;34m\u001b[0m\u001b[0m\n\u001b[0m\u001b[1;32m     34\u001b[0m \u001b[0;34m\u001b[0m\u001b[0m\n\u001b[1;32m     35\u001b[0m \u001b[0;32mdef\u001b[0m \u001b[0mdo_HW\u001b[0m\u001b[0;34m(\u001b[0m\u001b[0mPCS\u001b[0m\u001b[0;34m)\u001b[0m\u001b[0;34m:\u001b[0m\u001b[0;34m\u001b[0m\u001b[0;34m\u001b[0m\u001b[0m\n",
      "\u001b[0;31mAttributeError\u001b[0m: 'PICStudent' object has no attribute 'understanding'"
     ]
    }
   ],
   "source": [
    "go_to_OH(a)"
   ]
  },
  {
   "cell_type": "markdown",
   "metadata": {},
   "source": [
    "Second, **improve the code**. Write a modified version that (a) fully matches the supplied docstring and (b) fixes the issues that you indicated above. **It is not necessary to add new docstrings,** even if the old ones are no longer appropriate due to your changes. It is not necessary to demonstrate your code, although doing so may help us give you partial credit. "
   ]
  },
  {
   "cell_type": "code",
   "execution_count": 8,
   "metadata": {},
   "outputs": [
    {
     "name": "stdout",
     "output_type": "stream",
     "text": [
      "Hello, my name is Zoeb\n",
      "50\n",
      "75\n"
     ]
    }
   ],
   "source": [
    "# your improvement\n",
    "class PICStudent:\n",
    "    \"\"\"\n",
    "    A class representing a PIC student. \n",
    "    \n",
    "    Includes the following instance variables: \n",
    "    - name (string), the name of the student. \n",
    "    - understanding (int or float), the student's understanding of Python. \n",
    "    \n",
    "    Includes the following methods: \n",
    "    __init__(): initializes PICStudent object with a name and understanding\n",
    "    say_hi(): prints a message containing the student's name. \n",
    "    go_to_OH(): increases the student's understanding by one unit.\n",
    "    do_HW(): returns a score (int or float) out of 100 based on the student's understanding of Python.\n",
    "    \"\"\"\n",
    "    def __init__(self, name, understanding):\n",
    "        \"\"\"\n",
    "        Sets the student's name and understanding level\n",
    "        \"\"\"\n",
    "        self.name = name\n",
    "        self.understanding = understanding\n",
    "    \n",
    "    def say_hi(self):\n",
    "        \"\"\"\n",
    "        Student introduces themself\n",
    "        \"\"\"\n",
    "        print(\"Hello, my name is \" + self.name)\n",
    "    \n",
    "    def go_to_OH(self):\n",
    "        \"\"\"\n",
    "        Going to OH increases the student's understanding by 1\n",
    "        \"\"\"\n",
    "        self.understanding += 1\n",
    "        \n",
    "    def do_HW(self):\n",
    "        \"\"\"\n",
    "        The student's score is based on their understanding of Python\n",
    "        \"\"\"\n",
    "        if self.understanding >= 4:\n",
    "            score = 100\n",
    "        else:\n",
    "            score = 25 * self.understanding\n",
    "        return score\n",
    "        \n",
    "Zoeb = PICStudent(\"Zoeb\", 2) # making the object\n",
    "Zoeb.say_hi() # testing say_hi\n",
    "print(Zoeb.do_HW()) # checking to see what the score is without going to OH\n",
    "Zoeb.go_to_OH() # testing go_to_OH\n",
    "print(Zoeb.do_HW()) # checking what the hw score is after going to OH"
   ]
  },
  {
   "cell_type": "markdown",
   "metadata": {},
   "source": [
    "### How does my version solve the issues\n",
    "- I included all the methods and instance variables within the class definition, so you don't need to include `PCS` as a parameter in functions\n",
    "- I included an `__init__()` method which allows you to set the `name` and `understanding` without needing an `add_name` setter function -> no more `NameError` when using `say_hi`\n",
    "- I gave the object an `understanding` instance variable -> no more unexpected `AttributeError`s in `go_to_OH` and `do_HW`\n",
    "- I changed `score` to actually be dependent on the student's `understanding`. Also, I made sure that you can't get a `score` higher than 100, by automatically setting `score` to 100 if `self.understanding >= 4` -> no more absurd or illogical output"
   ]
  },
  {
   "cell_type": "markdown",
   "metadata": {},
   "source": [
    "## Part B (20 points)\n",
    "\n",
    "Write a class that matches the following docstring. You may find it helpful to consult the [lecture notes](https://nbviewer.jupyter.org/github/PhilChodrow/PIC16A/blob/master/content/object_oriented_programming/inheritance_I.ipynb) in which we first defined `ArithmeticDict()`. \n",
    "\n",
    "Then, demonstrate each of the examples given in the docstring.\n",
    "### My approach\n",
    "- First, I initialized an empty dict `new`\n",
    "- I then got the keys of SD1 and SD2 and put them into a set \n",
    "- I then checked to see if `other.keys() - self` is equal to an empty set (`set()`)\n",
    "- If it is not, raise a `ValueError`, since `SD2` contains keys that are not in `SD1`\n",
    "- Otherwise, loop through `self.keys() - other` and make sure all the keys in `SD1` are present in `SD2` (add them and set value to 0 if not already present)\n",
    "- I then looped through the keys in `keys1`and checked to see if difference in values would be greater than or equal to 0.0\n",
    "- If they are, add the difference to the `new` dict\n",
    "- Check to see if the value is equal to 0.0 -- if it is, remove that key from `new`\n",
    "- If the difference is less than 0.0, raise a `ValueError`"
   ]
  },
  {
   "cell_type": "code",
   "execution_count": 9,
   "metadata": {},
   "outputs": [],
   "source": [
    "class SubtractionDict(dict):\n",
    "    \"\"\"\n",
    "    a SubtractionDict includes all properties and methods of the dict class. \n",
    "    Additionally, implements dictionary subtraction via the - binary operator. \n",
    "    \n",
    "    If SD1 and SD2 are both SubtractionDicts whose values are numbers (ints or floats),\n",
    "    and if all values in SD1 are equal to or larger than their corresponding values in SD2, \n",
    "    then SD1 - SD2 is a new SubtractionDict whose keys are the keys of SD1 and whose values\n",
    "    are the difference in values between SD1 and SD2. Keys present in SD1 but not in SD2 are \n",
    "    handled as though they are present in SD2 with value 0. \n",
    "    \n",
    "    A ValueError is raised when: \n",
    "    1. SD2 contains keys not contained in SD1.\n",
    "    2. The result of subtraction would result in negative values. \n",
    "    \n",
    "    If subtraction would result in a value of exactly zero, the key is instead \n",
    "    removed from the result. \n",
    "    \n",
    "    Examples: \n",
    "    \n",
    "    # making strawberry-onion pie\n",
    "    SD1 = SubtractionDict({\"onions\" : 3, \"strawberries (lbs)\" : 2})\n",
    "    SD2 = SubtractionDict({\"onions\" : 1, \"strawberries (lbs)\" : 1})\n",
    "    SD1 - SD2 # == SubtractionDict({\"onions\" : 2, \"strawberries (lbs)\" : 1})\n",
    "    \n",
    "    # raises error\n",
    "    SD1 = SubtractionDict({\"onions\" : 3, \"strawberries (lbs)\" : 2})\n",
    "    SD2 = SubtractionDict({\"onions\" : 4, \"strawberries (lbs)\" : 1})\n",
    "    SD1 - SD2 # error\n",
    "    \n",
    "    # raises error\n",
    "    SD1 = SubtractionDict({\"onions\" : 3, \"strawberries (lbs)\" : 2})\n",
    "    SD2 = SubtractionDict({\"onions\" : 1, \"snozzberries (lbs)\" : 1})\n",
    "    SD1 - SD2 # error\n",
    "    \n",
    "    # key removed\n",
    "    SD1 = SubtractionDict({\"onions\" : 3, \"strawberries (lbs)\" : 2})\n",
    "    SD2 = SubtractionDict({\"onions\" : 1, \"strawberries (lbs)\" : 2})\n",
    "    SD1 - SD2 # == SubtractionDict({\"onions\" : 2})\n",
    "    \"\"\"\n",
    "    \n",
    "    # your code here \n",
    "    def __sub__(self, other):\n",
    "        new = {}\n",
    "        keys1 = set(self.keys())\n",
    "        keys2 = set(other.keys())\n",
    "        if other.keys() - self != set(): # check to see if SD2 contains keys that aren't in SD1\n",
    "            raise ValueError(\"SD2 contains keys that are not in SD1\")\n",
    "        else:\n",
    "            for k in self.keys() - other: # loop through the keys that are in SD1 but not SD2 (could be empty set as well)\n",
    "                other.update({k : 0}) # add these missing keys to SD2 and give them a value of 0\n",
    "            for key in keys1: # loop through the keys of SD1 (should have all the keys we want to look at)\n",
    "                if self.get(key, 0) - other.get(key, 0) >= 0.0: # if the difference is >= 0.0,\n",
    "                    new.update({key : self.get(key, 0) - other.get(key, 0)}) # add them to new\n",
    "                    if new.get(key, 0) == 0.0: # if the difference == 0.0,\n",
    "                        new.pop(key) # remove them from new\n",
    "                else: # if the difference is < 0.0, \n",
    "                    raise ValueError(\"Subtraction results in negative values\") # raise a ValueError\n",
    "        return SubtractionDict(new) # convert new to a SubtractionDict and return"
   ]
  },
  {
   "cell_type": "code",
   "execution_count": 10,
   "metadata": {},
   "outputs": [
    {
     "data": {
      "text/plain": [
       "{'strawberries (lbs)': 1, 'onions': 2}"
      ]
     },
     "execution_count": 10,
     "metadata": {},
     "output_type": "execute_result"
    }
   ],
   "source": [
    "# example 1\n",
    "# making strawberry-onion pie\n",
    "SD1 = SubtractionDict({\"onions\" : 3, \"strawberries (lbs)\" : 2})\n",
    "SD2 = SubtractionDict({\"onions\" : 1, \"strawberries (lbs)\" : 1})\n",
    "SD1 - SD2 # == SubtractionDict({\"onions\" : 2, \"strawberries (lbs)\" : 1})"
   ]
  },
  {
   "cell_type": "code",
   "execution_count": 11,
   "metadata": {},
   "outputs": [
    {
     "ename": "ValueError",
     "evalue": "Subtraction results in negative values",
     "output_type": "error",
     "traceback": [
      "\u001b[0;31m---------------------------------------------------------------------------\u001b[0m",
      "\u001b[0;31mValueError\u001b[0m                                Traceback (most recent call last)",
      "\u001b[0;32m<ipython-input-11-822f7a86f183>\u001b[0m in \u001b[0;36m<module>\u001b[0;34m\u001b[0m\n\u001b[1;32m      3\u001b[0m \u001b[0mSD1\u001b[0m \u001b[0;34m=\u001b[0m \u001b[0mSubtractionDict\u001b[0m\u001b[0;34m(\u001b[0m\u001b[0;34m{\u001b[0m\u001b[0;34m\"onions\"\u001b[0m \u001b[0;34m:\u001b[0m \u001b[0;36m3\u001b[0m\u001b[0;34m,\u001b[0m \u001b[0;34m\"strawberries (lbs)\"\u001b[0m \u001b[0;34m:\u001b[0m \u001b[0;36m2\u001b[0m\u001b[0;34m}\u001b[0m\u001b[0;34m)\u001b[0m\u001b[0;34m\u001b[0m\u001b[0;34m\u001b[0m\u001b[0m\n\u001b[1;32m      4\u001b[0m \u001b[0mSD2\u001b[0m \u001b[0;34m=\u001b[0m \u001b[0mSubtractionDict\u001b[0m\u001b[0;34m(\u001b[0m\u001b[0;34m{\u001b[0m\u001b[0;34m\"onions\"\u001b[0m \u001b[0;34m:\u001b[0m \u001b[0;36m4\u001b[0m\u001b[0;34m,\u001b[0m \u001b[0;34m\"strawberries (lbs)\"\u001b[0m \u001b[0;34m:\u001b[0m \u001b[0;36m1\u001b[0m\u001b[0;34m}\u001b[0m\u001b[0;34m)\u001b[0m\u001b[0;34m\u001b[0m\u001b[0;34m\u001b[0m\u001b[0m\n\u001b[0;32m----> 5\u001b[0;31m \u001b[0mSD1\u001b[0m \u001b[0;34m-\u001b[0m \u001b[0mSD2\u001b[0m \u001b[0;31m# error\u001b[0m\u001b[0;34m\u001b[0m\u001b[0;34m\u001b[0m\u001b[0m\n\u001b[0m",
      "\u001b[0;32m<ipython-input-9-0404760db5e6>\u001b[0m in \u001b[0;36m__sub__\u001b[0;34m(self, other)\u001b[0m\n\u001b[1;32m     56\u001b[0m                         \u001b[0mnew\u001b[0m\u001b[0;34m.\u001b[0m\u001b[0mpop\u001b[0m\u001b[0;34m(\u001b[0m\u001b[0mkey\u001b[0m\u001b[0;34m)\u001b[0m \u001b[0;31m# remove them from new\u001b[0m\u001b[0;34m\u001b[0m\u001b[0;34m\u001b[0m\u001b[0m\n\u001b[1;32m     57\u001b[0m                 \u001b[0;32melse\u001b[0m\u001b[0;34m:\u001b[0m \u001b[0;31m# if the difference is < 0.0,\u001b[0m\u001b[0;34m\u001b[0m\u001b[0;34m\u001b[0m\u001b[0m\n\u001b[0;32m---> 58\u001b[0;31m                     \u001b[0;32mraise\u001b[0m \u001b[0mValueError\u001b[0m\u001b[0;34m(\u001b[0m\u001b[0;34m\"Subtraction results in negative values\"\u001b[0m\u001b[0;34m)\u001b[0m \u001b[0;31m# raise a ValueError\u001b[0m\u001b[0;34m\u001b[0m\u001b[0;34m\u001b[0m\u001b[0m\n\u001b[0m\u001b[1;32m     59\u001b[0m         \u001b[0;32mreturn\u001b[0m \u001b[0mSubtractionDict\u001b[0m\u001b[0;34m(\u001b[0m\u001b[0mnew\u001b[0m\u001b[0;34m)\u001b[0m \u001b[0;31m# convert new to a SubtractionDict and return\u001b[0m\u001b[0;34m\u001b[0m\u001b[0;34m\u001b[0m\u001b[0m\n",
      "\u001b[0;31mValueError\u001b[0m: Subtraction results in negative values"
     ]
    }
   ],
   "source": [
    "# example 2\n",
    "# raises error\n",
    "SD1 = SubtractionDict({\"onions\" : 3, \"strawberries (lbs)\" : 2})\n",
    "SD2 = SubtractionDict({\"onions\" : 4, \"strawberries (lbs)\" : 1})\n",
    "SD1 - SD2 # error"
   ]
  },
  {
   "cell_type": "code",
   "execution_count": 12,
   "metadata": {},
   "outputs": [
    {
     "ename": "ValueError",
     "evalue": "SD2 contains keys that are not in SD1",
     "output_type": "error",
     "traceback": [
      "\u001b[0;31m---------------------------------------------------------------------------\u001b[0m",
      "\u001b[0;31mValueError\u001b[0m                                Traceback (most recent call last)",
      "\u001b[0;32m<ipython-input-12-4a9be153c1ae>\u001b[0m in \u001b[0;36m<module>\u001b[0;34m\u001b[0m\n\u001b[1;32m      3\u001b[0m \u001b[0mSD1\u001b[0m \u001b[0;34m=\u001b[0m \u001b[0mSubtractionDict\u001b[0m\u001b[0;34m(\u001b[0m\u001b[0;34m{\u001b[0m\u001b[0;34m\"onions\"\u001b[0m \u001b[0;34m:\u001b[0m \u001b[0;36m3\u001b[0m\u001b[0;34m,\u001b[0m \u001b[0;34m\"strawberries (lbs)\"\u001b[0m \u001b[0;34m:\u001b[0m \u001b[0;36m2\u001b[0m\u001b[0;34m}\u001b[0m\u001b[0;34m)\u001b[0m\u001b[0;34m\u001b[0m\u001b[0;34m\u001b[0m\u001b[0m\n\u001b[1;32m      4\u001b[0m \u001b[0mSD2\u001b[0m \u001b[0;34m=\u001b[0m \u001b[0mSubtractionDict\u001b[0m\u001b[0;34m(\u001b[0m\u001b[0;34m{\u001b[0m\u001b[0;34m\"onions\"\u001b[0m \u001b[0;34m:\u001b[0m \u001b[0;36m1\u001b[0m\u001b[0;34m,\u001b[0m \u001b[0;34m\"snozzberries (lbs)\"\u001b[0m \u001b[0;34m:\u001b[0m \u001b[0;36m1\u001b[0m\u001b[0;34m}\u001b[0m\u001b[0;34m)\u001b[0m\u001b[0;34m\u001b[0m\u001b[0;34m\u001b[0m\u001b[0m\n\u001b[0;32m----> 5\u001b[0;31m \u001b[0mSD1\u001b[0m \u001b[0;34m-\u001b[0m \u001b[0mSD2\u001b[0m \u001b[0;31m# error\u001b[0m\u001b[0;34m\u001b[0m\u001b[0;34m\u001b[0m\u001b[0m\n\u001b[0m",
      "\u001b[0;32m<ipython-input-9-0404760db5e6>\u001b[0m in \u001b[0;36m__sub__\u001b[0;34m(self, other)\u001b[0m\n\u001b[1;32m     46\u001b[0m         \u001b[0mkeys2\u001b[0m \u001b[0;34m=\u001b[0m \u001b[0mset\u001b[0m\u001b[0;34m(\u001b[0m\u001b[0mother\u001b[0m\u001b[0;34m.\u001b[0m\u001b[0mkeys\u001b[0m\u001b[0;34m(\u001b[0m\u001b[0;34m)\u001b[0m\u001b[0;34m)\u001b[0m\u001b[0;34m\u001b[0m\u001b[0;34m\u001b[0m\u001b[0m\n\u001b[1;32m     47\u001b[0m         \u001b[0;32mif\u001b[0m \u001b[0mother\u001b[0m\u001b[0;34m.\u001b[0m\u001b[0mkeys\u001b[0m\u001b[0;34m(\u001b[0m\u001b[0;34m)\u001b[0m \u001b[0;34m-\u001b[0m \u001b[0mself\u001b[0m \u001b[0;34m!=\u001b[0m \u001b[0mset\u001b[0m\u001b[0;34m(\u001b[0m\u001b[0;34m)\u001b[0m\u001b[0;34m:\u001b[0m \u001b[0;31m# check to see if SD2 contains keys that aren't in SD1\u001b[0m\u001b[0;34m\u001b[0m\u001b[0;34m\u001b[0m\u001b[0m\n\u001b[0;32m---> 48\u001b[0;31m             \u001b[0;32mraise\u001b[0m \u001b[0mValueError\u001b[0m\u001b[0;34m(\u001b[0m\u001b[0;34m\"SD2 contains keys that are not in SD1\"\u001b[0m\u001b[0;34m)\u001b[0m\u001b[0;34m\u001b[0m\u001b[0;34m\u001b[0m\u001b[0m\n\u001b[0m\u001b[1;32m     49\u001b[0m         \u001b[0;32melse\u001b[0m\u001b[0;34m:\u001b[0m\u001b[0;34m\u001b[0m\u001b[0;34m\u001b[0m\u001b[0m\n\u001b[1;32m     50\u001b[0m             \u001b[0;32mfor\u001b[0m \u001b[0mk\u001b[0m \u001b[0;32min\u001b[0m \u001b[0mself\u001b[0m\u001b[0;34m.\u001b[0m\u001b[0mkeys\u001b[0m\u001b[0;34m(\u001b[0m\u001b[0;34m)\u001b[0m \u001b[0;34m-\u001b[0m \u001b[0mother\u001b[0m\u001b[0;34m:\u001b[0m \u001b[0;31m# loop through the keys that are in SD1 but not SD2 (could be empty set as well)\u001b[0m\u001b[0;34m\u001b[0m\u001b[0;34m\u001b[0m\u001b[0m\n",
      "\u001b[0;31mValueError\u001b[0m: SD2 contains keys that are not in SD1"
     ]
    }
   ],
   "source": [
    "# example 3\n",
    "# raises error\n",
    "SD1 = SubtractionDict({\"onions\" : 3, \"strawberries (lbs)\" : 2})\n",
    "SD2 = SubtractionDict({\"onions\" : 1, \"snozzberries (lbs)\" : 1})\n",
    "SD1 - SD2 # error"
   ]
  },
  {
   "cell_type": "code",
   "execution_count": 13,
   "metadata": {},
   "outputs": [
    {
     "data": {
      "text/plain": [
       "{'onions': 2}"
      ]
     },
     "execution_count": 13,
     "metadata": {},
     "output_type": "execute_result"
    }
   ],
   "source": [
    "# example 4\n",
    "# key removed\n",
    "SD1 = SubtractionDict({\"onions\" : 3, \"strawberries (lbs)\" : 2})\n",
    "SD2 = SubtractionDict({\"onions\" : 1, \"strawberries (lbs)\" : 2})\n",
    "SD1 - SD2 # == SubtractionDict({\"onions\" : 2})"
   ]
  },
  {
   "cell_type": "markdown",
   "metadata": {},
   "source": [
    "### Part C (10 points)\n",
    "\n",
    "It is not required to write any functioning code for this problem. \n",
    "\n",
    "**(I).** Document the `lookup()` function supplied below. You should include:\n",
    "\n",
    "- A few well-placed comments. \n",
    "- A docstring that makes clear what assumptions are made about the arguments and what the user can expect from the output. \n",
    "\n",
    "**(II).** Then, state what the `lookup()` function would do if `d` is a `SubtractionDict` from Part B. Would it be possible to access information from `d` in this case? If so, explain. If not, describe the smallest and most robust change that you could make so that the user could use `lookup()` to access information from `d` when `d` is a `SubtractionDict`. For full credit, your modified code should not explicitly mention `SubtractionDict`s. "
   ]
  },
  {
   "cell_type": "code",
   "execution_count": 14,
   "metadata": {},
   "outputs": [],
   "source": [
    "def lookup(d, x, default = None):\n",
    "    \"\"\"\n",
    "    A function to return the value of a dict d associated with key x\n",
    "    Parameters\n",
    "    ----------\n",
    "    d: a dict supplied by the user\n",
    "    x: the key the user wants to find the values for\n",
    "    default: the default return\n",
    "    \n",
    "    Returns\n",
    "    -------\n",
    "    d[x]: the value associated with user supplied key x\n",
    "    default: None -> if there is no key x\n",
    "    \"\"\"\n",
    "    if type(d) != dict: # checking to see if d is a dict. If it IS NOT a dict, raise a TypeError  \n",
    "        raise TypeError(\"First argument must be a dict.\")\n",
    "    try: # try to return the value associated with x\n",
    "        return d[x]\n",
    "    except KeyError: # if there is a KeyError (x is not a key in d), return None\n",
    "        return default"
   ]
  },
  {
   "cell_type": "markdown",
   "metadata": {},
   "source": [
    "---\n",
    "`lookup()` would **NOT** work if `d` was a `SubtractionDict`. A `TypeError` would be raised by the first line of the function, as `type(d)` would be `__main__.SubtractionDict` and therefore the `if` statement would evaluate to `False`. One small change the developer could make is to add the following line before the `if` statement:\n",
    "```python\n",
    "d = dict(d)\n",
    "```\n",
    "This will convert the parameter `d` supplied by the user to a `dict`.\n",
    "\n",
    "---"
   ]
  }
 ],
 "metadata": {
  "kernelspec": {
   "display_name": "Python 3",
   "language": "python",
   "name": "python3"
  },
  "language_info": {
   "codemirror_mode": {
    "name": "ipython",
    "version": 3
   },
   "file_extension": ".py",
   "mimetype": "text/x-python",
   "name": "python",
   "nbconvert_exporter": "python",
   "pygments_lexer": "ipython3",
   "version": "3.8.5"
  }
 },
 "nbformat": 4,
 "nbformat_minor": 4
}
