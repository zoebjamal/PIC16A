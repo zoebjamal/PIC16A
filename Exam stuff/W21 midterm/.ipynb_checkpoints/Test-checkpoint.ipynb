{
 "cells": [
  {
   "cell_type": "code",
   "execution_count": 1,
   "metadata": {},
   "outputs": [],
   "source": [
    "import random\n",
    "\n",
    "class PICStudent:\n",
    "    \"\"\"\n",
    "    A class representing a PIC student. \n",
    "    \n",
    "    Includes the following instance variables: \n",
    "    - name (string), the name of the student. \n",
    "    - understanding (int or float), the student's understanding of Python. \n",
    "    \n",
    "    Includes the following methods: \n",
    "    - add_name(), sets a user-specified value of name for the student. \n",
    "        No return value.\n",
    "    - say_hi(), prints a message containing the student's name. \n",
    "    - go_to_OH(), increases the student's understanding by one unit. \n",
    "        No return value.\n",
    "    - do_HW(), returns a score (int or float) out of 100 based on the student's \n",
    "        understanding of Python.\n",
    "    \"\"\"\n",
    "    pass\n",
    "\n",
    "def add_name(PCS, name):\n",
    "    if type(PCS) != PICStudent:\n",
    "        raise TypeError(\"This function is designed to work with objects of class PICStudent\")\n",
    "    PCS.name = name\n",
    "\n",
    "def say_hi(PCS, name):\n",
    "    print(\"Hello! My name is \" + str(self.name))\n",
    "\n",
    "def go_to_OH(PCS):\n",
    "    if type(PCS) != PICStudent:\n",
    "        raise TypeError(\"This function is designed to work with objects of class PICStudent\")\n",
    "    PCS.understanding += 1\n",
    "    \n",
    "def do_HW(PCS):\n",
    "    if type(PCS) != PICStudent:\n",
    "        raise TypeError(\"This function is designed to work with objects of class PICStudent\")\n",
    "    \n",
    "    score = max(75+25*random.random(), 25*PCS.understanding)\n",
    "    return score    "
   ]
  },
  {
   "cell_type": "code",
   "execution_count": 2,
   "metadata": {},
   "outputs": [],
   "source": [
    "a = PICStudent()"
   ]
  },
  {
   "cell_type": "code",
   "execution_count": 3,
   "metadata": {},
   "outputs": [],
   "source": [
    "add_name(a, \"zoeb\")"
   ]
  },
  {
   "cell_type": "code",
   "execution_count": 4,
   "metadata": {},
   "outputs": [
    {
     "ename": "NameError",
     "evalue": "name 'self' is not defined",
     "output_type": "error",
     "traceback": [
      "\u001b[0;31m---------------------------------------------------------------------------\u001b[0m",
      "\u001b[0;31mNameError\u001b[0m                                 Traceback (most recent call last)",
      "\u001b[0;32m<ipython-input-4-79ce38a7f709>\u001b[0m in \u001b[0;36m<module>\u001b[0;34m\u001b[0m\n\u001b[0;32m----> 1\u001b[0;31m \u001b[0msay_hi\u001b[0m\u001b[0;34m(\u001b[0m\u001b[0ma\u001b[0m\u001b[0;34m,\u001b[0m \u001b[0;34m\"zoeb\"\u001b[0m\u001b[0;34m)\u001b[0m\u001b[0;34m\u001b[0m\u001b[0;34m\u001b[0m\u001b[0m\n\u001b[0m",
      "\u001b[0;32m<ipython-input-1-d5eb304d63df>\u001b[0m in \u001b[0;36msay_hi\u001b[0;34m(PCS, name)\u001b[0m\n\u001b[1;32m     26\u001b[0m \u001b[0;34m\u001b[0m\u001b[0m\n\u001b[1;32m     27\u001b[0m \u001b[0;32mdef\u001b[0m \u001b[0msay_hi\u001b[0m\u001b[0;34m(\u001b[0m\u001b[0mPCS\u001b[0m\u001b[0;34m,\u001b[0m \u001b[0mname\u001b[0m\u001b[0;34m)\u001b[0m\u001b[0;34m:\u001b[0m\u001b[0;34m\u001b[0m\u001b[0;34m\u001b[0m\u001b[0m\n\u001b[0;32m---> 28\u001b[0;31m     \u001b[0mprint\u001b[0m\u001b[0;34m(\u001b[0m\u001b[0;34m\"Hello! My name is \"\u001b[0m \u001b[0;34m+\u001b[0m \u001b[0mstr\u001b[0m\u001b[0;34m(\u001b[0m\u001b[0mself\u001b[0m\u001b[0;34m.\u001b[0m\u001b[0mname\u001b[0m\u001b[0;34m)\u001b[0m\u001b[0;34m)\u001b[0m\u001b[0;34m\u001b[0m\u001b[0;34m\u001b[0m\u001b[0m\n\u001b[0m\u001b[1;32m     29\u001b[0m \u001b[0;34m\u001b[0m\u001b[0m\n\u001b[1;32m     30\u001b[0m \u001b[0;32mdef\u001b[0m \u001b[0mgo_to_OH\u001b[0m\u001b[0;34m(\u001b[0m\u001b[0mPCS\u001b[0m\u001b[0;34m)\u001b[0m\u001b[0;34m:\u001b[0m\u001b[0;34m\u001b[0m\u001b[0;34m\u001b[0m\u001b[0m\n",
      "\u001b[0;31mNameError\u001b[0m: name 'self' is not defined"
     ]
    }
   ],
   "source": [
    "say_hi(a, \"zoeb\")"
   ]
  },
  {
   "cell_type": "code",
   "execution_count": 5,
   "metadata": {},
   "outputs": [
    {
     "ename": "AttributeError",
     "evalue": "'PICStudent' object has no attribute 'understanding'",
     "output_type": "error",
     "traceback": [
      "\u001b[0;31m---------------------------------------------------------------------------\u001b[0m",
      "\u001b[0;31mAttributeError\u001b[0m                            Traceback (most recent call last)",
      "\u001b[0;32m<ipython-input-5-25b33b83de4f>\u001b[0m in \u001b[0;36m<module>\u001b[0;34m\u001b[0m\n\u001b[0;32m----> 1\u001b[0;31m \u001b[0mgo_to_OH\u001b[0m\u001b[0;34m(\u001b[0m\u001b[0ma\u001b[0m\u001b[0;34m)\u001b[0m\u001b[0;34m\u001b[0m\u001b[0;34m\u001b[0m\u001b[0m\n\u001b[0m",
      "\u001b[0;32m<ipython-input-1-d5eb304d63df>\u001b[0m in \u001b[0;36mgo_to_OH\u001b[0;34m(PCS)\u001b[0m\n\u001b[1;32m     31\u001b[0m     \u001b[0;32mif\u001b[0m \u001b[0mtype\u001b[0m\u001b[0;34m(\u001b[0m\u001b[0mPCS\u001b[0m\u001b[0;34m)\u001b[0m \u001b[0;34m!=\u001b[0m \u001b[0mPICStudent\u001b[0m\u001b[0;34m:\u001b[0m\u001b[0;34m\u001b[0m\u001b[0;34m\u001b[0m\u001b[0m\n\u001b[1;32m     32\u001b[0m         \u001b[0;32mraise\u001b[0m \u001b[0mTypeError\u001b[0m\u001b[0;34m(\u001b[0m\u001b[0;34m\"This function is designed to work with objects of class PICStudent\"\u001b[0m\u001b[0;34m)\u001b[0m\u001b[0;34m\u001b[0m\u001b[0;34m\u001b[0m\u001b[0m\n\u001b[0;32m---> 33\u001b[0;31m     \u001b[0mPCS\u001b[0m\u001b[0;34m.\u001b[0m\u001b[0munderstanding\u001b[0m \u001b[0;34m+=\u001b[0m \u001b[0;36m1\u001b[0m\u001b[0;34m\u001b[0m\u001b[0;34m\u001b[0m\u001b[0m\n\u001b[0m\u001b[1;32m     34\u001b[0m \u001b[0;34m\u001b[0m\u001b[0m\n\u001b[1;32m     35\u001b[0m \u001b[0;32mdef\u001b[0m \u001b[0mdo_HW\u001b[0m\u001b[0;34m(\u001b[0m\u001b[0mPCS\u001b[0m\u001b[0;34m)\u001b[0m\u001b[0;34m:\u001b[0m\u001b[0;34m\u001b[0m\u001b[0;34m\u001b[0m\u001b[0m\n",
      "\u001b[0;31mAttributeError\u001b[0m: 'PICStudent' object has no attribute 'understanding'"
     ]
    }
   ],
   "source": [
    "go_to_OH(a)"
   ]
  },
  {
   "cell_type": "code",
   "execution_count": 6,
   "metadata": {},
   "outputs": [
    {
     "ename": "AttributeError",
     "evalue": "'PICStudent' object has no attribute 'understanding'",
     "output_type": "error",
     "traceback": [
      "\u001b[0;31m---------------------------------------------------------------------------\u001b[0m",
      "\u001b[0;31mAttributeError\u001b[0m                            Traceback (most recent call last)",
      "\u001b[0;32m<ipython-input-6-335c0b8c8116>\u001b[0m in \u001b[0;36m<module>\u001b[0;34m\u001b[0m\n\u001b[0;32m----> 1\u001b[0;31m \u001b[0mdo_HW\u001b[0m\u001b[0;34m(\u001b[0m\u001b[0ma\u001b[0m\u001b[0;34m)\u001b[0m\u001b[0;34m\u001b[0m\u001b[0;34m\u001b[0m\u001b[0m\n\u001b[0m",
      "\u001b[0;32m<ipython-input-1-d5eb304d63df>\u001b[0m in \u001b[0;36mdo_HW\u001b[0;34m(PCS)\u001b[0m\n\u001b[1;32m     37\u001b[0m         \u001b[0;32mraise\u001b[0m \u001b[0mTypeError\u001b[0m\u001b[0;34m(\u001b[0m\u001b[0;34m\"This function is designed to work with objects of class PICStudent\"\u001b[0m\u001b[0;34m)\u001b[0m\u001b[0;34m\u001b[0m\u001b[0;34m\u001b[0m\u001b[0m\n\u001b[1;32m     38\u001b[0m \u001b[0;34m\u001b[0m\u001b[0m\n\u001b[0;32m---> 39\u001b[0;31m     \u001b[0mscore\u001b[0m \u001b[0;34m=\u001b[0m \u001b[0mmax\u001b[0m\u001b[0;34m(\u001b[0m\u001b[0;36m75\u001b[0m\u001b[0;34m+\u001b[0m\u001b[0;36m25\u001b[0m\u001b[0;34m*\u001b[0m\u001b[0mrandom\u001b[0m\u001b[0;34m.\u001b[0m\u001b[0mrandom\u001b[0m\u001b[0;34m(\u001b[0m\u001b[0;34m)\u001b[0m\u001b[0;34m,\u001b[0m \u001b[0;36m25\u001b[0m\u001b[0;34m*\u001b[0m\u001b[0mPCS\u001b[0m\u001b[0;34m.\u001b[0m\u001b[0munderstanding\u001b[0m\u001b[0;34m)\u001b[0m\u001b[0;34m\u001b[0m\u001b[0;34m\u001b[0m\u001b[0m\n\u001b[0m\u001b[1;32m     40\u001b[0m     \u001b[0;32mreturn\u001b[0m \u001b[0mscore\u001b[0m\u001b[0;34m\u001b[0m\u001b[0;34m\u001b[0m\u001b[0m\n",
      "\u001b[0;31mAttributeError\u001b[0m: 'PICStudent' object has no attribute 'understanding'"
     ]
    }
   ],
   "source": [
    "do_HW(a)"
   ]
  },
  {
   "cell_type": "code",
   "execution_count": 23,
   "metadata": {},
   "outputs": [
    {
     "data": {
      "text/plain": [
       "100"
      ]
     },
     "execution_count": 23,
     "metadata": {},
     "output_type": "execute_result"
    }
   ],
   "source": [
    "score = max(75+25*random.random(), 25*4)\n",
    "score"
   ]
  },
  {
   "cell_type": "code",
   "execution_count": 29,
   "metadata": {},
   "outputs": [
    {
     "data": {
      "text/plain": [
       "0.1727498741211857"
      ]
     },
     "execution_count": 29,
     "metadata": {},
     "output_type": "execute_result"
    }
   ],
   "source": [
    "random.random()"
   ]
  },
  {
   "cell_type": "code",
   "execution_count": 33,
   "metadata": {},
   "outputs": [
    {
     "data": {
      "text/plain": [
       "False"
      ]
     },
     "execution_count": 33,
     "metadata": {},
     "output_type": "execute_result"
    }
   ],
   "source": [
    "keys1 = {\"onions\", \"banana\", \"lettuce\", \"bread\"}\n",
    "keys2 = {\"banana\", \"lettuce\", \"onions\"}\n",
    "keys1 == keys2"
   ]
  },
  {
   "cell_type": "code",
   "execution_count": 35,
   "metadata": {},
   "outputs": [
    {
     "name": "stdout",
     "output_type": "stream",
     "text": [
      "success\n"
     ]
    }
   ],
   "source": [
    "a = [1, 3, 5, -2, 4, 6]\n",
    "for i in a:\n",
    "    if i < 0.0:\n",
    "        print(\"success\")"
   ]
  },
  {
   "cell_type": "code",
   "execution_count": 53,
   "metadata": {},
   "outputs": [
    {
     "data": {
      "text/plain": [
       "True"
      ]
     },
     "execution_count": 53,
     "metadata": {},
     "output_type": "execute_result"
    }
   ],
   "source": [
    "a = {\"onions\" : 3, \"strawberries (lbs)\" : 2}\n",
    "b = {\"onions\" : 1, \"strawberries (lbs)\" : 1}\n",
    "a.keys() - b == set()\n",
    "# c = a.keys() - b\n",
    "# d = b.keys() - a\n",
    "# for k in a.keys() - b:\n",
    "#     b.update({k : 0})\n",
    "# b"
   ]
  },
  {
   "cell_type": "code",
   "execution_count": 48,
   "metadata": {},
   "outputs": [
    {
     "data": {
      "text/plain": [
       "True"
      ]
     },
     "execution_count": 48,
     "metadata": {},
     "output_type": "execute_result"
    }
   ],
   "source": [
    "a.keys() - b != {}"
   ]
  },
  {
   "cell_type": "code",
   "execution_count": 54,
   "metadata": {},
   "outputs": [
    {
     "data": {
      "text/plain": [
       "dict"
      ]
     },
     "execution_count": 54,
     "metadata": {},
     "output_type": "execute_result"
    }
   ],
   "source": [
    "new = {}\n",
    "type(new)\n"
   ]
  },
  {
   "cell_type": "code",
   "execution_count": 55,
   "metadata": {},
   "outputs": [],
   "source": [
    "class SubtractionDict(dict):\n",
    "    \"\"\"\n",
    "    a SubtractionDict includes all properties and methods of the dict class. \n",
    "    Additionally, implements dictionary subtraction via the - binary operator. \n",
    "    \n",
    "    If SD1 and SD2 are both SubtractionDicts whose values are numbers (ints or floats),\n",
    "    and if all values in SD1 are equal to or larger than their corresponding values in SD2, \n",
    "    then SD1 - SD2 is a new SubtractionDict whose keys are the keys of SD1 and whose values\n",
    "    are the difference in values between SD1 and SD2. Keys present in SD1 but not in SD2 are \n",
    "    handled as though they are present in SD2 with value 0. \n",
    "    \n",
    "    A ValueError is raised when: \n",
    "    1. SD2 contains keys not contained in SD1.\n",
    "    2. The result of subtraction would result in negative values. \n",
    "    \n",
    "    If subtraction would result in a value of exactly zero, the key is instead \n",
    "    removed from the result. \n",
    "    \n",
    "    Examples: \n",
    "    \n",
    "    # making strawberry-onion pie\n",
    "    SD1 = SubtractionDict({\"onions\" : 3, \"strawberries (lbs)\" : 2})\n",
    "    SD2 = SubtractionDict({\"onions\" : 1, \"strawberries (lbs)\" : 1})\n",
    "    SD1 - SD2 # == SubtractionDict({\"onions\" : 2, \"strawberries (lbs)\" : 1})\n",
    "    \n",
    "    # raises error\n",
    "    SD1 = SubtractionDict({\"onions\" : 3, \"strawberries (lbs)\" : 2})\n",
    "    SD2 = SubtractionDict({\"onions\" : 4, \"strawberries (lbs)\" : 1})\n",
    "    SD1 - SD2 # error\n",
    "    \n",
    "    # raises error\n",
    "    SD1 = SubtractionDict({\"onions\" : 3, \"strawberries (lbs)\" : 2})\n",
    "    SD2 = SubtractionDict({\"onions\" : 1, \"snozzberries (lbs)\" : 1})\n",
    "    SD1 - SD2 # error\n",
    "    \n",
    "    # key removed\n",
    "    SD1 = SubtractionDict({\"onions\" : 3, \"strawberries (lbs)\" : 2})\n",
    "    SD2 = SubtractionDict({\"onions\" : 1, \"strawberries (lbs)\" : 2})\n",
    "    SD1 - SD2 # == SubtractionDict({\"onions\" : 2})\n",
    "    \"\"\"\n",
    "    \n",
    "    # your code here \n",
    "    def __sub__(self, other):\n",
    "        new = {}\n",
    "        keys1 = set(self.keys())\n",
    "        keys2 = set(other.keys())\n",
    "        if other.keys() - self != set(): # check to see if SD2 contains keys that aren't in SD1\n",
    "            raise ValueError(\"SD2 contains keys that are not in SD1\")\n",
    "        else:\n",
    "            for k in self.keys() - other: # loop through the keys that are in SD1 but not SD2 (could be empty set as well)\n",
    "                other.update({k : 0}) # add these missing keys to SD2 and give them a value of 0\n",
    "            for key in keys1: # loop through the keys of SD1 (should have all the keys we want to look at)\n",
    "                if self.get(key, 0) - other.get(key, 0) >= 0.0: # if the difference is >= 0.0,\n",
    "                    new.update({key : self.get(key, 0) - other.get(key, 0)}) # add them to new\n",
    "                    if new.get(key, 0) == 0.0: # if the difference == 0.0,\n",
    "                        new.pop(key) # remove them from new\n",
    "                else: # if the difference is < 0.0, \n",
    "                    raise ValueError(\"Subtraction results in negative values\") # raise a ValueError\n",
    "        return SubtractionDict(new) # convert new to a SubtractionDict and return"
   ]
  },
  {
   "cell_type": "code",
   "execution_count": 56,
   "metadata": {},
   "outputs": [],
   "source": [
    "def lookup(d, x, default = None):\n",
    "    \"\"\"\n",
    "    A function to return the value of a dict d associated with key x\n",
    "    Parameters\n",
    "    ----------\n",
    "    d: a dict supplied by the user\n",
    "    x: the key the user wants to find the values for\n",
    "    default: the default return\n",
    "    \n",
    "    Returns\n",
    "    -------\n",
    "    d[x]: the value associated with user supplied key x\n",
    "    default: None -> if there is no key x\n",
    "    \"\"\"\n",
    "    if type(d) != dict: # checking to see if d is a dict. If it IS NOT a dict, raise a TypeError  \n",
    "        raise TypeError(\"First argument must be a dict.\")\n",
    "    try: # try to return the value associated with x\n",
    "        return d[x]\n",
    "    except KeyError: # if there is a KeyError (x is not a key in d), return None\n",
    "        return default"
   ]
  },
  {
   "cell_type": "code",
   "execution_count": 58,
   "metadata": {},
   "outputs": [],
   "source": [
    "myD = {'apple' : 1, 'grape' : 3, 'flour' : 1}\n",
    "SD1 = SubtractionDict({\"onions\" : 3, \"strawberries (lbs)\" : 2})"
   ]
  },
  {
   "cell_type": "code",
   "execution_count": 64,
   "metadata": {},
   "outputs": [
    {
     "ename": "TypeError",
     "evalue": "First argument must be a dict.",
     "output_type": "error",
     "traceback": [
      "\u001b[0;31m---------------------------------------------------------------------------\u001b[0m",
      "\u001b[0;31mTypeError\u001b[0m                                 Traceback (most recent call last)",
      "\u001b[0;32m<ipython-input-64-33ae8ea7077b>\u001b[0m in \u001b[0;36m<module>\u001b[0;34m\u001b[0m\n\u001b[0;32m----> 1\u001b[0;31m \u001b[0mprint\u001b[0m\u001b[0;34m(\u001b[0m\u001b[0mlookup\u001b[0m\u001b[0;34m(\u001b[0m\u001b[0mSD1\u001b[0m\u001b[0;34m,\u001b[0m \u001b[0;34m'onions'\u001b[0m\u001b[0;34m)\u001b[0m\u001b[0;34m)\u001b[0m\u001b[0;34m\u001b[0m\u001b[0;34m\u001b[0m\u001b[0m\n\u001b[0m",
      "\u001b[0;32m<ipython-input-56-c5cd1ccdb0f7>\u001b[0m in \u001b[0;36mlookup\u001b[0;34m(d, x, default)\u001b[0m\n\u001b[1;32m     14\u001b[0m     \"\"\"\n\u001b[1;32m     15\u001b[0m     \u001b[0;32mif\u001b[0m \u001b[0mtype\u001b[0m\u001b[0;34m(\u001b[0m\u001b[0md\u001b[0m\u001b[0;34m)\u001b[0m \u001b[0;34m!=\u001b[0m \u001b[0mdict\u001b[0m\u001b[0;34m:\u001b[0m \u001b[0;31m# checking to see if d is a dict. If it IS NOT a dict, raise a TypeError\u001b[0m\u001b[0;34m\u001b[0m\u001b[0;34m\u001b[0m\u001b[0m\n\u001b[0;32m---> 16\u001b[0;31m         \u001b[0;32mraise\u001b[0m \u001b[0mTypeError\u001b[0m\u001b[0;34m(\u001b[0m\u001b[0;34m\"First argument must be a dict.\"\u001b[0m\u001b[0;34m)\u001b[0m\u001b[0;34m\u001b[0m\u001b[0;34m\u001b[0m\u001b[0m\n\u001b[0m\u001b[1;32m     17\u001b[0m     \u001b[0;32mtry\u001b[0m\u001b[0;34m:\u001b[0m \u001b[0;31m# try to return the value associated with x\u001b[0m\u001b[0;34m\u001b[0m\u001b[0;34m\u001b[0m\u001b[0m\n\u001b[1;32m     18\u001b[0m         \u001b[0;32mreturn\u001b[0m \u001b[0md\u001b[0m\u001b[0;34m[\u001b[0m\u001b[0mx\u001b[0m\u001b[0;34m]\u001b[0m\u001b[0;34m\u001b[0m\u001b[0;34m\u001b[0m\u001b[0m\n",
      "\u001b[0;31mTypeError\u001b[0m: First argument must be a dict."
     ]
    }
   ],
   "source": [
    "print(lookup(SD1, 'onions'))"
   ]
  },
  {
   "cell_type": "code",
   "execution_count": null,
   "metadata": {},
   "outputs": [],
   "source": []
  }
 ],
 "metadata": {
  "kernelspec": {
   "display_name": "Python 3",
   "language": "python",
   "name": "python3"
  },
  "language_info": {
   "codemirror_mode": {
    "name": "ipython",
    "version": 3
   },
   "file_extension": ".py",
   "mimetype": "text/x-python",
   "name": "python",
   "nbconvert_exporter": "python",
   "pygments_lexer": "ipython3",
   "version": "3.8.5"
  }
 },
 "nbformat": 4,
 "nbformat_minor": 4
}
