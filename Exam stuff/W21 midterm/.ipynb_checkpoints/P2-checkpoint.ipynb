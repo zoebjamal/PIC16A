{
 "cells": [
  {
   "cell_type": "markdown",
   "metadata": {},
   "source": [
    "# Academic Integrity Statement\n",
    "\n",
    "As a matter of Departmental policy, **we are required to give you a 0** unless you **type your name** after the following statement: \n",
    "\n",
    "> *I certify on my honor that I have neither given nor received any help, or used any non-permitted resources, while completing this evaluation.*\n",
    "\n",
    "Zoeb Naushad Jamal\n",
    "### Partial Credit\n",
    "\n",
    "Let us give you partial credit! If you're stuck on a problem and just can't get your code to run: \n",
    "\n",
    "First, **breathe**. Then, do any or all of the following: \n",
    "    \n",
    "1. Write down everything relevant that you know about the problem, as comments where your code would go. \n",
    "2. If you have non-functioning code that demonstrates some correct ideas, indicate that and keep it (commented out). \n",
    "3. Write down pseudocode (written instructions) outlining your solution approach. \n",
    "\n",
    "In brief, even if you can't quite get your code to work, you can still **show us what you know.**\n",
    "\n",
    "# Problem 2 (50 points)\n",
    "\n",
    "A *time series* is a set of data that varies over time. The prices of stonks over days or weeks, CO2 levels over the course of the century or millenium, and even the random walk that you coded in Homework 1 are all examples of time series. \n",
    "\n",
    "<figure class=\"image\" style=\"width:50%\">\n",
    "  <img src=\"https://raw.githubusercontent.com/PhilChodrow/PIC16A/master/_images/stonks.png\n",
    "\" alt=\"An image of a goofy-looking business-person looking at a graph with an upward trend. Beneath the graph is the word stonks.\" width=\"300px\">\n",
    "  <figcaption><i></i></figcaption>\n",
    "</figure>\n",
    "\n",
    "A time series has two linked parts: the *time* and the *data*. For example, a time series might look like this (run the code block below): "
   ]
  },
  {
   "cell_type": "code",
   "execution_count": 1,
   "metadata": {},
   "outputs": [
    {
     "data": {
      "image/png": "[encoded data removed]",
      "text/plain": [
       "<Figure size 432x288 with 1 Axes>"
      ]
     },
     "metadata": {
      "needs_background": "light"
     },
     "output_type": "display_data"
    }
   ],
   "source": [
    "# run this block\n",
    "from matplotlib import pyplot as plt\n",
    "\n",
    "time = [0, 2, 8, 10]\n",
    "data = [0, 40, 100, 130]\n",
    "\n",
    "plt.plot(time, data)\n",
    "plt.scatter(time, data)\n",
    "l = plt.gca().set(xlabel = \"Week\", ylabel = \"Understanding of Python (%)\")"
   ]
  },
  {
   "cell_type": "markdown",
   "metadata": {},
   "source": [
    "*Whoa! You're going to understand Python 130% by week 10! The numbers don't lie.*"
   ]
  },
  {
   "cell_type": "markdown",
   "metadata": {},
   "source": [
    "This is a 4-point time-series. Note that it is not required that the time be measured in regular intervals. \n",
    "\n",
    "In this problem, you will create and use a class to represent time series. \n",
    "\n",
    "### Comments and Docstrings Encouraged, Not Required\n",
    "\n",
    "In Problem 2, docstrings and comments are not required for any of the parts. You are still encouraged to add them to explain your approach, per the note on Partial Credit above.\n",
    "    \n",
    "    \n",
    "## Part A (10 points)\n",
    "\n",
    "Create a `TimeSeries` class. This class should have two instance variables. The `time` instance variable should be able to contain multiple measurements of time, **which you may assume to be numeric** (i.e. `int` or `float`). The `data` instance variable should be able to contain multiple measurements of some data, **which you may also assume to be numeric.** The user should be able to pass `list`s containing the `time` and `data` measurements to the `TimeSeries` class on construction. \n",
    "\n",
    "At this stage, the only functionality required of your class is to store the `time` and `data` and *check that the `time` and `data` passed by the user have the same length.* If they do not, raise an informative `ValueError`. \n",
    "\n",
    "Show that your code works by running this first test: \n",
    "\n",
    "```python\n",
    "time = [ 0.0,  2.0,  9.0,  15.0]\n",
    "data = [-0.2, -0.4, -0.8,  -0.5]\n",
    "t    = TimeSeries(time, data)\n",
    "print(t.time, t.data)            # should print something\n",
    "```\n",
    "\n",
    "Then, show that your code displays the expected behavior on this second test.\n",
    "\n",
    "```python\n",
    "time = [ 0.0,  2.0,  9.0]\n",
    "data = [-0.2, -0.4, -0.8, - 0.5]\n",
    "t    = TimeSeries(time, data)\n",
    "\n",
    "# informative ValueError\n",
    "```\n",
    "\n",
    "#### No Copy/Paste\n",
    "\n",
    "Further parts of this problem will ask you to add to and modify your `TimeSeries` class. **It is not necessary to copy and paste for this**. You can and should write the entire `TimeSeries` class definition, as well as additional supporting code, **in the single code cell below.** \n",
    "\n",
    "For example, your Part C solution should go in the code cell directly below -- only the code used to test your solution should be shown in Part C. \n",
    "\n",
    "In subsequent parts, you need only write and run test code that demonstrates the correct functioning of your solution. This code will be supplied for you.  "
   ]
  },
  {
   "cell_type": "code",
   "execution_count": 109,
   "metadata": {},
   "outputs": [],
   "source": [
    "# your class and supporting code here\n",
    "from matplotlib import pyplot as plt\n",
    "\n",
    "class TimeSeries:\n",
    "    \"\"\"\n",
    "    A class that creates a time series objects.\n",
    "    \n",
    "    Instance Variables\n",
    "    ------------------\n",
    "    time: list that contains the times\n",
    "    data: list that contains the data\n",
    "    \n",
    "    Methods\n",
    "    -------\n",
    "    __init__(): method to initialize a TimeSeries object -- raises ValueError if lists are not equal in size\n",
    "    __str__(): magic method to return a string version of the object for printing\n",
    "    \"\"\"\n",
    "    def __init__(self, time, data):\n",
    "        if len(time) != len(data):\n",
    "            raise ValueError(\"The lists you have supplied are not of equal length.\")\n",
    "        else:\n",
    "            self.time = tuple(time)\n",
    "            self.data = tuple(data)\n",
    "            \n",
    "    def __str__(self):\n",
    "        return('An object of the class TimeSeries \\ntime: ' + str(list(self.time)) + \n",
    "               '\\ndata: ' + str(list(self.data)))\n",
    "    \n",
    "    def __add__(self, other):\n",
    "        if self.time != other.time:\n",
    "            raise ValueError(\"time lists are not equal\")\n",
    "        else:\n",
    "            datapairs = zip(self.data, other.data)\n",
    "            new = TimeSeries(list(self.time), list(map(sum, datapairs)))\n",
    "        return new\n",
    "    \n",
    "    def plot(self):\n",
    "        plt.plot(self.time, self.data)\n",
    "        plt.scatter(self.time, self.data)\n",
    "    \n",
    "    def __iter__(self):\n",
    "        return(TimeSeriesIterator(self))\n",
    "    \n",
    "class TimeSeriesIterator:\n",
    "    \"\"\"\n",
    "    A class that can iterate through a TimeSeries object\n",
    "    \"\"\"\n",
    "    def __init__(self, TS):\n",
    "        self.time = list(TS.time)\n",
    "        self.data = list(TS.data)\n",
    "        self.t = 0\n",
    "        self.d = 0\n",
    "    def __next__(self):\n",
    "        if self.t >= len(self.time):\n",
    "            raise StopIteration\n",
    "        \n",
    "        self.t += 1\n",
    "        self.d += 1\n",
    "        return self.time[self.t - 1], self.data[self.d - 1]"
   ]
  },
  {
   "cell_type": "code",
   "execution_count": 99,
   "metadata": {},
   "outputs": [
    {
     "name": "stdout",
     "output_type": "stream",
     "text": [
      "(0.0, 2.0, 9.0, 15.0) (-0.2, -0.4, -0.8, -0.5)\n"
     ]
    }
   ],
   "source": [
    "# first test here\n",
    "time = [ 0.0,  2.0,  9.0,  15.0]\n",
    "data = [-0.2, -0.4, -0.8,  -0.5]\n",
    "t    = TimeSeries(time, data)\n",
    "print(t.time, t.data)"
   ]
  },
  {
   "cell_type": "code",
   "execution_count": 100,
   "metadata": {},
   "outputs": [
    {
     "ename": "ValueError",
     "evalue": "The lists you have supplied are not of equal length.",
     "output_type": "error",
     "traceback": [
      "\u001b[0;31m---------------------------------------------------------------------------\u001b[0m",
      "\u001b[0;31mValueError\u001b[0m                                Traceback (most recent call last)",
      "\u001b[0;32m<ipython-input-100-944c941f7688>\u001b[0m in \u001b[0;36m<module>\u001b[0;34m\u001b[0m\n\u001b[1;32m      2\u001b[0m \u001b[0mtime\u001b[0m \u001b[0;34m=\u001b[0m \u001b[0;34m[\u001b[0m \u001b[0;36m0.0\u001b[0m\u001b[0;34m,\u001b[0m  \u001b[0;36m2.0\u001b[0m\u001b[0;34m,\u001b[0m  \u001b[0;36m9.0\u001b[0m\u001b[0;34m]\u001b[0m\u001b[0;34m\u001b[0m\u001b[0;34m\u001b[0m\u001b[0m\n\u001b[1;32m      3\u001b[0m \u001b[0mdata\u001b[0m \u001b[0;34m=\u001b[0m \u001b[0;34m[\u001b[0m\u001b[0;34m-\u001b[0m\u001b[0;36m0.2\u001b[0m\u001b[0;34m,\u001b[0m \u001b[0;34m-\u001b[0m\u001b[0;36m0.4\u001b[0m\u001b[0;34m,\u001b[0m \u001b[0;34m-\u001b[0m\u001b[0;36m0.8\u001b[0m\u001b[0;34m,\u001b[0m \u001b[0;34m-\u001b[0m \u001b[0;36m0.5\u001b[0m\u001b[0;34m]\u001b[0m\u001b[0;34m\u001b[0m\u001b[0;34m\u001b[0m\u001b[0m\n\u001b[0;32m----> 4\u001b[0;31m \u001b[0mt\u001b[0m    \u001b[0;34m=\u001b[0m \u001b[0mTimeSeries\u001b[0m\u001b[0;34m(\u001b[0m\u001b[0mtime\u001b[0m\u001b[0;34m,\u001b[0m \u001b[0mdata\u001b[0m\u001b[0;34m)\u001b[0m\u001b[0;34m\u001b[0m\u001b[0;34m\u001b[0m\u001b[0m\n\u001b[0m",
      "\u001b[0;32m<ipython-input-98-0613b8262032>\u001b[0m in \u001b[0;36m__init__\u001b[0;34m(self, time, data)\u001b[0m\n\u001b[1;32m     16\u001b[0m     \u001b[0;32mdef\u001b[0m \u001b[0m__init__\u001b[0m\u001b[0;34m(\u001b[0m\u001b[0mself\u001b[0m\u001b[0;34m,\u001b[0m \u001b[0mtime\u001b[0m\u001b[0;34m,\u001b[0m \u001b[0mdata\u001b[0m\u001b[0;34m)\u001b[0m\u001b[0;34m:\u001b[0m\u001b[0;34m\u001b[0m\u001b[0;34m\u001b[0m\u001b[0m\n\u001b[1;32m     17\u001b[0m         \u001b[0;32mif\u001b[0m \u001b[0mlen\u001b[0m\u001b[0;34m(\u001b[0m\u001b[0mtime\u001b[0m\u001b[0;34m)\u001b[0m \u001b[0;34m!=\u001b[0m \u001b[0mlen\u001b[0m\u001b[0;34m(\u001b[0m\u001b[0mdata\u001b[0m\u001b[0;34m)\u001b[0m\u001b[0;34m:\u001b[0m\u001b[0;34m\u001b[0m\u001b[0;34m\u001b[0m\u001b[0m\n\u001b[0;32m---> 18\u001b[0;31m             \u001b[0;32mraise\u001b[0m \u001b[0mValueError\u001b[0m\u001b[0;34m(\u001b[0m\u001b[0;34m\"The lists you have supplied are not of equal length.\"\u001b[0m\u001b[0;34m)\u001b[0m\u001b[0;34m\u001b[0m\u001b[0;34m\u001b[0m\u001b[0m\n\u001b[0m\u001b[1;32m     19\u001b[0m         \u001b[0;32melse\u001b[0m\u001b[0;34m:\u001b[0m\u001b[0;34m\u001b[0m\u001b[0;34m\u001b[0m\u001b[0m\n\u001b[1;32m     20\u001b[0m             \u001b[0mself\u001b[0m\u001b[0;34m.\u001b[0m\u001b[0mtime\u001b[0m \u001b[0;34m=\u001b[0m \u001b[0mtuple\u001b[0m\u001b[0;34m(\u001b[0m\u001b[0mtime\u001b[0m\u001b[0;34m)\u001b[0m\u001b[0;34m\u001b[0m\u001b[0;34m\u001b[0m\u001b[0m\n",
      "\u001b[0;31mValueError\u001b[0m: The lists you have supplied are not of equal length."
     ]
    }
   ],
   "source": [
    "# second test here\n",
    "time = [ 0.0,  2.0,  9.0]\n",
    "data = [-0.2, -0.4, -0.8, - 0.5]\n",
    "t    = TimeSeries(time, data)"
   ]
  },
  {
   "cell_type": "markdown",
   "metadata": {},
   "source": [
    "## Part B (10 points)\n",
    "\n",
    "Now implement useful printing for your class, allowing the user to easily inspect a `TimeSeries` object. Demonstrate that the following test works: \n",
    "\n",
    "```python\n",
    "t = TimeSeries([0.1, 2.5, 3.8], [0.5, -0.2, 0.2])\n",
    "print(t)\n",
    "```\n",
    "\n",
    "```\n",
    "# printed output\n",
    "An object of class TimeSeries\n",
    "time: [0.1 2.5 3.8]\n",
    "data: [ 0.5 -0.2  0.2]\n",
    "\n",
    "# also acceptable\n",
    "An object of class TimeSeries\n",
    "time: [0.1,   2.5,  3.8]\n",
    "data: [0.5,  -0.2,  0.2]\n",
    "```\n",
    "\n",
    "It is not necessary to implement elegant spacing or other cosmetic features, although you are free to do so if you'd like to. Commas in your printed output are acceptable but optional. "
   ]
  },
  {
   "cell_type": "code",
   "execution_count": 101,
   "metadata": {},
   "outputs": [
    {
     "name": "stdout",
     "output_type": "stream",
     "text": [
      "An object of the class TimeSeries \n",
      "time: [0.1, 2.5, 3.8]\n",
      "data: [0.5, -0.2, 0.2]\n"
     ]
    }
   ],
   "source": [
    "# test here\n",
    "t = TimeSeries([0.1, 2.5, 3.8], [0.5, -0.2, 0.2])\n",
    "print(t)"
   ]
  },
  {
   "cell_type": "markdown",
   "metadata": {},
   "source": [
    "## Part C (10 points)\n",
    "\n",
    "Implement *addition* of `TimeSeries` objects. \n",
    "\n",
    "1. It is possible to add two `TimeSeries` objects together only if their `time` instance variables are identical. If they are not, raise an informative `ValueError`. \n",
    "2. If the `time` instance variables are identical, then the result of adding two `TimeSeries` objects is a third `TimeSeries` with the same `time` instance variable and with `data` variable given by the sum of the `data` instance variables of the summands. \n",
    "\n",
    "Demonstrate that the following test works: \n",
    "\n",
    "```python\n",
    "t1 = TimeSeries([0.7, 2.4, 3.3], [0.5, -0.2, 0.2])\n",
    "t2 = TimeSeries([0.7, 2.4, 3.3], [0.2, 0.1, -0.2])\n",
    "t3 = t1 + t2\n",
    "print(t3)\n",
    "```\n",
    "\n",
    "```\n",
    "# printed output\n",
    "\n",
    "An object of class TimeSeries\n",
    "time: [0.7 2.4 3.3]\n",
    "data: [ 0.7 -0.1  0. ]\n",
    "```\n",
    "\n",
    "Demonstrate that this test also works: \n",
    "\n",
    "```python\n",
    "t1 = TimeSeries([0.7, 2.4, 3.3], [0.5, -0.2, 0.2])\n",
    "t2 = TimeSeries([0.0, 1.0, 2.0], [0.2, 0.1, -0.2])\n",
    "t3 = t1 + t2\n",
    "```\n",
    "\n",
    "```\n",
    "# time variables don't match, informative ValueError here\n",
    "```\n",
    "\n",
    "**For full credit, your solution should require no `for`-loops or list comprehensions.** \n",
    "\n",
    "***Hint***: Your user will supply `list` input, but the stored instance variables don't have to be `list`s. It may be helpful to modify the `__init__()` method. "
   ]
  },
  {
   "cell_type": "code",
   "execution_count": 102,
   "metadata": {},
   "outputs": [
    {
     "name": "stdout",
     "output_type": "stream",
     "text": [
      "An object of the class TimeSeries \n",
      "time: [0.7, 2.4, 3.3]\n",
      "data: [0.7, -0.1, 0.0]\n"
     ]
    }
   ],
   "source": [
    "# first test here\n",
    "t1 = TimeSeries([0.7, 2.4, 3.3], [0.5, -0.2, 0.2])\n",
    "t2 = TimeSeries([0.7, 2.4, 3.3], [0.2, 0.1, -0.2])\n",
    "t3 = t1 + t2\n",
    "print(t3)"
   ]
  },
  {
   "cell_type": "code",
   "execution_count": 103,
   "metadata": {},
   "outputs": [
    {
     "ename": "ValueError",
     "evalue": "time lists are not equal",
     "output_type": "error",
     "traceback": [
      "\u001b[0;31m---------------------------------------------------------------------------\u001b[0m",
      "\u001b[0;31mValueError\u001b[0m                                Traceback (most recent call last)",
      "\u001b[0;32m<ipython-input-103-8355c15d0dbe>\u001b[0m in \u001b[0;36m<module>\u001b[0;34m\u001b[0m\n\u001b[1;32m      2\u001b[0m \u001b[0mt1\u001b[0m \u001b[0;34m=\u001b[0m \u001b[0mTimeSeries\u001b[0m\u001b[0;34m(\u001b[0m\u001b[0;34m[\u001b[0m\u001b[0;36m0.7\u001b[0m\u001b[0;34m,\u001b[0m \u001b[0;36m2.4\u001b[0m\u001b[0;34m,\u001b[0m \u001b[0;36m3.3\u001b[0m\u001b[0;34m]\u001b[0m\u001b[0;34m,\u001b[0m \u001b[0;34m[\u001b[0m\u001b[0;36m0.5\u001b[0m\u001b[0;34m,\u001b[0m \u001b[0;34m-\u001b[0m\u001b[0;36m0.2\u001b[0m\u001b[0;34m,\u001b[0m \u001b[0;36m0.2\u001b[0m\u001b[0;34m]\u001b[0m\u001b[0;34m)\u001b[0m\u001b[0;34m\u001b[0m\u001b[0;34m\u001b[0m\u001b[0m\n\u001b[1;32m      3\u001b[0m \u001b[0mt2\u001b[0m \u001b[0;34m=\u001b[0m \u001b[0mTimeSeries\u001b[0m\u001b[0;34m(\u001b[0m\u001b[0;34m[\u001b[0m\u001b[0;36m0.0\u001b[0m\u001b[0;34m,\u001b[0m \u001b[0;36m1.0\u001b[0m\u001b[0;34m,\u001b[0m \u001b[0;36m2.0\u001b[0m\u001b[0;34m]\u001b[0m\u001b[0;34m,\u001b[0m \u001b[0;34m[\u001b[0m\u001b[0;36m0.2\u001b[0m\u001b[0;34m,\u001b[0m \u001b[0;36m0.1\u001b[0m\u001b[0;34m,\u001b[0m \u001b[0;34m-\u001b[0m\u001b[0;36m0.2\u001b[0m\u001b[0;34m]\u001b[0m\u001b[0;34m)\u001b[0m\u001b[0;34m\u001b[0m\u001b[0;34m\u001b[0m\u001b[0m\n\u001b[0;32m----> 4\u001b[0;31m \u001b[0mt3\u001b[0m \u001b[0;34m=\u001b[0m \u001b[0mt1\u001b[0m \u001b[0;34m+\u001b[0m \u001b[0mt2\u001b[0m\u001b[0;34m\u001b[0m\u001b[0;34m\u001b[0m\u001b[0m\n\u001b[0m",
      "\u001b[0;32m<ipython-input-98-0613b8262032>\u001b[0m in \u001b[0;36m__add__\u001b[0;34m(self, other)\u001b[0m\n\u001b[1;32m     27\u001b[0m     \u001b[0;32mdef\u001b[0m \u001b[0m__add__\u001b[0m\u001b[0;34m(\u001b[0m\u001b[0mself\u001b[0m\u001b[0;34m,\u001b[0m \u001b[0mother\u001b[0m\u001b[0;34m)\u001b[0m\u001b[0;34m:\u001b[0m\u001b[0;34m\u001b[0m\u001b[0;34m\u001b[0m\u001b[0m\n\u001b[1;32m     28\u001b[0m         \u001b[0;32mif\u001b[0m \u001b[0mself\u001b[0m\u001b[0;34m.\u001b[0m\u001b[0mtime\u001b[0m \u001b[0;34m!=\u001b[0m \u001b[0mother\u001b[0m\u001b[0;34m.\u001b[0m\u001b[0mtime\u001b[0m\u001b[0;34m:\u001b[0m\u001b[0;34m\u001b[0m\u001b[0;34m\u001b[0m\u001b[0m\n\u001b[0;32m---> 29\u001b[0;31m             \u001b[0;32mraise\u001b[0m \u001b[0mValueError\u001b[0m\u001b[0;34m(\u001b[0m\u001b[0;34m\"time lists are not equal\"\u001b[0m\u001b[0;34m)\u001b[0m\u001b[0;34m\u001b[0m\u001b[0;34m\u001b[0m\u001b[0m\n\u001b[0m\u001b[1;32m     30\u001b[0m         \u001b[0;32melse\u001b[0m\u001b[0;34m:\u001b[0m\u001b[0;34m\u001b[0m\u001b[0;34m\u001b[0m\u001b[0m\n\u001b[1;32m     31\u001b[0m             \u001b[0mdatapairs\u001b[0m \u001b[0;34m=\u001b[0m \u001b[0mzip\u001b[0m\u001b[0;34m(\u001b[0m\u001b[0mself\u001b[0m\u001b[0;34m.\u001b[0m\u001b[0mdata\u001b[0m\u001b[0;34m,\u001b[0m \u001b[0mother\u001b[0m\u001b[0;34m.\u001b[0m\u001b[0mdata\u001b[0m\u001b[0;34m)\u001b[0m\u001b[0;34m\u001b[0m\u001b[0;34m\u001b[0m\u001b[0m\n",
      "\u001b[0;31mValueError\u001b[0m: time lists are not equal"
     ]
    }
   ],
   "source": [
    "# second test here\n",
    "t1 = TimeSeries([0.7, 2.4, 3.3], [0.5, -0.2, 0.2])\n",
    "t2 = TimeSeries([0.0, 1.0, 2.0], [0.2, 0.1, -0.2])\n",
    "t3 = t1 + t2"
   ]
  },
  {
   "cell_type": "markdown",
   "metadata": {},
   "source": [
    "## Part D (20 points)\n",
    "\n",
    "Implement *iteration* for your `TimeSeries` class. Your goal is to make the following code work: \n",
    "\n",
    "```python\n",
    "t1 = TimeSeries([0.0, 2.0, 3.0], [0.5, -0.2, 0.2])\n",
    "for (t, d) in t1:\n",
    "    print(\"time = \" + str(t) + \", data = \" + str(d))\n",
    "```\n",
    "\n",
    "```\n",
    "# printed output\n",
    "time = 0.0, data = 0.5\n",
    "time = 2.0, data = -0.2\n",
    "time = 3.0, data = 0.2\n",
    "```\n",
    "\n",
    "There are multiple good solutions. For full credit, do **not** define `__next__()` inside the `TimeSeries` class. "
   ]
  },
  {
   "cell_type": "code",
   "execution_count": 108,
   "metadata": {},
   "outputs": [
    {
     "name": "stdout",
     "output_type": "stream",
     "text": [
      "time = 0.0, data = 0.5\n",
      "time = 2.0, data = -0.2\n",
      "time = 3.0, data = 0.2\n"
     ]
    }
   ],
   "source": [
    "# test here\n",
    "t1 = TimeSeries([0.0, 2.0, 3.0], [0.5, -0.2, 0.2])\n",
    "for (t, d) in t1:\n",
    "    print(\"time = \" + str(t) + \", data = \" + str(d))"
   ]
  },
  {
   "cell_type": "markdown",
   "metadata": {},
   "source": [
    "## Part (E) (optional, 0 points)\n",
    "\n",
    "If you'd like, you can add a visualization method for your class. Provided that you have solved Part (A), you can add the following code: \n",
    "\n",
    "```python\n",
    "# put this above your class definition\n",
    "from matplotlib import pyplot as plt\n",
    "\n",
    "# include this as a class method\n",
    "def plot(self):\n",
    "    plt.plot(self.time, self.data)\n",
    "    plt.scatter(self.time, self.data)\n",
    "```\n",
    "\n",
    "You can then call the code below to generate a simple plot of a timeseries. "
   ]
  },
  {
   "cell_type": "code",
   "execution_count": 110,
   "metadata": {},
   "outputs": [
    {
     "data": {
      "image/png": "[encoded data removed]",
      "text/plain": [
       "<Figure size 432x288 with 1 Axes>"
      ]
     },
     "metadata": {
      "needs_background": "light"
     },
     "output_type": "display_data"
    }
   ],
   "source": [
    "t1 = TimeSeries([0.0, 2.0, 3.0], [0.5, -0.2, 0.2])\n",
    "t1.plot()"
   ]
  },
  {
   "cell_type": "code",
   "execution_count": null,
   "metadata": {},
   "outputs": [],
   "source": []
  }
 ],
 "metadata": {
  "kernelspec": {
   "display_name": "Python 3",
   "language": "python",
   "name": "python3"
  },
  "language_info": {
   "codemirror_mode": {
    "name": "ipython",
    "version": 3
   },
   "file_extension": ".py",
   "mimetype": "text/x-python",
   "name": "python",
   "nbconvert_exporter": "python",
   "pygments_lexer": "ipython3",
   "version": "3.8.5"
  }
 },
 "nbformat": 4,
 "nbformat_minor": 4
}
