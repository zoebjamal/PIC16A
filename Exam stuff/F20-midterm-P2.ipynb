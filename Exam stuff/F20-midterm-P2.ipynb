{
 "cells": [
  {
   "cell_type": "markdown",
   "metadata": {},
   "source": [
    "# Academic Integrity Statement\n",
    "\n",
    "As a matter of Departmental policy, **we are required to give you a 0** unless you **type your name** after the following statement: \n",
    "\n",
    "> *I certify on my honor that I have neither given nor received any help, or used any non-permitted resources, while completing this evaluation.*\n",
    "\n",
    "\\[TYPE YOUR NAME HERE\\]"
   ]
  },
  {
   "cell_type": "markdown",
   "metadata": {},
   "source": [
    "# PIC16A: Midterm Exam, Problem 2\n",
    "\n",
    "This exam is graded out of 100 points. There are 55 points in Problem 1 and 45 points in Problem 2. Each problem is divided into multiple parts, some of which may be completed independently of others. The exam is intended to require approximately 90 minutes, and may be worked on at any time between the hours of 12:00am and 11:59, Pacific Time, on Friday, October 30th. You are free to work on the exam in excess of 90 minutes during this time period. \n",
    "\n",
    "**Permissible resources**: You may freely use lectures notes and videos; any **pre-existing** online resources; Google; etc. \n",
    "\n",
    "**Impermissible resources**: You may not collaborate with each other or solicit help from any in-person or online resources.\n",
    "\n",
    "**Example:** browsing an online Python forum is fine; posting on the forum is not. \n",
    "\n",
    "### Submission Expectations\n",
    "\n",
    "Each of the two notebooks should be submitted as .pdf files following the usual submission format. You should also include comments and docstrings in your class and function definitions unless stated otherwise. \n",
    "\n",
    "### Partial Credit\n",
    "\n",
    "Let us give you partial credit! \n",
    "\n",
    "1. Are you completely stuck on Part (A)? Can't get your code to run? Breathe, and write down (as a comment or \"docstring\") your approach. What is your idea? What have you tried so far? What is your best guess for what's not working? **We will give you partial credit for these notes**. \n",
    "2. Being stuck on Part (A) doesn't mean you can't do Part (B)! Do your best, and again write down everything you can think of that is relevant. Write the code that you would expect to run if part (A) were working. Explicitly state that you are unable to test your code in (B) because you couldn't get (A) to run. If your answers fully demonstrate understanding of the problem, then you can receive **up to full credit** this way. "
   ]
  },
  {
   "cell_type": "markdown",
   "metadata": {},
   "source": [
    "### Part A (25 points)\n",
    "\n",
    "Review your solution (or the posted solution) to Problem 4 of Homework 1. Repurpose this code to implement a `random_walk` class. This class should:\n",
    "\n",
    "1. Possess a `self.step()` method that causes the walk to move forward or backward. \n",
    "2. Possess a `self.multistep(k_steps=1)` method that causes the walk to take `k_steps` consecutively. \n",
    "3. Possess a `self.plot()` method that plots the walk using the `plot()` function of `matplotlib.pyplot`. You will need to import this module -- check the HW1 solutions to see how. \n",
    "4. Possess instance variables that collect the full history of the positions and step directions of the walk. \n",
    "\n",
    "It is not necessary to incorporate upper and lower bounds this time. \n",
    "\n",
    "Test your class by running the following code and showing the result. \n",
    "\n",
    "```\n",
    "rw = random_walk()\n",
    "rw.multistep(1000000)\n",
    "rw.plot()\n",
    "```\n",
    "\n",
    "Don't forget comments and docstrings!\n",
    "\n",
    "### Your Solution"
   ]
  },
  {
   "cell_type": "code",
   "execution_count": null,
   "metadata": {},
   "outputs": [],
   "source": [
    "# class definition here\n"
   ]
  },
  {
   "cell_type": "code",
   "execution_count": null,
   "metadata": {},
   "outputs": [],
   "source": [
    "# test code -- run but do not modify\n",
    "rw = random_walk()\n",
    "rw.multistep(1000000)\n",
    "rw.plot()"
   ]
  },
  {
   "cell_type": "markdown",
   "metadata": {},
   "source": [
    "### Part B (10 points)\n",
    "\n",
    "Copy/paste your solution from above into the code block below. Implement  `self.__iter__()` and any additional required methods or classes in order to add support for iteration through the positions visited by the walk. For example, the following code should work. \n",
    "\n",
    "```\n",
    "rw = random_walk()\n",
    "rw.multistep(5)\n",
    "\n",
    "for i in rw:\n",
    "    print(i)\n",
    "    \n",
    "0 \n",
    "-1\n",
    "-2\n",
    "-1\n",
    "0\n",
    "1\n",
    "```\n",
    "\n",
    "The printed numbers are the 6 total positions visited by the walk when calling `rw.multistep(5)` (including the initial position of 0). \n",
    "\n",
    "Since we are working with random numbers, your exactly outputs may look different from mine. \n",
    "\n",
    "Test your solution by running the four lines of code below the cell for your class definition. Note: because it's a *random* walk, you won't get exactly the same numbers -- that's ok!\n",
    "\n",
    "It is possible to obtain full credit on this part, even if you did not completely solve Part A. \n",
    "\n",
    "**Note**: There is a long way and a short way to solve this problem. Short solutions will receive full credit; long solutions can receive up to 8/10 points. \n",
    "\n",
    "### Your Solution"
   ]
  },
  {
   "cell_type": "code",
   "execution_count": null,
   "metadata": {},
   "outputs": [],
   "source": [
    "# updated class definition here\n"
   ]
  },
  {
   "cell_type": "code",
   "execution_count": null,
   "metadata": {},
   "outputs": [],
   "source": [
    "# test code -- run this, do not modify\n",
    "rw = random_walk()\n",
    "rw.multistep(5)\n",
    "\n",
    "for i in rw:\n",
    "    print(i)"
   ]
  },
  {
   "cell_type": "markdown",
   "metadata": {},
   "source": [
    "## Part C (10 points)\n",
    "\n",
    "Now, write a *generator* called `rw_generator` that achieves the same looping behavior as your iteration solution for the `random_walk` class. You should be able to use your generator like this: \n",
    "\n",
    "```python\n",
    "for pos in rw_generator(5):\n",
    "    print(pos)\n",
    "```    \n",
    "```\n",
    "0\n",
    "1\n",
    "0\n",
    "-1\n",
    "-2\n",
    "-3\n",
    "```\n",
    "\n",
    "That is, when looping through `rw_generator(5)`, the initial value 0 is always returned. Then, the next value is either one more or one less than the previous value, and these two cases each have 50% probability. Mathematically, this is the same behavior as the object-oriented approach above. \n",
    "\n",
    "As usual, your exact numbers are likely to differ from the above due to randomness. \n",
    "\n",
    "Your generator should be independent of the `random_walk` class (that is, you would be able to use it even if that class were not defined). Additionally, the code for your generator should be **much** shorter than the object-oriented approach. \n",
    "\n",
    "It is possible to obtain full credit on this part, even if you did not completely solve Parts A and B. \n",
    "\n",
    "Comments and docstrings are not required in this part. "
   ]
  },
  {
   "cell_type": "code",
   "execution_count": null,
   "metadata": {},
   "outputs": [],
   "source": [
    "# define your generator here\n"
   ]
  },
  {
   "cell_type": "code",
   "execution_count": null,
   "metadata": {},
   "outputs": [],
   "source": [
    "# test your generator by running this block\n",
    "for pos in rw_generator(5):\n",
    "    print(pos)"
   ]
  },
  {
   "cell_type": "markdown",
   "metadata": {},
   "source": [
    "## Part D (0 points)\n",
    "\n",
    "Generators can be converted into lists via the `list` constructor. This makes it easy to plot the random walk from the generator in the previous part. If you like, you are welcome to see your generator in action for a large random walk by running the code below. "
   ]
  },
  {
   "cell_type": "code",
   "execution_count": null,
   "metadata": {},
   "outputs": [],
   "source": [
    "plt.plot(list(rw_generator(500000)))"
   ]
  }
 ],
 "metadata": {
  "kernelspec": {
   "display_name": "Python 3",
   "language": "python",
   "name": "python3"
  },
  "language_info": {
   "codemirror_mode": {
    "name": "ipython",
    "version": 3
   },
   "file_extension": ".py",
   "mimetype": "text/x-python",
   "name": "python",
   "nbconvert_exporter": "python",
   "pygments_lexer": "ipython3",
   "version": "3.8.3"
  }
 },
 "nbformat": 4,
 "nbformat_minor": 4
}
