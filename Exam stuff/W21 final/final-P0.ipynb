{
 "cells": [
  {
   "cell_type": "markdown",
   "metadata": {},
   "source": [
    "# Problem 0\n",
    "\n",
    "This problem is optional, and does not require you to write any code. \n",
    "\n",
    "If you do not answer this problem, then I will assign your overall grade in PIC16A based on your final average, as computed according to the rubric described in the syllabus. \n",
    "\n",
    "If you do answer this problem, then I will additionally consider how thorough, detailed, and thoughtful your answers are, as well as my professional judgment, when setting your overall course grade. "
   ]
  },
  {
   "cell_type": "markdown",
   "metadata": {},
   "source": [
    "# Part A\n",
    "\n",
    "**Take one of the topics or ideas we studied in PIC16A, and explain how it can be applied to your field of study or intended career.** Provide details on how you will use the material from this course in your future endeavors. Try to give at least two examples. For each one, explain both (a) what you are able to do now and (b) what you need to learn in order to do it even better. \n",
    "\n",
    "***Note***: if you're not sure what your field of study or intended career might be at this stage, that's ok! Just describe some things that interest you and which you might want to work on or learn about in the future. "
   ]
  },
  {
   "cell_type": "markdown",
   "metadata": {},
   "source": [
    "#### Your Response\n"
   ]
  },
  {
   "cell_type": "markdown",
   "metadata": {},
   "source": [
    "# Part B\n",
    "\n",
    "**Describe a time in this course when you struggled to understand/use an idea or tool.** What did you learn from this struggle? How did you eventually overcome this struggle? How will this experience help you in the future? If you feel that you built your persistence, self-confidence, or any other personal trait, you can describe them here. "
   ]
  },
  {
   "cell_type": "markdown",
   "metadata": {},
   "source": [
    "#### Your Response\n"
   ]
  },
  {
   "cell_type": "markdown",
   "metadata": {},
   "source": [
    "# Part C\n",
    "\n",
    "One of the primary objectives of PIC16A was to give you experience in working collaboratively on challenging coding problems. **Discuss how you have improved in your ability to work collaboratively over the course of the quarter.** You might wish to describe particular problems that you worked on, or on memorable moments with your teammates. "
   ]
  },
  {
   "cell_type": "markdown",
   "metadata": {},
   "source": [
    "#### Your Response\n"
   ]
  },
  {
   "cell_type": "markdown",
   "metadata": {},
   "source": [
    "# Part D\n",
    "\n",
    "Suppose for a moment that the syllabus did not specify how your final grade is calculated. Based on what you have learned and achieved this quarter, **what grade do you feel that you have earned?** Share anything that you feel demonstrates your learning in this course. Some possibilities include: \n",
    "\n",
    "- Exceptional work with your group. \n",
    "- Your final self-assessment of your understanding of the content. \n",
    "- Your growth in confidence between the beginning and end of the quarter. \n",
    "- ...\n",
    "\n",
    "Use this space to share anything that will help me give you a final grade that reflects how much you have learned in PIC16A. "
   ]
  },
  {
   "cell_type": "markdown",
   "metadata": {},
   "source": [
    "#### Your Response\n"
   ]
  }
 ],
 "metadata": {
  "kernelspec": {
   "display_name": "Python 3",
   "language": "python",
   "name": "python3"
  },
  "language_info": {
   "codemirror_mode": {
    "name": "ipython",
    "version": 3
   },
   "file_extension": ".py",
   "mimetype": "text/x-python",
   "name": "python",
   "nbconvert_exporter": "python",
   "pygments_lexer": "ipython3",
   "version": "3.8.5"
  }
 },
 "nbformat": 4,
 "nbformat_minor": 4
}
