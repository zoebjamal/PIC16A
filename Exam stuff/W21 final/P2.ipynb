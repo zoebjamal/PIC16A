{
 "cells": [
  {
   "cell_type": "markdown",
   "metadata": {},
   "source": [
    "# Academic Integrity Statement\n",
    "\n",
    "As a matter of Departmental policy, **we are required to give you a 0** unless you **type your name** after the following statement: \n",
    "\n",
    "> *I certify on my honor that I have neither given nor received any help, or used any non-permitted resources, while completing this evaluation.*\n",
    "\n",
    "\\[TYPE YOUR NAME HERE\\]\n",
    "\n",
    "### Partial Credit\n",
    "\n",
    "Let us give you partial credit! If you're stuck on a problem and just can't get your code to run: \n",
    "\n",
    "First, **breathe**. Then, do any or all of the following: \n",
    "    \n",
    "1. Write down everything relevant that you know about the problem, as comments where your code would go. \n",
    "2. If you have non-functioning code that demonstrates some correct ideas, indicate that and keep it (commented out). \n",
    "3. Write down pseudocode (written instructions) outlining your solution approach. \n",
    "\n",
    "In brief, even if you can't quite get your code to work, you can still **show us what you know.**\n"
   ]
  },
  {
   "cell_type": "markdown",
   "metadata": {},
   "source": [
    "# Part A (30 points)\n",
    "\n",
    "In this problem, you will create a visualization of gender representation in artwork in the [Tate Art Museum](https://github.com/tategallery/collection).\n",
    "Run the code block below to acquire and prepare the data. There's a lot of information that I've removed in the data preparation below, including the name of the artist, their birth and death dates, and various details about each piece. You may wish to explore the full data sets later, but for now, I thought you'd prefer to be able to focus on only the columns needed for today. "
   ]
  },
  {
   "cell_type": "code",
   "execution_count": 1,
   "metadata": {},
   "outputs": [],
   "source": [
    "import pandas as pd\n",
    "artwork = pd.read_csv('https://raw.githubusercontent.com/rfordatascience/tidytuesday/master/data/2021/2021-01-12/artwork.csv')\n",
    "artists = pd.read_csv(\"https://github.com/tategallery/collection/raw/master/artist_data.csv\")\n",
    "\n",
    "artwork[\"id\"] = artwork[\"artistId\"]\n",
    "artwork = artwork[[\"id\", \"year\", \"acquisitionYear\", \"title\", \"medium\"]]\n",
    "artists = artists[[\"id\", \"gender\"]]\n",
    "df = pd.merge(artwork, artists)\n",
    "\n",
    "def dimension(med_string):\n",
    "    \"\"\"\n",
    "    Assign a dimension to a given piece of artwork based on the description\n",
    "    of the medium, supplied as a string. \n",
    "    Media that include the words \"paper\", \"canvas\", \"oil\", or \"paint\" are assumed \n",
    "    2D. \n",
    "    Media that are not 2d and include the words \"bronze\", \"stone\", or \"ceramic\" are \n",
    "    assumed 3D. \n",
    "    Otherwise, the media is \"Other/Unknown\"\n",
    "    \n",
    "    @param med_string: str, the original medium\n",
    "    @return dim: one of \"2D\", \"3D\", or \"Other/Unknown\" according to the rules above. \n",
    "    \"\"\"\n",
    "    if type(med_string) != str:\n",
    "        med_string = str(med_string)\n",
    "    med_string = med_string.lower()\n",
    "    if any([w in med_string for w in [\"paper\", \"canvas\", \"oil\", \"paint\"]]):\n",
    "        return \"2D\"\n",
    "    elif any([w in med_string for w in [\"bronze\", \"stone\", \"ceramic\"]]):\n",
    "        return \"3D\"\n",
    "    else:\n",
    "        return \"Other/Unknown\"\n",
    "\n",
    "df[\"dimension\"] = [dimension(m) for m in df[\"medium\"]]\n",
    "df = df[[\"title\",\"acquisitionYear\", \"gender\", \"dimension\"]]"
   ]
  },
  {
   "cell_type": "markdown",
   "metadata": {},
   "source": [
    "- The `title` column gives the title of each piece. \n",
    "- The `acquisitionYear` states the year in which the artwork was acquired by the Tate. \n",
    "- The `gender` column gives the gender of the artist. \n",
    "- The `dimension` column states whether the piece is two-dimensional (like a drawing or a painting) or three-dimensional (like a sculpture or ceramic). This is determined from a more thorough description of the medium using the simple `dimension()` function from above, although a more careful classification might be beneficial. A number of pieces have \"Other/Unknown\" in this column. "
   ]
  },
  {
   "cell_type": "code",
   "execution_count": null,
   "metadata": {},
   "outputs": [],
   "source": [
    "# use this block to inspect the data if you'd like\n"
   ]
  },
  {
   "cell_type": "markdown",
   "metadata": {},
   "source": [
    "\n",
    "#### What You Should Do\n",
    "\n",
    "Create a plot to answer the following question: \n",
    "\n",
    "> How has the amount of artwork **by female artists** increased with time, as a fraction of all artwork owned by the Tate? Are women better represented in the Tate through certain forms of artistic expression than others? \n",
    "\n",
    "To answer this question, create the following plot: \n",
    "\n",
    "<figure class=\"image\" style=\"width:80%\">\n",
    "  <img src=\"https://raw.githubusercontent.com/PhilChodrow/PIC16A/master/_images/art-output.png\" alt=\"\">\n",
    "  <figcaption><i></i></figcaption>\n",
    "</figure>\n",
    "\n",
    "The vertical axis is the percentage of all artwork created by female artists which was acquired on or before the stated date. You may assume that artwork, once acquired, remains permanently with the Tate (i.e. it is not lost or sold).  \n",
    "\n",
    "### Specs\n",
    "\n",
    "- There are multiple good approaches. A solution using a `for`- or `while`-loop can receive up to 27/30 points. For full credit, no explicit loops! \n",
    "- It is not necessary for your output to exactly match mine -- feel free to change colors, modify the labels, etc. However, you should ensure that you include axis labels and the legend. \n",
    "- Comments and docstrings are not necessary in this problem. \n",
    "- You are free to use any Python tools you find helpful in order to create this plot. \n",
    "\n",
    "#### \"What if my plot looks different?\"\n",
    "\n",
    "Your final product should closely resemble the supplied example. You may make reasonable alternative choices that lead your plot to look slightly different in small details. You can receive full credit as long as your result looks quantitatively similar and has the same qualitative interpretation.\n",
    "\n",
    "\n",
    "### Hints\n",
    "\n",
    "- `np.cumsum()`. You'll need to appropriately sort `df` first in order to get a good result. "
   ]
  },
  {
   "cell_type": "code",
   "execution_count": null,
   "metadata": {},
   "outputs": [],
   "source": [
    "# your solution here\n"
   ]
  },
  {
   "cell_type": "markdown",
   "metadata": {},
   "source": [
    "## Part B (5 points)\n",
    "\n",
    "This part is not actually related to Part A above. This part asks you to reflect on dangers related to algorithmic bias in a **hypothetical scenario**.\n",
    "\n",
    "Imagine that you are a wealthy venture capitalist, considering whether to invest in a new tech startup company. The startup is called TNNT (pronounced \"tenant\"). The startup aims to accelerate the speed at which landlords are able to find tenants to rent apartments. The founder claims that their proprietary algorithm can be used to identify \"high-quality,\" reliable applicants to whom landlords would like to rent apartments, while screening out \"low-quality\" applicants. This reduces the number of applications that the landlord will have to read, thus saving the landlord time. The founder hopes that landlords will pay a small fee to use the service.  \n",
    "\n",
    "Here's how the algorithm works: \n",
    "\n",
    "1. Melanie and Xenith submit an application on TNNT.com, providing basic information about their jobs and income. \n",
    "2. TNNT's proprietary algorithm produces a *score* for Melanie and Xenith's application, based on the information they provided. Let's say their score is 0.87. This score is intended to reflect the probability that the landlord will approve their application. \n",
    "3. Only scores above 0.80 are supplied to the landlord for a final decision. So, the landlord will receive and evaluate Melanie and Xenith's application, but not Roberto and Darrell's application which received only a 0.63. \n",
    "\n",
    "The value for the landlord is that they will receive a smaller number of high-quality applications, as measured by the TNNT algorithm. This saves the landlord time. \n",
    "\n",
    "**A few technical details.** The training data for the TNNT algorithm is a large collection of the decisions of landlords from Los Angeles. Each piece of training data includes the name of the applicant(s), information about their job(s), and information about their income. You can think of this information as the predictor data `X`. It also includes an indication about whether the application was ultimately approved by the landlord. You can think of this information as the target data `y`. TNNT collects recent landlord decisions, and uses them to update the model.  \n",
    "\n",
    "Below, please respond briefly to the following questions. **Two sentences each is plenty**, although it's fine if you want to write more. \n",
    "\n",
    "***Note***: the definitions of *measurement bias* and *historical bias* are from Rachel Thomas's [video](https://youtu.be/S-6YGPrmtYc) that we watched for lecture, \"Getting Specific About Algorithmic Bias.\" \n",
    "\n",
    "1. What is a potential source of *measurement bias* in the TNNT algorithm? \n",
    "    - (*Hint*: compare what the founder says the algorithm measures compared to the data the algorithm actually uses). \n",
    "2. What is a potential source of *historical bias* in the TNNT algorithm? \n",
    "    - It is not necessary (though it is perfectly fine) to connect your answer to actual history. You may, for example, assume that people with an odd number of letters in English first name constitute a historically oppressed group, if that will help you explain your example. \n",
    "3. What is an example of a *feedback loop* that might amplify bias in the TNNT algorithm over time? "
   ]
  },
  {
   "cell_type": "markdown",
   "metadata": {},
   "source": [
    "---"
   ]
  },
  {
   "cell_type": "markdown",
   "metadata": {},
   "source": [
    "\\[***Your response here***\\]"
   ]
  },
  {
   "cell_type": "markdown",
   "metadata": {},
   "source": [
    "```\n",
    "```\n",
    "---"
   ]
  }
 ],
 "metadata": {
  "kernelspec": {
   "display_name": "Python 3",
   "language": "python",
   "name": "python3"
  },
  "language_info": {
   "codemirror_mode": {
    "name": "ipython",
    "version": 3
   },
   "file_extension": ".py",
   "mimetype": "text/x-python",
   "name": "python",
   "nbconvert_exporter": "python",
   "pygments_lexer": "ipython3",
   "version": "3.8.5"
  }
 },
 "nbformat": 4,
 "nbformat_minor": 4
}
