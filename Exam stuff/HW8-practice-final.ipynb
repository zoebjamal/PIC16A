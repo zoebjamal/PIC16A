{
 "cells": [
  {
   "cell_type": "markdown",
   "metadata": {},
   "source": [
    "# HW8 - Practice Final Exam\n",
    "\n",
    "The final homework of PIC16B is last quarter's final exam. The purpose is for you to review relevant material from the course, as well as to get a feel for the exam format and difficulty. \n",
    "\n",
    "**Solutions for these problems are already posted**, so that you can study them. There is nothing to stop you from copying and pasting these solutions into your own submission. So, free homework grade! However, actually taking the time to understand and work through these problems is strongly encouraged, and is likely to improve your performance on the final exam. \n",
    "\n",
    "The grader will be grading this homework primarily on completion -- if you submit something that looks complete and vaguely right, you'll get full credit. I've provided the old rubric for problems in which one was stated, but this will not be used in assessing your homework submission. Again, however, it's worth your time to carefully understand the solutions in order to prep for the final. \n",
    "\n",
    "## Problem 0\n",
    "\n",
    "Now is the right time for you to be working with your group to assemble the different pieces of your project and polishg your writeup. \n",
    "\n",
    "## Problem 1 (50 points)\n",
    "\n",
    "Rampant disinformation---often called \"fake news\"---has emerged as one of the fundamental crises over our time. \n",
    "\n",
    "<figure class=\"image\" style=\"width:30%\">\n",
    "  <img src=\"https://s3.amazonaws.com/libapps/accounts/63707/images/21392935.jpg\" alt=\"A portrait of Willy Wonka, wearing a purple suit and brown top hat. His face is condescending. The caption reads: 'Oh, so you read it on the internet? Well then I guess it must be true.'\">\n",
    "  <figcaption><i></i></figcaption>\n",
    "</figure>\n",
    "\n",
    "There is a growing movement for online platforms to regulate fake news. Doing so at scale requires combing through millions of news items every day, making it very expensive to do by hand. Can an algorithm do it instead? \n",
    "\n",
    "The following two URLs each contain part of a data set. \n",
    "\n",
    "- **Fake news items**: `https://raw.githubusercontent.com/PhilChodrow/PIC16A/master/datasets/fake_news/Fake.csv`\n",
    "- **Real news items**: `https://raw.githubusercontent.com/PhilChodrow/PIC16A/master/datasets/fake_news/true.csv`\n",
    "\n",
    "Use the data at these urls to **construct a fake news classifier.** \n",
    "\n",
    "1. Your model must be able to **make predictions** about whether or not an unseen news item is fake or real. \n",
    "2. Because fake news models must be able to make millions of predictions per day, it must be able to make predictions very quickly. More columns mean more computation time. **Your final model should use no more than 50 columns.** \n",
    "\n",
    "You are free to create any columns that you need, and to use any functions that we have or have not covered in the course. You may also use any machine learning model. \n",
    "\n",
    "Please use Markdown headers with \\#\\# signs to clearly distinguish the different stages of your solution. \n",
    "\n",
    "### Requirements\n",
    "\n",
    "1. Any operations that you perform multiple times (such processing that you perform on both the training and test sets) must be contained in function with informative docstrings. Comments and explanations are expected throughout. It is especially important to explain how you chose the columns to use in your final model. \n",
    "2. You should not use for-loops to iterate over the rows of data frames or arrays. \n",
    "3. You must fit your model on the training data, and not use the test data for fitting.\n",
    "\n",
    "### Hints\n",
    "\n",
    "- `pd.concat()` is a good way to combine data frames. \n",
    "- Try fitting a model with as many columns as you want first. See if you can get a representation of which columns are important, and then select your final columns from this list. \n",
    "- In class, we talked about greedy stagewise feature selection and exhaustive enumeration for determining a good set of columns. Neither of these methods are recommended for this problem. \n",
    "- If you want to be creative about your model choice, then please go for it. If you want a safe option, try logistic regression.\n",
    "- If a model takes too long to fit on the full data set, try fitting it on, say, 10% of the data. \n",
    "- You might find the some of the [cheatsheets](https://philchodrow.github.io/PIC16A/resources/) to be helpful. \n",
    "\n",
    "### Rubric\n",
    "\n",
    "- (**15 points**): clearly written code that makes economical use of skills from the course to manipulate data. \n",
    "- (**15 points**): comments, explanatory surrouding text, and docstrings for any functions and classes. \n",
    "- (**20 points**): computed according to the formula `20 x score`, where `score` is your model's prediction performance on unseen data. Models that use more than 50 columns can receive up to 15 of these points. Scores will be rounded up. For example, if you obtain an 84% predictive performance with 50 columns, then the score of `20 x 0.84 = 16.8` will be rounded up to 17 points. "
   ]
  },
  {
   "cell_type": "markdown",
   "metadata": {},
   "source": [
    "# Problem 2 (30 points)\n",
    "\n",
    "## General Note\n",
    "\n",
    "It is possible to solve every part of this problem **without `for`-loops**. While it may be possible to appropriately use `for`-loops in this problem, solutions that use loops to achieve tasks that can be accomplished with `numpy` methods will lose points. \n",
    "\n",
    "You might find the some of the [cheatsheets](https://philchodrow.github.io/PIC16A/resources/) to be helpful. \n"
   ]
  },
  {
   "cell_type": "markdown",
   "metadata": {},
   "source": [
    "## Prologue"
   ]
  },
  {
   "cell_type": "markdown",
   "metadata": {},
   "source": [
    "The following code creates a minimal `baseArray` class that inherits from the basic `numpy` class, `np.ndarray`. \n",
    "\n",
    "The `__new__()` method is related to `__init__()`. It describes what happens when an object is **created**, which occurs *before* that object is **initialized**. Because of the specific way in which `np.ndarray`s are constructed, it is necessary to use `__new__()` rather than `__init__()` in order to inherit from them. Because we did not discuss this in class, I have handled this for you. \n",
    "\n",
    "Run this code now. "
   ]
  },
  {
   "cell_type": "code",
   "execution_count": null,
   "metadata": {},
   "outputs": [],
   "source": [
    "# run this block, do not modify\n",
    "import numpy as np\n",
    "class baseArray(np.ndarray):\n",
    "    def __new__(cls, a):\n",
    "        return np.asarray(a).view(cls)"
   ]
  },
  {
   "cell_type": "markdown",
   "metadata": {},
   "source": [
    "## Part A\n",
    "\n",
    "Write a class called `myArray` which inherits from `baseArray`. Write code required for the following two tests to run without error: \n",
    "\n",
    "```python\n",
    "# first test\n",
    "x = myArray([1, 2, 3])\n",
    "y = myArray([1, 1, 1])\n",
    "x + y \n",
    "```\n",
    "\n",
    "```python\n",
    "# output\n",
    "myArray([2, 3, 4])\n",
    "```\n",
    "\n",
    "```python\n",
    "# second test\n",
    "x[1]\n",
    "```\n",
    "\n",
    "```python\n",
    "# output\n",
    "2\n",
    "```\n",
    "\n",
    "**Hint**: **One** way to do this is using magic methods. "
   ]
  },
  {
   "cell_type": "code",
   "execution_count": null,
   "metadata": {},
   "outputs": [],
   "source": [
    "# your solution here\n"
   ]
  },
  {
   "cell_type": "code",
   "execution_count": null,
   "metadata": {},
   "outputs": [],
   "source": [
    "# first test \n",
    "x = myArray([1, 2, 3])\n",
    "y = myArray([1, 1, 1])\n",
    "x + y "
   ]
  },
  {
   "cell_type": "code",
   "execution_count": null,
   "metadata": {},
   "outputs": [],
   "source": [
    "# second test \n",
    "x[1]"
   ]
  },
  {
   "cell_type": "markdown",
   "metadata": {},
   "source": [
    "## Part B\n",
    "\n",
    "Implement the two tests above as formal unit tests and show that they run without error. It is not necessary to add a docstring to your class itself, but you should include helpful docstrings for each individual test. "
   ]
  },
  {
   "cell_type": "code",
   "execution_count": null,
   "metadata": {},
   "outputs": [],
   "source": [
    "# your unit test class\n"
   ]
  },
  {
   "cell_type": "code",
   "execution_count": null,
   "metadata": {},
   "outputs": [],
   "source": [
    "# demonstrate that your tests pass\n"
   ]
  },
  {
   "cell_type": "markdown",
   "metadata": {},
   "source": [
    "## Part C\n",
    "\n",
    "Implement a basic `Image` class that inherits from `baseArray`. Your `Image` class should accept as an initialization argument a `numpy` array with dimensions `(h, w, 3)`, where `h` and `w` are the height and width of the image in pixels, respectively. The third dimension corresponds to RGB values. All values in this array lie between 0 and 1.\n",
    "You may have seen image arrays like this as returned by the function `matplotlib.image.imread()` previously in the course.  \n",
    "\n",
    "\n",
    "Implement an `__init__()` method for your class that checks these conditions. In detail, you should check: \n",
    "\n",
    "1. That the input is an instance of class `np.ndarray` (including its subclasses). If not, raise an informative `TypeError`. \n",
    "2. That the `shape` of the input is a tuple of 3 elements. If not, raise an informative `ValueError`. \n",
    "3. That the final dimension has length 3. If not, raise an informative `ValueError`. \n",
    "4. That the all entries of the input are between 0 and 1, inclusive. If not, raise an informative `ValueError`. \n",
    "\n",
    "Write simple test cases which demonstrate that your code raises the appropriate exceptions when any of these four conditions are violated. It is not necessary to write formal unit tests -- just attempt to initialize your class using appropriate inputs and show the resulting error messages. \n",
    "\n",
    "At this stage, your class doesn't need any methods other than an initializer. We'll get to the others soon. \n",
    "\n",
    "To emphasize, your class should **not** contain an object of class `baseArray` or `np.ndarray` as an instance variable. Rather, it should **inherit** from `baseArray`. "
   ]
  },
  {
   "cell_type": "code",
   "execution_count": null,
   "metadata": {},
   "outputs": [],
   "source": [
    "# your solution here\n",
    "\n"
   ]
  },
  {
   "cell_type": "code",
   "execution_count": null,
   "metadata": {},
   "outputs": [],
   "source": [
    "# test 1\n"
   ]
  },
  {
   "cell_type": "code",
   "execution_count": null,
   "metadata": {},
   "outputs": [],
   "source": [
    "# test 2\n"
   ]
  },
  {
   "cell_type": "code",
   "execution_count": null,
   "metadata": {},
   "outputs": [],
   "source": [
    "# test 3\n"
   ]
  },
  {
   "cell_type": "code",
   "execution_count": null,
   "metadata": {},
   "outputs": [],
   "source": [
    "# test 4\n"
   ]
  },
  {
   "cell_type": "markdown",
   "metadata": {},
   "source": [
    "# Part D\n",
    "\n",
    "Implement a `show()` method which visualizes the image. For example: \n",
    "\n",
    "```python\n",
    "import matplotlib.image as mpimg \n",
    "url = 'https://raw.githubusercontent.com/PhilChodrow/PIC16A/master/_images/for-loops.png'\n",
    "laforge = mpimg.imread(url)\n",
    "\n",
    "# this line is because the the image is saved in RGBA format\n",
    "# not RGB. This gives it an meaningless 4th value \n",
    "# for each pixel, which we discard.\n",
    "laforge = laforge[:,:,:3]\n",
    "\n",
    "im = Image(laforge)\n",
    "im.show()\n",
    "```\n",
    "\n",
    "should produce \n",
    "\n",
    "<figure class=\"image\" style=\"width:40%\">\n",
    "  <img src=\"https://raw.githubusercontent.com/PhilChodrow/PIC16A/master/_images/for-loops.png\" alt=\"Two images of LeVar Burton as Geordi LaForge in Star Trek: The Next Generation. In one image, he is holding his hand up, palm outward, as though to decline an offered object. In the second, he is pointing and smiling. The first image is captioned 'for-loops on arrays' and the second is captioned 'concise, vectorized code.'\">\n",
    "  <figcaption><i></i></figcaption>\n",
    "</figure>\n",
    "\n",
    "Implement the `show()` method as a clearly labeled addition to your solution from Part C. Then, run the code shown above here in Part D to demonstrate that you achieve the correct result. \n",
    "\n",
    "- **Note**: Your output may look blurry. This is completely fine, but you may adjust the size if desired to fix this. \n",
    "- **Note**: The command `ax.axis(\"off\")` will remove frames and tickmarks from a plotting axis called `ax`. You are not required to do this, but it does look nice. "
   ]
  },
  {
   "cell_type": "code",
   "execution_count": null,
   "metadata": {},
   "outputs": [],
   "source": [
    "# test code\n",
    "\n",
    "import matplotlib.image as mpimg \n",
    "url = 'https://raw.githubusercontent.com/PhilChodrow/PIC16A/master/_images/for-loops.png'\n",
    "laforge = mpimg.imread(url)\n",
    "laforge = laforge[:,:,:3]\n",
    "im = Image(laforge)\n",
    "im.show()"
   ]
  },
  {
   "cell_type": "markdown",
   "metadata": {},
   "source": [
    "## Part E\n",
    "\n",
    "Give your class a method called `frame()`. The `frame()` method should return a new `Image`, in which the original `Image` is wrapped in a \"frame\" of user-specified thickness and color. It should accept two arguments: \n",
    "\n",
    "1. `px`, the thickness of the frame, in pixels\n",
    "2. `color`, the desired color of the frame, as an RGB triple. This should be an `np.ndarray` of shape `(3,)`. \n",
    "\n",
    "The frame should go on the *outside* of the image, so that the entirety of the original image is still visible. \n",
    "\n",
    "No need to copy/paste your class -- just add your method to your class from Part C and then demonstrate it below. Feel free to change the color to your liking. \n",
    "\n",
    "### Example\n",
    "\n",
    "The code\n",
    "\n",
    "```python\n",
    "framed = im.frame(px = 60, color = np.array([0.7, 0.2, 0.8]))\n",
    "framed.show()\n",
    "```\n",
    "\n",
    "should show the image from Part D surrounded by a thick purple frame. "
   ]
  },
  {
   "cell_type": "code",
   "execution_count": null,
   "metadata": {},
   "outputs": [],
   "source": [
    "# test code -- feel free to tweak the color\n",
    "framed = im.frame(px = 60, color = np.array([0.7, 0.2, 0.8]))\n",
    "framed.show()"
   ]
  },
  {
   "cell_type": "markdown",
   "metadata": {},
   "source": [
    "# Problem 3 (20 points)\n",
    "\n",
    "[Berkeley Earth](http://berkeleyearth.org/archive/about/) is an independent nonprofit organization focused on using data science to understand contemporary environmental challenges. They have tabulated a monumental data set with detailed readings of the earth's surface temperature, with readings ranging back to the 1700s in many cases. \n",
    "\n",
    "I have hosted a copy of one of their data sets at the following url: \n",
    "\n",
    "```\n",
    "https://raw.githubusercontent.com/PhilChodrow/PIC16A/master/datasets/global_land_temperatures.csv\n",
    "```\n",
    "\n",
    "The columns of the data include the month in which the temperature was read, the average temperature in that month, the uncertainty in that reading and the country in which the reading was recorded. \n",
    "\n",
    "Create an interesting, professional plot using this data set, and write a paragraph describing your findings. \n",
    "\n",
    "## Requirements\n",
    "\n",
    "- Your plot should make use of either **multiple axes** or **multiple colors** to distinguish between different parts of the data. You can of course use both, but this is not required to receive full credit. \n",
    "- Your plot should include appropriate **labels** and **annotations**. \n",
    "- It is permissible to use **for-loops** to loop over multiple axes or multiple groups within the data (such as countries), but not over individual entries of a data frame. \n",
    "- Your explanation should include **a comment on NA values**, where/when they are most common, and how this could impact the interpretation of your plot.\n",
    "- You are free to **supplement your main figure** with tables and additional figures. In this case, clearly label which figure is the main one. \n",
    "\n",
    "## Hints\n",
    "\n",
    "- You will likely need to use` pandas` techniques to clean and simplify the data. `groupby` and `aggregate` may be useful. \n",
    "- You may need to figure out how to convert the `dt` column into a date that `pandas` can recognize. \n",
    "- You may wish to extract information like the year from the `dt` column.\n",
    "- I found the method `df.reset_index()` useful when working with the results of grouped aggregations. \n",
    "- If you're not sure what to try, here's one possible suggestion. You are free (and encouraged!) to do something different, but a high-quality execution of the below suggestion is enough for full credit.  \n",
    "    - *Plot a trendline for each individual country in \"the background\" (e.g. light gray with transparency), and put the trendline for the overall average across countries in \"the foreground\" (e.g. black or red). Plot data before 1900 on one axis and data after 1900 on the second axis. Discuss the reasons for the rising mean in each of the two cases.*\n",
    "- Other good questions you could try exploring: \n",
    "    - In what countries are temperatures rising the most? \n",
    "    - In what countries are we most confident about the temperature measurements in the 1800s? Are there any countries in which we have few or no measurements?  \n",
    "- Not sure how to transform a column in a particular way? Try to formulate your question as carefully as possible, and Google it! \n",
    "- You might find the some of the [cheatsheets](https://philchodrow.github.io/PIC16A/resources/) to be helpful. "
   ]
  },
  {
   "cell_type": "code",
   "execution_count": null,
   "metadata": {},
   "outputs": [],
   "source": []
  }
 ],
 "metadata": {
  "kernelspec": {
   "display_name": "Python 3",
   "language": "python",
   "name": "python3"
  },
  "language_info": {
   "codemirror_mode": {
    "name": "ipython",
    "version": 3
   },
   "file_extension": ".py",
   "mimetype": "text/x-python",
   "name": "python",
   "nbconvert_exporter": "python",
   "pygments_lexer": "ipython3",
   "version": "3.8.5"
  }
 },
 "nbformat": 4,
 "nbformat_minor": 4
}
